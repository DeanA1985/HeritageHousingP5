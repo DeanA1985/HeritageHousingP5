{
  "cells": [
    {
      "cell_type": "markdown",
      "metadata": {},
      "source": [
        "# Heritage Housing Data Cleaning"
      ]
    },
    {
      "cell_type": "markdown",
      "metadata": {
        "id": "1eLEkw5O0ECa"
      },
      "source": [
        "## Objectives\n",
        "- Load the raw Ames Housing dataset\n",
        "- Clean missing values and drop irrelevant features\n",
        "- Prepare the data for analysis and modeling\n",
        "\n",
        "## Inputs\n",
        "- 'data/raw/house_prices_records.csv' - the unprocessed, original dataset\n",
        "- 'data/raw/inherited_houses.csv' - a supplementary dataset with inherited homes\n",
        "- 'data/processed/cleaned_data.csv' - the final cleaned dataset used for modeling\n",
        "\n",
        "## Outputs\n",
        "- Cleaned dataset with no missing values\n",
        "- Ready-to-use data for exploratory and predictive analysis \n",
        "\n",
        "## Additional Comments\n",
        "\n",
        "* Inherited homes may exhibit different trends, we may later integrate and analyse them separately.\n"
      ]
    },
    {
      "cell_type": "markdown",
      "metadata": {},
      "source": [
        "## Load and inspect the Raw Housing Dataset\n",
        "Before performing analysis or data cleaning, it is essential to assess the completeness of the dataset. Missing values can bias results or reduce the quality of predictions if left unadressed. \n",
        "\n",
        "In this step, we laod the Ames Housing Dataset from the raw source. This dataset includes all recorded residential property transactions. By inspecting the structure and contents of the data, we aim to idenitfy columns that may require cleaning or special treatment in later stages."
      ]
    },
    {
      "cell_type": "code",
      "execution_count": 2,
      "metadata": {},
      "outputs": [
        {
          "data": {
            "text/html": [
              "<div>\n",
              "<style scoped>\n",
              "    .dataframe tbody tr th:only-of-type {\n",
              "        vertical-align: middle;\n",
              "    }\n",
              "\n",
              "    .dataframe tbody tr th {\n",
              "        vertical-align: top;\n",
              "    }\n",
              "\n",
              "    .dataframe thead th {\n",
              "        text-align: right;\n",
              "    }\n",
              "</style>\n",
              "<table border=\"1\" class=\"dataframe\">\n",
              "  <thead>\n",
              "    <tr style=\"text-align: right;\">\n",
              "      <th></th>\n",
              "      <th>1stFlrSF</th>\n",
              "      <th>2ndFlrSF</th>\n",
              "      <th>BedroomAbvGr</th>\n",
              "      <th>BsmtExposure</th>\n",
              "      <th>BsmtFinSF1</th>\n",
              "      <th>BsmtFinType1</th>\n",
              "      <th>BsmtUnfSF</th>\n",
              "      <th>EnclosedPorch</th>\n",
              "      <th>GarageArea</th>\n",
              "      <th>GarageFinish</th>\n",
              "      <th>...</th>\n",
              "      <th>LotFrontage</th>\n",
              "      <th>MasVnrArea</th>\n",
              "      <th>OpenPorchSF</th>\n",
              "      <th>OverallCond</th>\n",
              "      <th>OverallQual</th>\n",
              "      <th>TotalBsmtSF</th>\n",
              "      <th>WoodDeckSF</th>\n",
              "      <th>YearBuilt</th>\n",
              "      <th>YearRemodAdd</th>\n",
              "      <th>SalePrice</th>\n",
              "    </tr>\n",
              "  </thead>\n",
              "  <tbody>\n",
              "    <tr>\n",
              "      <th>0</th>\n",
              "      <td>856</td>\n",
              "      <td>854.0</td>\n",
              "      <td>3.0</td>\n",
              "      <td>No</td>\n",
              "      <td>706</td>\n",
              "      <td>GLQ</td>\n",
              "      <td>150</td>\n",
              "      <td>0.0</td>\n",
              "      <td>548</td>\n",
              "      <td>RFn</td>\n",
              "      <td>...</td>\n",
              "      <td>65.0</td>\n",
              "      <td>196.0</td>\n",
              "      <td>61</td>\n",
              "      <td>5</td>\n",
              "      <td>7</td>\n",
              "      <td>856</td>\n",
              "      <td>0.0</td>\n",
              "      <td>2003</td>\n",
              "      <td>2003</td>\n",
              "      <td>208500</td>\n",
              "    </tr>\n",
              "    <tr>\n",
              "      <th>1</th>\n",
              "      <td>1262</td>\n",
              "      <td>0.0</td>\n",
              "      <td>3.0</td>\n",
              "      <td>Gd</td>\n",
              "      <td>978</td>\n",
              "      <td>ALQ</td>\n",
              "      <td>284</td>\n",
              "      <td>NaN</td>\n",
              "      <td>460</td>\n",
              "      <td>RFn</td>\n",
              "      <td>...</td>\n",
              "      <td>80.0</td>\n",
              "      <td>0.0</td>\n",
              "      <td>0</td>\n",
              "      <td>8</td>\n",
              "      <td>6</td>\n",
              "      <td>1262</td>\n",
              "      <td>NaN</td>\n",
              "      <td>1976</td>\n",
              "      <td>1976</td>\n",
              "      <td>181500</td>\n",
              "    </tr>\n",
              "    <tr>\n",
              "      <th>2</th>\n",
              "      <td>920</td>\n",
              "      <td>866.0</td>\n",
              "      <td>3.0</td>\n",
              "      <td>Mn</td>\n",
              "      <td>486</td>\n",
              "      <td>GLQ</td>\n",
              "      <td>434</td>\n",
              "      <td>0.0</td>\n",
              "      <td>608</td>\n",
              "      <td>RFn</td>\n",
              "      <td>...</td>\n",
              "      <td>68.0</td>\n",
              "      <td>162.0</td>\n",
              "      <td>42</td>\n",
              "      <td>5</td>\n",
              "      <td>7</td>\n",
              "      <td>920</td>\n",
              "      <td>NaN</td>\n",
              "      <td>2001</td>\n",
              "      <td>2002</td>\n",
              "      <td>223500</td>\n",
              "    </tr>\n",
              "    <tr>\n",
              "      <th>3</th>\n",
              "      <td>961</td>\n",
              "      <td>NaN</td>\n",
              "      <td>NaN</td>\n",
              "      <td>No</td>\n",
              "      <td>216</td>\n",
              "      <td>ALQ</td>\n",
              "      <td>540</td>\n",
              "      <td>NaN</td>\n",
              "      <td>642</td>\n",
              "      <td>Unf</td>\n",
              "      <td>...</td>\n",
              "      <td>60.0</td>\n",
              "      <td>0.0</td>\n",
              "      <td>35</td>\n",
              "      <td>5</td>\n",
              "      <td>7</td>\n",
              "      <td>756</td>\n",
              "      <td>NaN</td>\n",
              "      <td>1915</td>\n",
              "      <td>1970</td>\n",
              "      <td>140000</td>\n",
              "    </tr>\n",
              "    <tr>\n",
              "      <th>4</th>\n",
              "      <td>1145</td>\n",
              "      <td>NaN</td>\n",
              "      <td>4.0</td>\n",
              "      <td>Av</td>\n",
              "      <td>655</td>\n",
              "      <td>GLQ</td>\n",
              "      <td>490</td>\n",
              "      <td>0.0</td>\n",
              "      <td>836</td>\n",
              "      <td>RFn</td>\n",
              "      <td>...</td>\n",
              "      <td>84.0</td>\n",
              "      <td>350.0</td>\n",
              "      <td>84</td>\n",
              "      <td>5</td>\n",
              "      <td>8</td>\n",
              "      <td>1145</td>\n",
              "      <td>NaN</td>\n",
              "      <td>2000</td>\n",
              "      <td>2000</td>\n",
              "      <td>250000</td>\n",
              "    </tr>\n",
              "  </tbody>\n",
              "</table>\n",
              "<p>5 rows × 24 columns</p>\n",
              "</div>"
            ],
            "text/plain": [
              "   1stFlrSF  2ndFlrSF  BedroomAbvGr BsmtExposure  BsmtFinSF1 BsmtFinType1  \\\n",
              "0       856     854.0           3.0           No         706          GLQ   \n",
              "1      1262       0.0           3.0           Gd         978          ALQ   \n",
              "2       920     866.0           3.0           Mn         486          GLQ   \n",
              "3       961       NaN           NaN           No         216          ALQ   \n",
              "4      1145       NaN           4.0           Av         655          GLQ   \n",
              "\n",
              "   BsmtUnfSF  EnclosedPorch  GarageArea GarageFinish  ...  LotFrontage  \\\n",
              "0        150            0.0         548          RFn  ...         65.0   \n",
              "1        284            NaN         460          RFn  ...         80.0   \n",
              "2        434            0.0         608          RFn  ...         68.0   \n",
              "3        540            NaN         642          Unf  ...         60.0   \n",
              "4        490            0.0         836          RFn  ...         84.0   \n",
              "\n",
              "   MasVnrArea OpenPorchSF  OverallCond  OverallQual  TotalBsmtSF  WoodDeckSF  \\\n",
              "0       196.0          61            5            7          856         0.0   \n",
              "1         0.0           0            8            6         1262         NaN   \n",
              "2       162.0          42            5            7          920         NaN   \n",
              "3         0.0          35            5            7          756         NaN   \n",
              "4       350.0          84            5            8         1145         NaN   \n",
              "\n",
              "   YearBuilt  YearRemodAdd  SalePrice  \n",
              "0       2003          2003     208500  \n",
              "1       1976          1976     181500  \n",
              "2       2001          2002     223500  \n",
              "3       1915          1970     140000  \n",
              "4       2000          2000     250000  \n",
              "\n",
              "[5 rows x 24 columns]"
            ]
          },
          "execution_count": 2,
          "metadata": {},
          "output_type": "execute_result"
        }
      ],
      "source": [
        "# Import required libraries \n",
        "import pandas as pd \n",
        "\n",
        "# Load the raw housing dataset\n",
        "df = pd.read_csv(\"../data/raw/house_prices_records.csv\")\n",
        "\n",
        "# Display the first few rows\n",
        "df.head()"
      ]
    },
    {
      "cell_type": "markdown",
      "metadata": {},
      "source": [
        "### Filter Dataset to Inherited Houses\n",
        "\n",
        "In order to focus the analysis on the inherited properties it is essential to isolate the relevant records from the full dataset (house_prices_records.csv). The subset of interest is provided in a separate file (inherited houses.csv), which contains rows corresponding to the inherited properties.\n",
        "\n",
        "Since the inherited subset does not include a unique identifier (e.g., Id), we adopt a row-wise alignment strategy:\n",
        "\n",
        "- A temporary index column (row_id) is assigned to both the full dataset (house_prices_records.csv) and the inherited subset (inherited_houses.csv)\n",
        "\n",
        "- Using these indices we filter the full dataset to retain only the rows that matched the inherited subset.\n",
        "\n",
        "- The temporary index column is removed post filtering to preserve data integrity.\n",
        "\n",
        "This approach ensures that the resulting DataFrame (df_inherited_full) containes only the inherited house records, which will be used for further data cleaning and exploratory analysis. "
      ]
    },
    {
      "cell_type": "code",
      "execution_count": 3,
      "metadata": {},
      "outputs": [
        {
          "name": "stdout",
          "output_type": "stream",
          "text": [
            "Inherited dataset shape (4, 24)\n"
          ]
        },
        {
          "data": {
            "text/html": [
              "<div>\n",
              "<style scoped>\n",
              "    .dataframe tbody tr th:only-of-type {\n",
              "        vertical-align: middle;\n",
              "    }\n",
              "\n",
              "    .dataframe tbody tr th {\n",
              "        vertical-align: top;\n",
              "    }\n",
              "\n",
              "    .dataframe thead th {\n",
              "        text-align: right;\n",
              "    }\n",
              "</style>\n",
              "<table border=\"1\" class=\"dataframe\">\n",
              "  <thead>\n",
              "    <tr style=\"text-align: right;\">\n",
              "      <th></th>\n",
              "      <th>1stFlrSF</th>\n",
              "      <th>2ndFlrSF</th>\n",
              "      <th>BedroomAbvGr</th>\n",
              "      <th>BsmtExposure</th>\n",
              "      <th>BsmtFinSF1</th>\n",
              "      <th>BsmtFinType1</th>\n",
              "      <th>BsmtUnfSF</th>\n",
              "      <th>EnclosedPorch</th>\n",
              "      <th>GarageArea</th>\n",
              "      <th>GarageFinish</th>\n",
              "      <th>...</th>\n",
              "      <th>LotFrontage</th>\n",
              "      <th>MasVnrArea</th>\n",
              "      <th>OpenPorchSF</th>\n",
              "      <th>OverallCond</th>\n",
              "      <th>OverallQual</th>\n",
              "      <th>TotalBsmtSF</th>\n",
              "      <th>WoodDeckSF</th>\n",
              "      <th>YearBuilt</th>\n",
              "      <th>YearRemodAdd</th>\n",
              "      <th>SalePrice</th>\n",
              "    </tr>\n",
              "  </thead>\n",
              "  <tbody>\n",
              "    <tr>\n",
              "      <th>0</th>\n",
              "      <td>856</td>\n",
              "      <td>854.0</td>\n",
              "      <td>3.0</td>\n",
              "      <td>No</td>\n",
              "      <td>706</td>\n",
              "      <td>GLQ</td>\n",
              "      <td>150</td>\n",
              "      <td>0.0</td>\n",
              "      <td>548</td>\n",
              "      <td>RFn</td>\n",
              "      <td>...</td>\n",
              "      <td>65.0</td>\n",
              "      <td>196.0</td>\n",
              "      <td>61</td>\n",
              "      <td>5</td>\n",
              "      <td>7</td>\n",
              "      <td>856</td>\n",
              "      <td>0.0</td>\n",
              "      <td>2003</td>\n",
              "      <td>2003</td>\n",
              "      <td>208500</td>\n",
              "    </tr>\n",
              "    <tr>\n",
              "      <th>1</th>\n",
              "      <td>1262</td>\n",
              "      <td>0.0</td>\n",
              "      <td>3.0</td>\n",
              "      <td>Gd</td>\n",
              "      <td>978</td>\n",
              "      <td>ALQ</td>\n",
              "      <td>284</td>\n",
              "      <td>NaN</td>\n",
              "      <td>460</td>\n",
              "      <td>RFn</td>\n",
              "      <td>...</td>\n",
              "      <td>80.0</td>\n",
              "      <td>0.0</td>\n",
              "      <td>0</td>\n",
              "      <td>8</td>\n",
              "      <td>6</td>\n",
              "      <td>1262</td>\n",
              "      <td>NaN</td>\n",
              "      <td>1976</td>\n",
              "      <td>1976</td>\n",
              "      <td>181500</td>\n",
              "    </tr>\n",
              "    <tr>\n",
              "      <th>2</th>\n",
              "      <td>920</td>\n",
              "      <td>866.0</td>\n",
              "      <td>3.0</td>\n",
              "      <td>Mn</td>\n",
              "      <td>486</td>\n",
              "      <td>GLQ</td>\n",
              "      <td>434</td>\n",
              "      <td>0.0</td>\n",
              "      <td>608</td>\n",
              "      <td>RFn</td>\n",
              "      <td>...</td>\n",
              "      <td>68.0</td>\n",
              "      <td>162.0</td>\n",
              "      <td>42</td>\n",
              "      <td>5</td>\n",
              "      <td>7</td>\n",
              "      <td>920</td>\n",
              "      <td>NaN</td>\n",
              "      <td>2001</td>\n",
              "      <td>2002</td>\n",
              "      <td>223500</td>\n",
              "    </tr>\n",
              "    <tr>\n",
              "      <th>3</th>\n",
              "      <td>961</td>\n",
              "      <td>NaN</td>\n",
              "      <td>NaN</td>\n",
              "      <td>No</td>\n",
              "      <td>216</td>\n",
              "      <td>ALQ</td>\n",
              "      <td>540</td>\n",
              "      <td>NaN</td>\n",
              "      <td>642</td>\n",
              "      <td>Unf</td>\n",
              "      <td>...</td>\n",
              "      <td>60.0</td>\n",
              "      <td>0.0</td>\n",
              "      <td>35</td>\n",
              "      <td>5</td>\n",
              "      <td>7</td>\n",
              "      <td>756</td>\n",
              "      <td>NaN</td>\n",
              "      <td>1915</td>\n",
              "      <td>1970</td>\n",
              "      <td>140000</td>\n",
              "    </tr>\n",
              "  </tbody>\n",
              "</table>\n",
              "<p>4 rows × 24 columns</p>\n",
              "</div>"
            ],
            "text/plain": [
              "   1stFlrSF  2ndFlrSF  BedroomAbvGr BsmtExposure  BsmtFinSF1 BsmtFinType1  \\\n",
              "0       856     854.0           3.0           No         706          GLQ   \n",
              "1      1262       0.0           3.0           Gd         978          ALQ   \n",
              "2       920     866.0           3.0           Mn         486          GLQ   \n",
              "3       961       NaN           NaN           No         216          ALQ   \n",
              "\n",
              "   BsmtUnfSF  EnclosedPorch  GarageArea GarageFinish  ...  LotFrontage  \\\n",
              "0        150            0.0         548          RFn  ...         65.0   \n",
              "1        284            NaN         460          RFn  ...         80.0   \n",
              "2        434            0.0         608          RFn  ...         68.0   \n",
              "3        540            NaN         642          Unf  ...         60.0   \n",
              "\n",
              "   MasVnrArea OpenPorchSF  OverallCond  OverallQual  TotalBsmtSF  WoodDeckSF  \\\n",
              "0       196.0          61            5            7          856         0.0   \n",
              "1         0.0           0            8            6         1262         NaN   \n",
              "2       162.0          42            5            7          920         NaN   \n",
              "3         0.0          35            5            7          756         NaN   \n",
              "\n",
              "   YearBuilt  YearRemodAdd  SalePrice  \n",
              "0       2003          2003     208500  \n",
              "1       1976          1976     181500  \n",
              "2       2001          2002     223500  \n",
              "3       1915          1970     140000  \n",
              "\n",
              "[4 rows x 24 columns]"
            ]
          },
          "execution_count": 3,
          "metadata": {},
          "output_type": "execute_result"
        }
      ],
      "source": [
        "import pandas as pd \n",
        "\n",
        "# Load the full house dataset\n",
        "df_all = pd.read_csv(\"../data/raw/house_prices_records.csv\")\n",
        "\n",
        "# Load the list of inherited houses\n",
        "df_inherited = pd.read_csv(\"../data/raw/inherited_houses.csv\")\n",
        "\n",
        "# Add a row index to both datasets\n",
        "df_all[\"row_id\"] = df_all.index\n",
        "df_inherited[\"row_id\"] = df_inherited.index\n",
        "\n",
        "# Use the row_id to filter matching rows\n",
        "df_inherited_full = df_all[df_all[\"row_id\"].isin(df_inherited[\"row_id\"])]\n",
        "\n",
        "# Drop the temporary row_id\n",
        "df_inherited_full = df_inherited_full.drop(columns=[\"row_id\"])\n",
        "\n",
        "# Confirm shape and preview\n",
        "print(\"Inherited dataset shape\", df_inherited_full.shape)\n",
        "df_inherited_full.head()\n",
        "\n",
        "\n"
      ]
    },
    {
      "cell_type": "markdown",
      "metadata": {},
      "source": [
        "## Assess Missing Data in Inherited Houses Dataset\n",
        "\n",
        "As part of our data cleaning process, we evaluate the filtered dataset containing only the inherited houses to identify any missing values.\n",
        "\n",
        "Missing data can lead to biased predictions if not handled properly. By identifying which variables have null values, we can determine appropriate strategies (e.g. imputation or removal) in the following steps.\n",
        "\n",
        "The output below lists all features in the inherited dataset that contain one or more missing values, sorted by the number of missing entries. This is crucial before performing any statistical analysis or model building."
      ]
    },
    {
      "cell_type": "code",
      "execution_count": 4,
      "metadata": {},
      "outputs": [
        {
          "data": {
            "text/plain": [
              "WoodDeckSF       3\n",
              "EnclosedPorch    2\n",
              "BedroomAbvGr     1\n",
              "2ndFlrSF         1\n",
              "dtype: int64"
            ]
          },
          "execution_count": 4,
          "metadata": {},
          "output_type": "execute_result"
        }
      ],
      "source": [
        "# Show missing values in the inherited houses dataset\n",
        "missing = df_inherited_full.isnull().sum()\n",
        "missing[missing > 0].sort_values(ascending=False)"
      ]
    },
    {
      "cell_type": "markdown",
      "metadata": {},
      "source": [
        "### Clean Missing Values \n",
        "\n",
        "To ensure our dataset is suitable for analysis an machine learning, we address the issue of missing values. \n",
        "\n",
        "**Approach**\n",
        "\n",
        "- **Drop columns** like 'EnclosedPorch', 'WoodDeckSF', and 'LotFrontage' that have too many missing entries to justify imputation.\n",
        "- For **categorical variables** (e.g., 'GarageFinish', 'BsmtFinType1'), we fill missing values with '\"None\"' to indicate the absence of a feature.\n",
        "- For **numerical variables** (e.g., 'BedroomAbvGr', 'GarageYrBlt'), we use **median** value of the column for imputation. This is a robust measure that limits the influence of outliers.\n",
        "\n",
        "This process ensures the cleaned dataset maintains its integrity, prevents model bias and supports consistent training without runtime errors."
      ]
    },
    {
      "cell_type": "code",
      "execution_count": 5,
      "metadata": {},
      "outputs": [
        {
          "data": {
            "text/plain": [
              "2ndFlrSF        86\n",
              "BsmtExposure    38\n",
              "MasVnrArea       8\n",
              "BedroomAbvGr     0\n",
              "1stFlrSF         0\n",
              "BsmtFinSF1       0\n",
              "BsmtFinType1     0\n",
              "GarageArea       0\n",
              "BsmtUnfSF        0\n",
              "GarageYrBlt      0\n",
              "dtype: int64"
            ]
          },
          "execution_count": 5,
          "metadata": {},
          "output_type": "execute_result"
        }
      ],
      "source": [
        "# Drop columns with too many missing values \n",
        "df = df.drop(columns=[\"EnclosedPorch\", \"WoodDeckSF\", \"LotFrontage\"])\n",
        "\n",
        "# Fill missing values for categorical columns with 'None'\n",
        "df[\"GarageFinish\"] = df[\"GarageFinish\"].fillna(\"None\")\n",
        "df[\"BsmtFinType1\"] = df[\"BsmtFinType1\"].fillna(\"None\")\n",
        "\n",
        "# Fill missing values for numerical columns with the median value\n",
        "df[\"BedroomAbvGr\"] = df[\"BedroomAbvGr\"].fillna(df[\"BedroomAbvGr\"].median())\n",
        "df[\"GarageYrBlt\"] = df[\"GarageYrBlt\"].fillna(df[\"GarageYrBlt\"].median())\n",
        "\n",
        "# Check remaining missing values in the dataset\n",
        "df.isnull().sum().sort_values(ascending=False).head(10)"
      ]
    },
    {
      "cell_type": "markdown",
      "metadata": {},
      "source": [
        "### Handle Remaining Missing Values \n",
        "\n",
        "To ensure the dataset is fully complete and safe for modeling, we address the remaining missing values using tailored imputation strategies:\n",
        "\n",
        "- **Numerical columns** are filled with the **median**, which is robust to outliers and helps maintain data integrity.\n",
        "\n",
        "- **Categorical columns** (like 'BsmtExposure') are filled with \"None\" to preserve the structure of the data without introducing bias.\n",
        "\n",
        "This step is critical to prevent issues during model training and ensures that all the columns in the dataset are ready for further processing and analysis."
      ]
    },
    {
      "cell_type": "code",
      "execution_count": 6,
      "metadata": {},
      "outputs": [
        {
          "data": {
            "text/plain": [
              "1stFlrSF        0\n",
              "2ndFlrSF        0\n",
              "BedroomAbvGr    0\n",
              "BsmtExposure    0\n",
              "BsmtFinSF1      0\n",
              "BsmtFinType1    0\n",
              "BsmtUnfSF       0\n",
              "GarageArea      0\n",
              "GarageFinish    0\n",
              "GarageYrBlt     0\n",
              "dtype: int64"
            ]
          },
          "execution_count": 6,
          "metadata": {},
          "output_type": "execute_result"
        }
      ],
      "source": [
        "# Fill missing numerical columns with median\n",
        "df[\"2ndFlrSF\"] = df[\"2ndFlrSF\"].fillna(df[\"2ndFlrSF\"].median())\n",
        "df[\"1stFlrSF\"] = df[\"1stFlrSF\"].fillna(df[\"1stFlrSF\"].median())\n",
        "df[\"BsmtExposure\"] = df[\"BsmtExposure\"].fillna(\"None\")\n",
        "df[\"MasVnrArea\"] = df[\"MasVnrArea\"].fillna(df[\"MasVnrArea\"].median())\n",
        "df[\"GarageArea\"] = df[\"GarageArea\"].fillna(df[\"GarageArea\"].median())\n",
        "df[\"BsmtFinSF1\"] = df[\"BsmtFinSF1\"].fillna(df[\"BsmtFinSF1\"].median())\n",
        "\n",
        "# Final check for any remaining missing values\n",
        "df.isnull().sum().sort_values(ascending=False).head(10)"
      ]
    },
    {
      "cell_type": "markdown",
      "metadata": {},
      "source": [
        "### Save and Reload Cleaned Dataset\n",
        "\n",
        "After completing the data cleaning process, we save the refined dataset to a new CSV file within the 'processed' folder. This allows for consistent reuse of the cleaned data in the later stages without repeating the cleaning steps.\n",
        "\n",
        "We set 'index=False' to prevent pandas from wiritng the index as an additional column, preserving the structure of the original data.\n",
        "\n",
        "We then reload the cleaned dataset to initiate the EDA phase. Previewing the dataset here helps confirm that the cleaning operation was successful and allows us to start identifying patterns and relationships for modelling. "
      ]
    },
    {
      "cell_type": "code",
      "execution_count": 7,
      "metadata": {},
      "outputs": [
        {
          "data": {
            "text/html": [
              "<div>\n",
              "<style scoped>\n",
              "    .dataframe tbody tr th:only-of-type {\n",
              "        vertical-align: middle;\n",
              "    }\n",
              "\n",
              "    .dataframe tbody tr th {\n",
              "        vertical-align: top;\n",
              "    }\n",
              "\n",
              "    .dataframe thead th {\n",
              "        text-align: right;\n",
              "    }\n",
              "</style>\n",
              "<table border=\"1\" class=\"dataframe\">\n",
              "  <thead>\n",
              "    <tr style=\"text-align: right;\">\n",
              "      <th></th>\n",
              "      <th>1stFlrSF</th>\n",
              "      <th>2ndFlrSF</th>\n",
              "      <th>BedroomAbvGr</th>\n",
              "      <th>BsmtExposure</th>\n",
              "      <th>BsmtFinSF1</th>\n",
              "      <th>BsmtFinType1</th>\n",
              "      <th>BsmtUnfSF</th>\n",
              "      <th>GarageArea</th>\n",
              "      <th>GarageFinish</th>\n",
              "      <th>GarageYrBlt</th>\n",
              "      <th>...</th>\n",
              "      <th>KitchenQual</th>\n",
              "      <th>LotArea</th>\n",
              "      <th>MasVnrArea</th>\n",
              "      <th>OpenPorchSF</th>\n",
              "      <th>OverallCond</th>\n",
              "      <th>OverallQual</th>\n",
              "      <th>TotalBsmtSF</th>\n",
              "      <th>YearBuilt</th>\n",
              "      <th>YearRemodAdd</th>\n",
              "      <th>SalePrice</th>\n",
              "    </tr>\n",
              "  </thead>\n",
              "  <tbody>\n",
              "    <tr>\n",
              "      <th>0</th>\n",
              "      <td>856</td>\n",
              "      <td>854.0</td>\n",
              "      <td>3.0</td>\n",
              "      <td>No</td>\n",
              "      <td>706</td>\n",
              "      <td>GLQ</td>\n",
              "      <td>150</td>\n",
              "      <td>548</td>\n",
              "      <td>RFn</td>\n",
              "      <td>2003.0</td>\n",
              "      <td>...</td>\n",
              "      <td>Gd</td>\n",
              "      <td>8450</td>\n",
              "      <td>196.0</td>\n",
              "      <td>61</td>\n",
              "      <td>5</td>\n",
              "      <td>7</td>\n",
              "      <td>856</td>\n",
              "      <td>2003</td>\n",
              "      <td>2003</td>\n",
              "      <td>208500</td>\n",
              "    </tr>\n",
              "    <tr>\n",
              "      <th>1</th>\n",
              "      <td>1262</td>\n",
              "      <td>0.0</td>\n",
              "      <td>3.0</td>\n",
              "      <td>Gd</td>\n",
              "      <td>978</td>\n",
              "      <td>ALQ</td>\n",
              "      <td>284</td>\n",
              "      <td>460</td>\n",
              "      <td>RFn</td>\n",
              "      <td>1976.0</td>\n",
              "      <td>...</td>\n",
              "      <td>TA</td>\n",
              "      <td>9600</td>\n",
              "      <td>0.0</td>\n",
              "      <td>0</td>\n",
              "      <td>8</td>\n",
              "      <td>6</td>\n",
              "      <td>1262</td>\n",
              "      <td>1976</td>\n",
              "      <td>1976</td>\n",
              "      <td>181500</td>\n",
              "    </tr>\n",
              "    <tr>\n",
              "      <th>2</th>\n",
              "      <td>920</td>\n",
              "      <td>866.0</td>\n",
              "      <td>3.0</td>\n",
              "      <td>Mn</td>\n",
              "      <td>486</td>\n",
              "      <td>GLQ</td>\n",
              "      <td>434</td>\n",
              "      <td>608</td>\n",
              "      <td>RFn</td>\n",
              "      <td>2001.0</td>\n",
              "      <td>...</td>\n",
              "      <td>Gd</td>\n",
              "      <td>11250</td>\n",
              "      <td>162.0</td>\n",
              "      <td>42</td>\n",
              "      <td>5</td>\n",
              "      <td>7</td>\n",
              "      <td>920</td>\n",
              "      <td>2001</td>\n",
              "      <td>2002</td>\n",
              "      <td>223500</td>\n",
              "    </tr>\n",
              "    <tr>\n",
              "      <th>3</th>\n",
              "      <td>961</td>\n",
              "      <td>0.0</td>\n",
              "      <td>3.0</td>\n",
              "      <td>No</td>\n",
              "      <td>216</td>\n",
              "      <td>ALQ</td>\n",
              "      <td>540</td>\n",
              "      <td>642</td>\n",
              "      <td>Unf</td>\n",
              "      <td>1998.0</td>\n",
              "      <td>...</td>\n",
              "      <td>Gd</td>\n",
              "      <td>9550</td>\n",
              "      <td>0.0</td>\n",
              "      <td>35</td>\n",
              "      <td>5</td>\n",
              "      <td>7</td>\n",
              "      <td>756</td>\n",
              "      <td>1915</td>\n",
              "      <td>1970</td>\n",
              "      <td>140000</td>\n",
              "    </tr>\n",
              "    <tr>\n",
              "      <th>4</th>\n",
              "      <td>1145</td>\n",
              "      <td>0.0</td>\n",
              "      <td>4.0</td>\n",
              "      <td>Av</td>\n",
              "      <td>655</td>\n",
              "      <td>GLQ</td>\n",
              "      <td>490</td>\n",
              "      <td>836</td>\n",
              "      <td>RFn</td>\n",
              "      <td>2000.0</td>\n",
              "      <td>...</td>\n",
              "      <td>Gd</td>\n",
              "      <td>14260</td>\n",
              "      <td>350.0</td>\n",
              "      <td>84</td>\n",
              "      <td>5</td>\n",
              "      <td>8</td>\n",
              "      <td>1145</td>\n",
              "      <td>2000</td>\n",
              "      <td>2000</td>\n",
              "      <td>250000</td>\n",
              "    </tr>\n",
              "  </tbody>\n",
              "</table>\n",
              "<p>5 rows × 21 columns</p>\n",
              "</div>"
            ],
            "text/plain": [
              "   1stFlrSF  2ndFlrSF  BedroomAbvGr BsmtExposure  BsmtFinSF1 BsmtFinType1  \\\n",
              "0       856     854.0           3.0           No         706          GLQ   \n",
              "1      1262       0.0           3.0           Gd         978          ALQ   \n",
              "2       920     866.0           3.0           Mn         486          GLQ   \n",
              "3       961       0.0           3.0           No         216          ALQ   \n",
              "4      1145       0.0           4.0           Av         655          GLQ   \n",
              "\n",
              "   BsmtUnfSF  GarageArea GarageFinish  GarageYrBlt  ...  KitchenQual LotArea  \\\n",
              "0        150         548          RFn       2003.0  ...           Gd    8450   \n",
              "1        284         460          RFn       1976.0  ...           TA    9600   \n",
              "2        434         608          RFn       2001.0  ...           Gd   11250   \n",
              "3        540         642          Unf       1998.0  ...           Gd    9550   \n",
              "4        490         836          RFn       2000.0  ...           Gd   14260   \n",
              "\n",
              "   MasVnrArea  OpenPorchSF  OverallCond  OverallQual  TotalBsmtSF  YearBuilt  \\\n",
              "0       196.0           61            5            7          856       2003   \n",
              "1         0.0            0            8            6         1262       1976   \n",
              "2       162.0           42            5            7          920       2001   \n",
              "3         0.0           35            5            7          756       1915   \n",
              "4       350.0           84            5            8         1145       2000   \n",
              "\n",
              "   YearRemodAdd  SalePrice  \n",
              "0          2003     208500  \n",
              "1          1976     181500  \n",
              "2          2002     223500  \n",
              "3          1970     140000  \n",
              "4          2000     250000  \n",
              "\n",
              "[5 rows x 21 columns]"
            ]
          },
          "execution_count": 7,
          "metadata": {},
          "output_type": "execute_result"
        }
      ],
      "source": [
        "# Save the cleaned dataset to a new CSV file in the processed folder\n",
        "# We use index=False to avoid saving the row numbers as an extra column\n",
        "\n",
        "df.to_csv(\"../data/processed/cleaned_data.csv\", index=False)\n",
        "\n",
        "import pandas as pd\n",
        "\n",
        "# Load the cleaned dataset\n",
        "df = pd.read_csv(\"../data/processed/cleaned_data.csv\")\n",
        "\n",
        "# Preview the first few rows of the dataset\n",
        "df.head()"
      ]
    },
    {
      "cell_type": "markdown",
      "metadata": {},
      "source": [
        "## Correlation Analysis\n",
        "\n",
        "To understand which numerical features most significantly influence house prices, we compute the Pearson correlation coefficient between each numerical feature and the target variable, 'SalePrice'. This statistical method measures the strength and direction of the linear relationship between variables. Features with high absolute correlation values (positive or negative) are considered more relevant for predictive modelling. We visualise the top 10 most stringly correlated features using a heatmap, which facilitates the identification of patterns among predictors. This supports informed feature selection and model optimisation."
      ]
    },
    {
      "cell_type": "code",
      "execution_count": 8,
      "metadata": {},
      "outputs": [
        {
          "data": {
            "text/plain": [
              "SalePrice       1.000000\n",
              "OverallQual     0.790982\n",
              "GrLivArea       0.708624\n",
              "GarageArea      0.623431\n",
              "TotalBsmtSF     0.613581\n",
              "1stFlrSF        0.605852\n",
              "YearBuilt       0.522897\n",
              "YearRemodAdd    0.507101\n",
              "MasVnrArea      0.472614\n",
              "GarageYrBlt     0.466754\n",
              "BsmtFinSF1      0.386420\n",
              "OpenPorchSF     0.315856\n",
              "2ndFlrSF        0.312479\n",
              "LotArea         0.263843\n",
              "BsmtUnfSF       0.214479\n",
              "BedroomAbvGr    0.155784\n",
              "OverallCond    -0.077856\n",
              "Name: SalePrice, dtype: float64"
            ]
          },
          "execution_count": 8,
          "metadata": {},
          "output_type": "execute_result"
        }
      ],
      "source": [
        "# Import required libraries\n",
        "import pandas as pd\n",
        "from scipy.stats import skew\n",
        "\n",
        "#Load the cleaned dataset\n",
        "df = pd.read_csv('../data/processed/cleaned_data.csv')\n",
        "\n",
        "# Select ony numerical features from the dataset\n",
        "numerical_df = df.select_dtypes(include='number')\n",
        "\n",
        "# Compute the Pearson correlation matrix\n",
        "corr_matrix = numerical_df.corr(numeric_only=True)\n",
        "\n",
        "# Sort the correlation values in relation to the target variable 'SalePrice'\n",
        "saleprice_corr = corr_matrix['SalePrice'].sort_values(ascending=False)\n",
        "\n",
        "# Display the sorted correlation values\n",
        "saleprice_corr\n",
        "\n",
        "\n"
      ]
    },
    {
      "cell_type": "code",
      "execution_count": 9,
      "metadata": {},
      "outputs": [
        {
          "name": "stdout",
          "output_type": "stream",
          "text": [
            "Requirement already satisfied: plotly in /Library/Frameworks/Python.framework/Versions/3.12/lib/python3.12/site-packages (6.0.1)\n",
            "Requirement already satisfied: narwhals>=1.15.1 in /Library/Frameworks/Python.framework/Versions/3.12/lib/python3.12/site-packages (from plotly) (1.39.0)\n",
            "Requirement already satisfied: packaging in /Library/Frameworks/Python.framework/Versions/3.12/lib/python3.12/site-packages (from plotly) (25.0)\n",
            "\n",
            "\u001b[1m[\u001b[0m\u001b[34;49mnotice\u001b[0m\u001b[1;39;49m]\u001b[0m\u001b[39;49m A new release of pip is available: \u001b[0m\u001b[31;49m24.3.1\u001b[0m\u001b[39;49m -> \u001b[0m\u001b[32;49m25.1.1\u001b[0m\n",
            "\u001b[1m[\u001b[0m\u001b[34;49mnotice\u001b[0m\u001b[1;39;49m]\u001b[0m\u001b[39;49m To update, run: \u001b[0m\u001b[32;49mpip3 install --upgrade pip\u001b[0m\n",
            "Note: you may need to restart the kernel to use updated packages.\n"
          ]
        }
      ],
      "source": [
        "%pip install plotly\n"
      ]
    },
    {
      "cell_type": "code",
      "execution_count": 10,
      "metadata": {},
      "outputs": [
        {
          "data": {
            "application/vnd.plotly.v1+json": {
              "config": {
                "plotlyServerURL": "https://plot.ly"
              },
              "data": [
                {
                  "coloraxis": "coloraxis",
                  "hovertemplate": "x: %{x}<br>y: %{y}<br>Correlation Coefficient: %{z}<extra></extra>",
                  "name": "0",
                  "texttemplate": "%{z}",
                  "type": "heatmap",
                  "x": [
                    "OverallQual",
                    "GrLivArea",
                    "GarageArea",
                    "TotalBsmtSF",
                    "1stFlrSF",
                    "YearBuilt",
                    "YearRemodAdd",
                    "MasVnrArea",
                    "GarageYrBlt",
                    "BsmtFinSF1"
                  ],
                  "xaxis": "x",
                  "y": [
                    "OverallQual",
                    "GrLivArea",
                    "GarageArea",
                    "TotalBsmtSF",
                    "1stFlrSF",
                    "YearBuilt",
                    "YearRemodAdd",
                    "MasVnrArea",
                    "GarageYrBlt",
                    "BsmtFinSF1"
                  ],
                  "yaxis": "y",
                  "z": {
                    "bdata": "AAAAAAAA8D8SQsi36vniP/1UCQ0V/OE/caIhK7o14T/j3d2Cc3reP2Fi7tZ3UOI/5Bmb5DOf4T+6x/A1axDaP/RTxQ6VdOA/He5Z11+tzj8SQsi36vniPwAAAAAAAPA/iI3A/g0E3j8/v3uFjxzdP92YakzeHOI/wdHpeSZ5yT/WN0nRkmTSP5cKXEbY1dg/L9ZOxXIizD9tB/kBWqXKP/1UCQ0V/OE/iI3A/g0E3j8AAAAAAADwP3cSwOaGJd8//bqjJpVY3z8GKC/sLafeP89oP5FKyNc/+M664pC81z8GiEBD5ADeP2LaOxOQAdM/caIhK7o14T8/v3uFjxzdP3cSwOaGJd8/AAAAAAAA8D9NoBftljnqP3b3tLKMDdk/TauRidGg0j9Ia4kAWAvXPwjMOCr7zNM/9rzb7He34D/j3d2Cc3reP92YakzeHOI//bqjJpVY3z9NoBftljnqPwAAAAAAAPA/SDVDag4M0j+NMX9yv8TOP+NNE/MbwNU//pHwqGnJzD8dEJuFA4ncP2Fi7tZ3UOI/wdHpeSZ5yT8GKC/sLafeP3b3tLKMDdk/SDVDag4M0j8AAAAAAADwP75W1f+q+OI/I5MQk0Hx0z9WvNNKrN7oP8UbAYO4788/5Bmb5DOf4T/WN0nRkmTSP89oP5FKyNc/TauRidGg0j+NMX9yv8TOP75W1f+q+OI/AAAAAAAA8D8U37wYgpjGP/g23bjpueM/Cd+ISRFxwD+6x/A1axDaP5cKXEbY1dg/+M664pC81z9Ia4kAWAvXP+NNE/MbwNU/I5MQk0Hx0z8U37wYgpjGPwAAAAAAAPA/4C9kF/JJzz8H+u5Qa7jQP/RTxQ6VdOA/L9ZOxXIizD8GiEBD5ADePwjMOCr7zNM//pHwqGnJzD9WvNNKrN7oP/g23bjpueM/4C9kF/JJzz8AAAAAAADwP61jistNC8M/He5Z11+tzj9tB/kBWqXKP2LaOxOQAdM/9rzb7He34D8dEJuFA4ncP8UbAYO4788/Cd+ISRFxwD8H+u5Qa7jQP61jistNC8M/AAAAAAAA8D8=",
                    "dtype": "f8",
                    "shape": "10, 10"
                  }
                }
              ],
              "layout": {
                "coloraxis": {
                  "colorbar": {
                    "title": {
                      "text": "Correlation Coefficient"
                    }
                  },
                  "colorscale": [
                    [
                      0,
                      "rgb(103,0,31)"
                    ],
                    [
                      0.1,
                      "rgb(178,24,43)"
                    ],
                    [
                      0.2,
                      "rgb(214,96,77)"
                    ],
                    [
                      0.3,
                      "rgb(244,165,130)"
                    ],
                    [
                      0.4,
                      "rgb(253,219,199)"
                    ],
                    [
                      0.5,
                      "rgb(247,247,247)"
                    ],
                    [
                      0.6,
                      "rgb(209,229,240)"
                    ],
                    [
                      0.7,
                      "rgb(146,197,222)"
                    ],
                    [
                      0.8,
                      "rgb(67,147,195)"
                    ],
                    [
                      0.9,
                      "rgb(33,102,172)"
                    ],
                    [
                      1,
                      "rgb(5,48,97)"
                    ]
                  ]
                },
                "template": {
                  "data": {
                    "bar": [
                      {
                        "error_x": {
                          "color": "#2a3f5f"
                        },
                        "error_y": {
                          "color": "#2a3f5f"
                        },
                        "marker": {
                          "line": {
                            "color": "#E5ECF6",
                            "width": 0.5
                          },
                          "pattern": {
                            "fillmode": "overlay",
                            "size": 10,
                            "solidity": 0.2
                          }
                        },
                        "type": "bar"
                      }
                    ],
                    "barpolar": [
                      {
                        "marker": {
                          "line": {
                            "color": "#E5ECF6",
                            "width": 0.5
                          },
                          "pattern": {
                            "fillmode": "overlay",
                            "size": 10,
                            "solidity": 0.2
                          }
                        },
                        "type": "barpolar"
                      }
                    ],
                    "carpet": [
                      {
                        "aaxis": {
                          "endlinecolor": "#2a3f5f",
                          "gridcolor": "white",
                          "linecolor": "white",
                          "minorgridcolor": "white",
                          "startlinecolor": "#2a3f5f"
                        },
                        "baxis": {
                          "endlinecolor": "#2a3f5f",
                          "gridcolor": "white",
                          "linecolor": "white",
                          "minorgridcolor": "white",
                          "startlinecolor": "#2a3f5f"
                        },
                        "type": "carpet"
                      }
                    ],
                    "choropleth": [
                      {
                        "colorbar": {
                          "outlinewidth": 0,
                          "ticks": ""
                        },
                        "type": "choropleth"
                      }
                    ],
                    "contour": [
                      {
                        "colorbar": {
                          "outlinewidth": 0,
                          "ticks": ""
                        },
                        "colorscale": [
                          [
                            0,
                            "#0d0887"
                          ],
                          [
                            0.1111111111111111,
                            "#46039f"
                          ],
                          [
                            0.2222222222222222,
                            "#7201a8"
                          ],
                          [
                            0.3333333333333333,
                            "#9c179e"
                          ],
                          [
                            0.4444444444444444,
                            "#bd3786"
                          ],
                          [
                            0.5555555555555556,
                            "#d8576b"
                          ],
                          [
                            0.6666666666666666,
                            "#ed7953"
                          ],
                          [
                            0.7777777777777778,
                            "#fb9f3a"
                          ],
                          [
                            0.8888888888888888,
                            "#fdca26"
                          ],
                          [
                            1,
                            "#f0f921"
                          ]
                        ],
                        "type": "contour"
                      }
                    ],
                    "contourcarpet": [
                      {
                        "colorbar": {
                          "outlinewidth": 0,
                          "ticks": ""
                        },
                        "type": "contourcarpet"
                      }
                    ],
                    "heatmap": [
                      {
                        "colorbar": {
                          "outlinewidth": 0,
                          "ticks": ""
                        },
                        "colorscale": [
                          [
                            0,
                            "#0d0887"
                          ],
                          [
                            0.1111111111111111,
                            "#46039f"
                          ],
                          [
                            0.2222222222222222,
                            "#7201a8"
                          ],
                          [
                            0.3333333333333333,
                            "#9c179e"
                          ],
                          [
                            0.4444444444444444,
                            "#bd3786"
                          ],
                          [
                            0.5555555555555556,
                            "#d8576b"
                          ],
                          [
                            0.6666666666666666,
                            "#ed7953"
                          ],
                          [
                            0.7777777777777778,
                            "#fb9f3a"
                          ],
                          [
                            0.8888888888888888,
                            "#fdca26"
                          ],
                          [
                            1,
                            "#f0f921"
                          ]
                        ],
                        "type": "heatmap"
                      }
                    ],
                    "histogram": [
                      {
                        "marker": {
                          "pattern": {
                            "fillmode": "overlay",
                            "size": 10,
                            "solidity": 0.2
                          }
                        },
                        "type": "histogram"
                      }
                    ],
                    "histogram2d": [
                      {
                        "colorbar": {
                          "outlinewidth": 0,
                          "ticks": ""
                        },
                        "colorscale": [
                          [
                            0,
                            "#0d0887"
                          ],
                          [
                            0.1111111111111111,
                            "#46039f"
                          ],
                          [
                            0.2222222222222222,
                            "#7201a8"
                          ],
                          [
                            0.3333333333333333,
                            "#9c179e"
                          ],
                          [
                            0.4444444444444444,
                            "#bd3786"
                          ],
                          [
                            0.5555555555555556,
                            "#d8576b"
                          ],
                          [
                            0.6666666666666666,
                            "#ed7953"
                          ],
                          [
                            0.7777777777777778,
                            "#fb9f3a"
                          ],
                          [
                            0.8888888888888888,
                            "#fdca26"
                          ],
                          [
                            1,
                            "#f0f921"
                          ]
                        ],
                        "type": "histogram2d"
                      }
                    ],
                    "histogram2dcontour": [
                      {
                        "colorbar": {
                          "outlinewidth": 0,
                          "ticks": ""
                        },
                        "colorscale": [
                          [
                            0,
                            "#0d0887"
                          ],
                          [
                            0.1111111111111111,
                            "#46039f"
                          ],
                          [
                            0.2222222222222222,
                            "#7201a8"
                          ],
                          [
                            0.3333333333333333,
                            "#9c179e"
                          ],
                          [
                            0.4444444444444444,
                            "#bd3786"
                          ],
                          [
                            0.5555555555555556,
                            "#d8576b"
                          ],
                          [
                            0.6666666666666666,
                            "#ed7953"
                          ],
                          [
                            0.7777777777777778,
                            "#fb9f3a"
                          ],
                          [
                            0.8888888888888888,
                            "#fdca26"
                          ],
                          [
                            1,
                            "#f0f921"
                          ]
                        ],
                        "type": "histogram2dcontour"
                      }
                    ],
                    "mesh3d": [
                      {
                        "colorbar": {
                          "outlinewidth": 0,
                          "ticks": ""
                        },
                        "type": "mesh3d"
                      }
                    ],
                    "parcoords": [
                      {
                        "line": {
                          "colorbar": {
                            "outlinewidth": 0,
                            "ticks": ""
                          }
                        },
                        "type": "parcoords"
                      }
                    ],
                    "pie": [
                      {
                        "automargin": true,
                        "type": "pie"
                      }
                    ],
                    "scatter": [
                      {
                        "fillpattern": {
                          "fillmode": "overlay",
                          "size": 10,
                          "solidity": 0.2
                        },
                        "type": "scatter"
                      }
                    ],
                    "scatter3d": [
                      {
                        "line": {
                          "colorbar": {
                            "outlinewidth": 0,
                            "ticks": ""
                          }
                        },
                        "marker": {
                          "colorbar": {
                            "outlinewidth": 0,
                            "ticks": ""
                          }
                        },
                        "type": "scatter3d"
                      }
                    ],
                    "scattercarpet": [
                      {
                        "marker": {
                          "colorbar": {
                            "outlinewidth": 0,
                            "ticks": ""
                          }
                        },
                        "type": "scattercarpet"
                      }
                    ],
                    "scattergeo": [
                      {
                        "marker": {
                          "colorbar": {
                            "outlinewidth": 0,
                            "ticks": ""
                          }
                        },
                        "type": "scattergeo"
                      }
                    ],
                    "scattergl": [
                      {
                        "marker": {
                          "colorbar": {
                            "outlinewidth": 0,
                            "ticks": ""
                          }
                        },
                        "type": "scattergl"
                      }
                    ],
                    "scattermap": [
                      {
                        "marker": {
                          "colorbar": {
                            "outlinewidth": 0,
                            "ticks": ""
                          }
                        },
                        "type": "scattermap"
                      }
                    ],
                    "scattermapbox": [
                      {
                        "marker": {
                          "colorbar": {
                            "outlinewidth": 0,
                            "ticks": ""
                          }
                        },
                        "type": "scattermapbox"
                      }
                    ],
                    "scatterpolar": [
                      {
                        "marker": {
                          "colorbar": {
                            "outlinewidth": 0,
                            "ticks": ""
                          }
                        },
                        "type": "scatterpolar"
                      }
                    ],
                    "scatterpolargl": [
                      {
                        "marker": {
                          "colorbar": {
                            "outlinewidth": 0,
                            "ticks": ""
                          }
                        },
                        "type": "scatterpolargl"
                      }
                    ],
                    "scatterternary": [
                      {
                        "marker": {
                          "colorbar": {
                            "outlinewidth": 0,
                            "ticks": ""
                          }
                        },
                        "type": "scatterternary"
                      }
                    ],
                    "surface": [
                      {
                        "colorbar": {
                          "outlinewidth": 0,
                          "ticks": ""
                        },
                        "colorscale": [
                          [
                            0,
                            "#0d0887"
                          ],
                          [
                            0.1111111111111111,
                            "#46039f"
                          ],
                          [
                            0.2222222222222222,
                            "#7201a8"
                          ],
                          [
                            0.3333333333333333,
                            "#9c179e"
                          ],
                          [
                            0.4444444444444444,
                            "#bd3786"
                          ],
                          [
                            0.5555555555555556,
                            "#d8576b"
                          ],
                          [
                            0.6666666666666666,
                            "#ed7953"
                          ],
                          [
                            0.7777777777777778,
                            "#fb9f3a"
                          ],
                          [
                            0.8888888888888888,
                            "#fdca26"
                          ],
                          [
                            1,
                            "#f0f921"
                          ]
                        ],
                        "type": "surface"
                      }
                    ],
                    "table": [
                      {
                        "cells": {
                          "fill": {
                            "color": "#EBF0F8"
                          },
                          "line": {
                            "color": "white"
                          }
                        },
                        "header": {
                          "fill": {
                            "color": "#C8D4E3"
                          },
                          "line": {
                            "color": "white"
                          }
                        },
                        "type": "table"
                      }
                    ]
                  },
                  "layout": {
                    "annotationdefaults": {
                      "arrowcolor": "#2a3f5f",
                      "arrowhead": 0,
                      "arrowwidth": 1
                    },
                    "autotypenumbers": "strict",
                    "coloraxis": {
                      "colorbar": {
                        "outlinewidth": 0,
                        "ticks": ""
                      }
                    },
                    "colorscale": {
                      "diverging": [
                        [
                          0,
                          "#8e0152"
                        ],
                        [
                          0.1,
                          "#c51b7d"
                        ],
                        [
                          0.2,
                          "#de77ae"
                        ],
                        [
                          0.3,
                          "#f1b6da"
                        ],
                        [
                          0.4,
                          "#fde0ef"
                        ],
                        [
                          0.5,
                          "#f7f7f7"
                        ],
                        [
                          0.6,
                          "#e6f5d0"
                        ],
                        [
                          0.7,
                          "#b8e186"
                        ],
                        [
                          0.8,
                          "#7fbc41"
                        ],
                        [
                          0.9,
                          "#4d9221"
                        ],
                        [
                          1,
                          "#276419"
                        ]
                      ],
                      "sequential": [
                        [
                          0,
                          "#0d0887"
                        ],
                        [
                          0.1111111111111111,
                          "#46039f"
                        ],
                        [
                          0.2222222222222222,
                          "#7201a8"
                        ],
                        [
                          0.3333333333333333,
                          "#9c179e"
                        ],
                        [
                          0.4444444444444444,
                          "#bd3786"
                        ],
                        [
                          0.5555555555555556,
                          "#d8576b"
                        ],
                        [
                          0.6666666666666666,
                          "#ed7953"
                        ],
                        [
                          0.7777777777777778,
                          "#fb9f3a"
                        ],
                        [
                          0.8888888888888888,
                          "#fdca26"
                        ],
                        [
                          1,
                          "#f0f921"
                        ]
                      ],
                      "sequentialminus": [
                        [
                          0,
                          "#0d0887"
                        ],
                        [
                          0.1111111111111111,
                          "#46039f"
                        ],
                        [
                          0.2222222222222222,
                          "#7201a8"
                        ],
                        [
                          0.3333333333333333,
                          "#9c179e"
                        ],
                        [
                          0.4444444444444444,
                          "#bd3786"
                        ],
                        [
                          0.5555555555555556,
                          "#d8576b"
                        ],
                        [
                          0.6666666666666666,
                          "#ed7953"
                        ],
                        [
                          0.7777777777777778,
                          "#fb9f3a"
                        ],
                        [
                          0.8888888888888888,
                          "#fdca26"
                        ],
                        [
                          1,
                          "#f0f921"
                        ]
                      ]
                    },
                    "colorway": [
                      "#636efa",
                      "#EF553B",
                      "#00cc96",
                      "#ab63fa",
                      "#FFA15A",
                      "#19d3f3",
                      "#FF6692",
                      "#B6E880",
                      "#FF97FF",
                      "#FECB52"
                    ],
                    "font": {
                      "color": "#2a3f5f"
                    },
                    "geo": {
                      "bgcolor": "white",
                      "lakecolor": "white",
                      "landcolor": "#E5ECF6",
                      "showlakes": true,
                      "showland": true,
                      "subunitcolor": "white"
                    },
                    "hoverlabel": {
                      "align": "left"
                    },
                    "hovermode": "closest",
                    "mapbox": {
                      "style": "light"
                    },
                    "paper_bgcolor": "white",
                    "plot_bgcolor": "#E5ECF6",
                    "polar": {
                      "angularaxis": {
                        "gridcolor": "white",
                        "linecolor": "white",
                        "ticks": ""
                      },
                      "bgcolor": "#E5ECF6",
                      "radialaxis": {
                        "gridcolor": "white",
                        "linecolor": "white",
                        "ticks": ""
                      }
                    },
                    "scene": {
                      "xaxis": {
                        "backgroundcolor": "#E5ECF6",
                        "gridcolor": "white",
                        "gridwidth": 2,
                        "linecolor": "white",
                        "showbackground": true,
                        "ticks": "",
                        "zerolinecolor": "white"
                      },
                      "yaxis": {
                        "backgroundcolor": "#E5ECF6",
                        "gridcolor": "white",
                        "gridwidth": 2,
                        "linecolor": "white",
                        "showbackground": true,
                        "ticks": "",
                        "zerolinecolor": "white"
                      },
                      "zaxis": {
                        "backgroundcolor": "#E5ECF6",
                        "gridcolor": "white",
                        "gridwidth": 2,
                        "linecolor": "white",
                        "showbackground": true,
                        "ticks": "",
                        "zerolinecolor": "white"
                      }
                    },
                    "shapedefaults": {
                      "line": {
                        "color": "#2a3f5f"
                      }
                    },
                    "ternary": {
                      "aaxis": {
                        "gridcolor": "white",
                        "linecolor": "white",
                        "ticks": ""
                      },
                      "baxis": {
                        "gridcolor": "white",
                        "linecolor": "white",
                        "ticks": ""
                      },
                      "bgcolor": "#E5ECF6",
                      "caxis": {
                        "gridcolor": "white",
                        "linecolor": "white",
                        "ticks": ""
                      }
                    },
                    "title": {
                      "x": 0.05
                    },
                    "xaxis": {
                      "automargin": true,
                      "gridcolor": "white",
                      "linecolor": "white",
                      "ticks": "",
                      "title": {
                        "standoff": 15
                      },
                      "zerolinecolor": "white",
                      "zerolinewidth": 2
                    },
                    "yaxis": {
                      "automargin": true,
                      "gridcolor": "white",
                      "linecolor": "white",
                      "ticks": "",
                      "title": {
                        "standoff": 15
                      },
                      "zerolinecolor": "white",
                      "zerolinewidth": 2
                    }
                  }
                },
                "title": {
                  "text": "Top 10 Features Correlated with SalePrice"
                },
                "xaxis": {
                  "anchor": "y",
                  "constrain": "domain",
                  "domain": [
                    0,
                    1
                  ],
                  "scaleanchor": "y",
                  "title": {
                    "text": "Correlated Predictor Variables"
                  }
                },
                "yaxis": {
                  "anchor": "x",
                  "autorange": "reversed",
                  "constrain": "domain",
                  "domain": [
                    0,
                    1
                  ],
                  "title": {
                    "text": "Correlated Predictor Variables"
                  }
                }
              }
            }
          },
          "metadata": {},
          "output_type": "display_data"
        }
      ],
      "source": [
        "# Import plotly for visualisation\n",
        "import plotly.express as px\n",
        "\n",
        "# Compute correlations with SalePrice\n",
        "correlations = df.corr(numeric_only=True)['SalePrice'].sort_values(ascending=False)\n",
        "\n",
        "# Get top 10 features most correlated with SalePrice (excluding SalePice itself)\n",
        "top_corr_features = correlations[1:11].index\n",
        "\n",
        "# Compute correlation matrix for these features \n",
        "top_corr_matrix = df[top_corr_features].corr()\n",
        "\n",
        "# Plot an interactive heatmap using Plotly\n",
        "fig = px.imshow(\n",
        "    top_corr_matrix,\n",
        "    text_auto=True,\n",
        "    color_continuous_scale='RdBu',\n",
        "    title=\"Top 10 Features Correlated with SalePrice\",\n",
        "    labels=dict(color='Correlation Coefficient'),\n",
        "    x=top_corr_features,\n",
        "    y=top_corr_features\n",
        ")\n",
        "\n",
        "#Update axis titles manually for context\n",
        "fig.update_layout(\n",
        "    xaxis_title=\"Correlated Predictor Variables\",\n",
        "    yaxis_title=\"Correlated Predictor Variables\"\n",
        ")\n",
        "\n",
        "fig.show()\n",
        "\n",
        "# Save the heatmap image to images folder\n",
        "fig.write_image(\"../images/feature_correlation_heatmap.png\")"
      ]
    },
    {
      "cell_type": "code",
      "execution_count": 11,
      "metadata": {},
      "outputs": [
        {
          "name": "stdout",
          "output_type": "stream",
          "text": [
            "Requirement already satisfied: kaleido in /Library/Frameworks/Python.framework/Versions/3.12/lib/python3.12/site-packages (0.2.1)\n",
            "\n",
            "\u001b[1m[\u001b[0m\u001b[34;49mnotice\u001b[0m\u001b[1;39;49m]\u001b[0m\u001b[39;49m A new release of pip is available: \u001b[0m\u001b[31;49m24.3.1\u001b[0m\u001b[39;49m -> \u001b[0m\u001b[32;49m25.1.1\u001b[0m\n",
            "\u001b[1m[\u001b[0m\u001b[34;49mnotice\u001b[0m\u001b[1;39;49m]\u001b[0m\u001b[39;49m To update, run: \u001b[0m\u001b[32;49mpip3 install --upgrade pip\u001b[0m\n",
            "Note: you may need to restart the kernel to use updated packages.\n"
          ]
        }
      ],
      "source": [
        "%pip install -U kaleido"
      ]
    },
    {
      "cell_type": "markdown",
      "metadata": {},
      "source": [
        "### Interpretation of the Heatmap \n",
        "\n",
        "The heatmap above presents the ten numerical variables most strongly correlated with 'SalePrice', based on Pearson correlation coefficients.\n",
        "\n",
        "Each axis displays the same set of predictor variables, allowing for a comparison of their linear relationships with one another. These variables include measures of size, quality, and construction timing that are known to influence residential property value.\n",
        "\n",
        "\n",
        "**Axis Titles:**\n",
        "- *Correlated Predictor Variables*: These are the top ten features with the strongest statistics association with 'SalePrice'.\n",
        "- *Pearson Correlation Coefficient (colour scale)*: This quanitifies the strength and direction of the linear relationship between each pair of variables. Values close to +1 indicate a strong positive correlation, while values near -1 indicate a strong negative correlation.\n",
        "\n",
        "**Variable Description**\n",
        "- 'OverallQual': Overall material and finish quality\n",
        "- 'GrLivArea': Above-ground living area (sq ft)\n",
        "- 'GarageArea': Garage size (sq ft)\n",
        "- 'TotalBsmtSF': Total Basement area (sq ft)\n",
        "- '1stFlrSF': First Floor area (sq ft)\n",
        "- 'YearBuilt': Year the house was constructed\n",
        "- 'YearRemodAdd': Year of the most recent remodeling\n",
        "- 'MasVnrArea': Masonry veneer area (sq ft)\n",
        "- 'GarageYrBlt': Year the garage was built\n",
        "- 'BsmtFinSF1': Finished area of the basement (Type 1)\n",
        "\n",
        "These features were selected because they exhibit the strongest correlation with house sale price.\n",
        "\n",
        "**Colour Indicator (Key):**\n",
        "- The **colour bar** to the right represents the **Pearson correlation coefficient** it uses a diverging colour scale ('RdBu') to visually distinguish the strength and direction of correlation between variables.\n",
        "- **Dark red** values indicate **strong positive correlation** (closer to **+1.0**) meaning that as one variable increases, the other tends to increase as well.\n",
        "- **Dark blue** values indicate **strong negative correlation** (closer to **-1.0**) meaning that as one variable increases the other tends to decrease.\n",
        "- **Lighter shades (closer to white)** around **0.0** indicate **weak or no linear correlation**, meaning changes in one variable have little predictive power over the other. \n",
        "\n",
        "- This gradient helps quickly identify:\n",
        "\n",
        "- **Highly influential predictors** (deep red against 'SalePrice'.)\n",
        "- **Potential multicollinearity** between features (deep red or blue among non-target variables)\n",
        "- **Redundancy**, where multiple features are strongly correlated with other (and potentially can be reduced in feature selection)\n",
        "\n",
        "**Reading the Chart:**\n",
        "- Each square shows how strongly two variables are linearly related.\n",
        "- For example, a strong correlation between 'GrLiveArea' and '1stFlrSF' indicates that as the first-floor area increases, total living area tends to increase, which makes sense from an intuitive standpoint.\n",
        "\n",
        "This visual tool helps guide **feature selection**, allowing us to identify potential multiple corelation issues and focus on the most informative predictors for modelling.\n",
        "\n",
        "This will be discussed further below in Understanding the Pearson Correlation Coefficient \n"
      ]
    },
    {
      "cell_type": "markdown",
      "metadata": {},
      "source": [
        "## Explanation of Heatmap Features\n",
        "\n",
        "The heatmap visualises the **top 10 numerical features** most strongly correlated with the target variable *SalePrice*. Each variable represents a property characteristic that potentially influences house price. The strength and direction of these correlations are represented by the color intensity and hue on the heatmap.\n",
        "\n",
        "Below is a brief explanation of each feature:\n",
        "\n",
        "**OverallQual** : Rates the overall material and finish quality of the house (1-10 scale). This is the strongest predictor of sale price.\n",
        "\n",
        "**GrLivArea** : Above-ground living area in square feet. A larger living area typically increases house value.\n",
        "\n",
        "**Garage Area** : Size of the garage in square feet. Larger garages may indicate higher end properties.\n",
        "\n",
        "**TotalBsmtSF** : Total area of the basement in square feet. Larger basements may add to usuable space and value.\n",
        "\n",
        "**1stFlrSF** : Area of the first floor in square feet. A larger first floor is often associated with more expensive homes.\n",
        "\n",
        "**YearBuilt** : The original construction year. Newer homes generally command higher prices due to better condition and more modern features.\n",
        "\n",
        "**YearRemodAdd** : Year of the latest remodel or addition . More recent updates may improve the home's value.\n",
        "\n",
        "**MasVnrArea** : Masonry veneer area in square feet (e.g., brick or stone) May reflect exterior quality.\n",
        "\n",
        "**GarageYrBlt** : Year the garage was built.  Usually matches or follows the house's construction year.\n",
        "\n",
        "**BsmtFinSF1** : Finished square footage of the basement (type 1). Finished basements are often desirable living spaces.\n",
        "\n",
        "These features were selected based on their Pearson correlation coefficients, as shown on the heatmap. The correlation values provide insight into how strongly each variable influences house prices, with the darker red indicating stronger positive correlations."
      ]
    },
    {
      "cell_type": "markdown",
      "metadata": {},
      "source": [
        "### Understanding the Pearson Correlation Coefficient\n",
        "\n",
        "The Pearson correlation coefficent, commonly denoted as **r**, is a statisical measure we use to quantify the **strength and direction** of the linear relationship between two continuous numerical variables.\n",
        "\n",
        "It ranges from **-1 to +1**, and is interpreted as follows:\n",
        "\n",
        "- **r = +1.00** : Perfect positive linear correlation. As one variable increases, the other increases proportionally.\n",
        "- **r = 0**: No linear correlation. There is no consistent linear relationship between the variables.\n",
        "- **r = -1.0**: Perfect negative linear correlation. As one variable increases, the other decreases proportionally.\n",
        "\n",
        "In this project, Pearson correlation is applied to measure the relationship between **numerical housing features** and the target variable, 'SalePrice'. Higher adsolute values of **r** indicate stronger linear associations. \n",
        "\n",
        "For example:\n",
        "- 'OverallQual' has an **r = 0.79**, suggesting a strong positive linear correlation with sale price.\n",
        "- 'GrLivArea' and 'GarageArea' also show high positive correlations, meaning larger homes and garages are typically more expensive.\n",
        "\n",
        "This method is valuable in **feature selection**, as it helps identify which variables are most predictive of house price. It also highlights potential **multi correlations** between predictors, which can influence model performance.\n",
        "\n"
      ]
    },
    {
      "cell_type": "code",
      "execution_count": 12,
      "metadata": {},
      "outputs": [
        {
          "name": "stdout",
          "output_type": "stream",
          "text": [
            "Requirement already satisfied: scipy in /Library/Frameworks/Python.framework/Versions/3.12/lib/python3.12/site-packages (1.15.3)\n",
            "Requirement already satisfied: numpy<2.5,>=1.23.5 in /Library/Frameworks/Python.framework/Versions/3.12/lib/python3.12/site-packages (from scipy) (2.2.5)\n",
            "\n",
            "\u001b[1m[\u001b[0m\u001b[34;49mnotice\u001b[0m\u001b[1;39;49m]\u001b[0m\u001b[39;49m A new release of pip is available: \u001b[0m\u001b[31;49m24.3.1\u001b[0m\u001b[39;49m -> \u001b[0m\u001b[32;49m25.1.1\u001b[0m\n",
            "\u001b[1m[\u001b[0m\u001b[34;49mnotice\u001b[0m\u001b[1;39;49m]\u001b[0m\u001b[39;49m To update, run: \u001b[0m\u001b[32;49mpip3 install --upgrade pip\u001b[0m\n",
            "Note: you may need to restart the kernel to use updated packages.\n"
          ]
        }
      ],
      "source": [
        "%pip install scipy\n"
      ]
    },
    {
      "cell_type": "code",
      "execution_count": 13,
      "metadata": {},
      "outputs": [
        {
          "name": "stdout",
          "output_type": "stream",
          "text": [
            "Requirement already satisfied: nbformat in /Library/Frameworks/Python.framework/Versions/3.12/lib/python3.12/site-packages (5.10.4)\n",
            "Requirement already satisfied: fastjsonschema>=2.15 in /Library/Frameworks/Python.framework/Versions/3.12/lib/python3.12/site-packages (from nbformat) (2.21.1)\n",
            "Requirement already satisfied: jsonschema>=2.6 in /Library/Frameworks/Python.framework/Versions/3.12/lib/python3.12/site-packages (from nbformat) (4.23.0)\n",
            "Requirement already satisfied: jupyter-core!=5.0.*,>=4.12 in /Library/Frameworks/Python.framework/Versions/3.12/lib/python3.12/site-packages (from nbformat) (5.7.2)\n",
            "Requirement already satisfied: traitlets>=5.1 in /Library/Frameworks/Python.framework/Versions/3.12/lib/python3.12/site-packages (from nbformat) (5.14.3)\n",
            "Requirement already satisfied: attrs>=22.2.0 in /Library/Frameworks/Python.framework/Versions/3.12/lib/python3.12/site-packages (from jsonschema>=2.6->nbformat) (25.3.0)\n",
            "Requirement already satisfied: jsonschema-specifications>=2023.03.6 in /Library/Frameworks/Python.framework/Versions/3.12/lib/python3.12/site-packages (from jsonschema>=2.6->nbformat) (2025.4.1)\n",
            "Requirement already satisfied: referencing>=0.28.4 in /Library/Frameworks/Python.framework/Versions/3.12/lib/python3.12/site-packages (from jsonschema>=2.6->nbformat) (0.36.2)\n",
            "Requirement already satisfied: rpds-py>=0.7.1 in /Library/Frameworks/Python.framework/Versions/3.12/lib/python3.12/site-packages (from jsonschema>=2.6->nbformat) (0.24.0)\n",
            "Requirement already satisfied: platformdirs>=2.5 in /Library/Frameworks/Python.framework/Versions/3.12/lib/python3.12/site-packages (from jupyter-core!=5.0.*,>=4.12->nbformat) (4.3.8)\n",
            "Requirement already satisfied: typing-extensions>=4.4.0 in /Library/Frameworks/Python.framework/Versions/3.12/lib/python3.12/site-packages (from referencing>=0.28.4->jsonschema>=2.6->nbformat) (4.13.2)\n",
            "\n",
            "\u001b[1m[\u001b[0m\u001b[34;49mnotice\u001b[0m\u001b[1;39;49m]\u001b[0m\u001b[39;49m A new release of pip is available: \u001b[0m\u001b[31;49m24.3.1\u001b[0m\u001b[39;49m -> \u001b[0m\u001b[32;49m25.1.1\u001b[0m\n",
            "\u001b[1m[\u001b[0m\u001b[34;49mnotice\u001b[0m\u001b[1;39;49m]\u001b[0m\u001b[39;49m To update, run: \u001b[0m\u001b[32;49mpip3 install --upgrade pip\u001b[0m\n",
            "Note: you may need to restart the kernel to use updated packages.\n"
          ]
        }
      ],
      "source": [
        "%pip install nbformat "
      ]
    },
    {
      "cell_type": "markdown",
      "metadata": {},
      "source": [
        "## Train Predictive Model \n",
        "\n",
        "To help Lydia Doe accurately estimate the sale prices of her inherited houses, we now move into the predictive modelling phase. This step uses the cleaned and processed dataset to train a machine learning model that can predict house sale prices based on their features.\n",
        "\n",
        "Given the project's objective - to support informed pricing decisions we use a **Linear Regression** model as a baseline due to its interpretability and performance on structured datasets.\n",
        "\n",
        "This phase includes:\n",
        "- Splitting the dataset into training and testing sets\n",
        "- Training the model on the training set\n",
        "- Evaluating model performance on unseen data\n",
        "\n",
        "By validating the model's predictive accuracy, we ensure the client receives reliable price estimates for decision-making purposes."
      ]
    },
    {
      "cell_type": "code",
      "execution_count": 14,
      "metadata": {},
      "outputs": [
        {
          "name": "stdout",
          "output_type": "stream",
          "text": [
            "Requirement already satisfied: scikit-learn in /Library/Frameworks/Python.framework/Versions/3.12/lib/python3.12/site-packages (1.6.1)\n",
            "Requirement already satisfied: numpy>=1.19.5 in /Library/Frameworks/Python.framework/Versions/3.12/lib/python3.12/site-packages (from scikit-learn) (2.2.5)\n",
            "Requirement already satisfied: scipy>=1.6.0 in /Library/Frameworks/Python.framework/Versions/3.12/lib/python3.12/site-packages (from scikit-learn) (1.15.3)\n",
            "Requirement already satisfied: joblib>=1.2.0 in /Library/Frameworks/Python.framework/Versions/3.12/lib/python3.12/site-packages (from scikit-learn) (1.5.0)\n",
            "Requirement already satisfied: threadpoolctl>=3.1.0 in /Library/Frameworks/Python.framework/Versions/3.12/lib/python3.12/site-packages (from scikit-learn) (3.6.0)\n",
            "\n",
            "\u001b[1m[\u001b[0m\u001b[34;49mnotice\u001b[0m\u001b[1;39;49m]\u001b[0m\u001b[39;49m A new release of pip is available: \u001b[0m\u001b[31;49m24.3.1\u001b[0m\u001b[39;49m -> \u001b[0m\u001b[32;49m25.1.1\u001b[0m\n",
            "\u001b[1m[\u001b[0m\u001b[34;49mnotice\u001b[0m\u001b[1;39;49m]\u001b[0m\u001b[39;49m To update, run: \u001b[0m\u001b[32;49mpip3 install --upgrade pip\u001b[0m\n",
            "Note: you may need to restart the kernel to use updated packages.\n"
          ]
        }
      ],
      "source": [
        "%pip install scikit-learn"
      ]
    },
    {
      "cell_type": "code",
      "execution_count": 2,
      "metadata": {},
      "outputs": [
        {
          "name": "stdout",
          "output_type": "stream",
          "text": [
            "Model Evaulation Metrics:\n",
            "Mean Absolute Error (MAE): 21286.05\n",
            "Root Mean Squared Error (RMSE): 34262.84\n",
            "R-squared (R²): 0.85\n"
          ]
        }
      ],
      "source": [
        "# Import required libraries for modelling and evaluation \n",
        "\n",
        "import pandas as pd\n",
        "from sklearn.model_selection import train_test_split\n",
        "from sklearn.linear_model import LinearRegression\n",
        "from sklearn.metrics import mean_absolute_error, mean_squared_error, r2_score\n",
        "\n",
        "# Load the cleaned dataset\n",
        "df = pd.read_csv(\"../data/processed/cleaned_data.csv\")\n",
        "\n",
        "# Separate features (X) and target variable (y)\n",
        "X = df.drop(columns=[\"SalePrice\"])\n",
        "y = df[\"SalePrice\"]\n",
        "\n",
        "#Convert categorical variables to numeric using one-hot encoding\n",
        "X = pd.get_dummies(X)\n",
        "\n",
        "# Split the data into training and test sets (80/20 split)\n",
        "X_train, X_test, y_train, y_test = train_test_split(X, y, test_size=0.2, random_state=42)\n",
        "\n",
        "# Initialise and train a Linear Regression model\n",
        "model = LinearRegression()\n",
        "model.fit(X_train, y_train)\n",
        "\n",
        "# Predict on the test set\n",
        "y_pred = model.predict(X_test)\n",
        "\n",
        "# Evaluate model performance using standard regression metrics\n",
        "mae = mean_absolute_error(y_test, y_pred)\n",
        "mse = mean_squared_error(y_test, y_pred)\n",
        "rmse = mse**0.5\n",
        "r2 = r2_score(y_test, y_pred)\n",
        "\n",
        "# Print evaluation results \n",
        "print(\"Model Evaulation Metrics:\")\n",
        "print(f\"Mean Absolute Error (MAE): {mae:.2f}\")\n",
        "print(f\"Root Mean Squared Error (RMSE): {rmse:.2f}\")\n",
        "print(f\"R-squared (R\\u00b2): {r2:.2f}\")\n"
      ]
    },
    {
      "cell_type": "markdown",
      "metadata": {},
      "source": [
        "## Evaluate Model Performance \n",
        "\n",
        "To assess the performance of the predictive model, we use three key regression metrics:\n",
        "\n",
        "- **Mean Absolute Error (MAE):** Measures the average absolute difference between predicted and actual values. Expressed in US dollars ($). It provides a straightforward interpretation of the typical prediction error.\n",
        "\n",
        "- **Root Mean Squared Error (RMSE):** Penalises larger errors more than MAE and is also measured in dollars. It is useful when large deviations from actual prices are particularly undesirable.\n",
        "\n",
        "- **R<sup>2</sup> (R-squared):** Indicates the proportion of variance in the target variable ('SalePrice') that is explained by the model. This metric is unitless and ranges from 0 to 1, with values closer to 1 representing stronger predictive performance.\n",
        "\n",
        "In this case, the model achieved:\n",
        "\n",
        "- **MAE** ~21,286.05 USD\n",
        "- **RMSE** ~34,262.84 USD\n",
        "- **R<sup>2</sup>:** 0.85\n",
        "\n",
        "These results suggest a strong model fit,with approximately 85% of the variance in house sale prices explained by the selected features. This provides the client with a reliable and interpretable foundation for estimating the market value of inherited properties."
      ]
    },
    {
      "cell_type": "code",
      "execution_count": 16,
      "metadata": {},
      "outputs": [
        {
          "data": {
            "text/html": [
              "<style>#sk-container-id-1 {\n",
              "  /* Definition of color scheme common for light and dark mode */\n",
              "  --sklearn-color-text: #000;\n",
              "  --sklearn-color-text-muted: #666;\n",
              "  --sklearn-color-line: gray;\n",
              "  /* Definition of color scheme for unfitted estimators */\n",
              "  --sklearn-color-unfitted-level-0: #fff5e6;\n",
              "  --sklearn-color-unfitted-level-1: #f6e4d2;\n",
              "  --sklearn-color-unfitted-level-2: #ffe0b3;\n",
              "  --sklearn-color-unfitted-level-3: chocolate;\n",
              "  /* Definition of color scheme for fitted estimators */\n",
              "  --sklearn-color-fitted-level-0: #f0f8ff;\n",
              "  --sklearn-color-fitted-level-1: #d4ebff;\n",
              "  --sklearn-color-fitted-level-2: #b3dbfd;\n",
              "  --sklearn-color-fitted-level-3: cornflowerblue;\n",
              "\n",
              "  /* Specific color for light theme */\n",
              "  --sklearn-color-text-on-default-background: var(--sg-text-color, var(--theme-code-foreground, var(--jp-content-font-color1, black)));\n",
              "  --sklearn-color-background: var(--sg-background-color, var(--theme-background, var(--jp-layout-color0, white)));\n",
              "  --sklearn-color-border-box: var(--sg-text-color, var(--theme-code-foreground, var(--jp-content-font-color1, black)));\n",
              "  --sklearn-color-icon: #696969;\n",
              "\n",
              "  @media (prefers-color-scheme: dark) {\n",
              "    /* Redefinition of color scheme for dark theme */\n",
              "    --sklearn-color-text-on-default-background: var(--sg-text-color, var(--theme-code-foreground, var(--jp-content-font-color1, white)));\n",
              "    --sklearn-color-background: var(--sg-background-color, var(--theme-background, var(--jp-layout-color0, #111)));\n",
              "    --sklearn-color-border-box: var(--sg-text-color, var(--theme-code-foreground, var(--jp-content-font-color1, white)));\n",
              "    --sklearn-color-icon: #878787;\n",
              "  }\n",
              "}\n",
              "\n",
              "#sk-container-id-1 {\n",
              "  color: var(--sklearn-color-text);\n",
              "}\n",
              "\n",
              "#sk-container-id-1 pre {\n",
              "  padding: 0;\n",
              "}\n",
              "\n",
              "#sk-container-id-1 input.sk-hidden--visually {\n",
              "  border: 0;\n",
              "  clip: rect(1px 1px 1px 1px);\n",
              "  clip: rect(1px, 1px, 1px, 1px);\n",
              "  height: 1px;\n",
              "  margin: -1px;\n",
              "  overflow: hidden;\n",
              "  padding: 0;\n",
              "  position: absolute;\n",
              "  width: 1px;\n",
              "}\n",
              "\n",
              "#sk-container-id-1 div.sk-dashed-wrapped {\n",
              "  border: 1px dashed var(--sklearn-color-line);\n",
              "  margin: 0 0.4em 0.5em 0.4em;\n",
              "  box-sizing: border-box;\n",
              "  padding-bottom: 0.4em;\n",
              "  background-color: var(--sklearn-color-background);\n",
              "}\n",
              "\n",
              "#sk-container-id-1 div.sk-container {\n",
              "  /* jupyter's `normalize.less` sets `[hidden] { display: none; }`\n",
              "     but bootstrap.min.css set `[hidden] { display: none !important; }`\n",
              "     so we also need the `!important` here to be able to override the\n",
              "     default hidden behavior on the sphinx rendered scikit-learn.org.\n",
              "     See: https://github.com/scikit-learn/scikit-learn/issues/21755 */\n",
              "  display: inline-block !important;\n",
              "  position: relative;\n",
              "}\n",
              "\n",
              "#sk-container-id-1 div.sk-text-repr-fallback {\n",
              "  display: none;\n",
              "}\n",
              "\n",
              "div.sk-parallel-item,\n",
              "div.sk-serial,\n",
              "div.sk-item {\n",
              "  /* draw centered vertical line to link estimators */\n",
              "  background-image: linear-gradient(var(--sklearn-color-text-on-default-background), var(--sklearn-color-text-on-default-background));\n",
              "  background-size: 2px 100%;\n",
              "  background-repeat: no-repeat;\n",
              "  background-position: center center;\n",
              "}\n",
              "\n",
              "/* Parallel-specific style estimator block */\n",
              "\n",
              "#sk-container-id-1 div.sk-parallel-item::after {\n",
              "  content: \"\";\n",
              "  width: 100%;\n",
              "  border-bottom: 2px solid var(--sklearn-color-text-on-default-background);\n",
              "  flex-grow: 1;\n",
              "}\n",
              "\n",
              "#sk-container-id-1 div.sk-parallel {\n",
              "  display: flex;\n",
              "  align-items: stretch;\n",
              "  justify-content: center;\n",
              "  background-color: var(--sklearn-color-background);\n",
              "  position: relative;\n",
              "}\n",
              "\n",
              "#sk-container-id-1 div.sk-parallel-item {\n",
              "  display: flex;\n",
              "  flex-direction: column;\n",
              "}\n",
              "\n",
              "#sk-container-id-1 div.sk-parallel-item:first-child::after {\n",
              "  align-self: flex-end;\n",
              "  width: 50%;\n",
              "}\n",
              "\n",
              "#sk-container-id-1 div.sk-parallel-item:last-child::after {\n",
              "  align-self: flex-start;\n",
              "  width: 50%;\n",
              "}\n",
              "\n",
              "#sk-container-id-1 div.sk-parallel-item:only-child::after {\n",
              "  width: 0;\n",
              "}\n",
              "\n",
              "/* Serial-specific style estimator block */\n",
              "\n",
              "#sk-container-id-1 div.sk-serial {\n",
              "  display: flex;\n",
              "  flex-direction: column;\n",
              "  align-items: center;\n",
              "  background-color: var(--sklearn-color-background);\n",
              "  padding-right: 1em;\n",
              "  padding-left: 1em;\n",
              "}\n",
              "\n",
              "\n",
              "/* Toggleable style: style used for estimator/Pipeline/ColumnTransformer box that is\n",
              "clickable and can be expanded/collapsed.\n",
              "- Pipeline and ColumnTransformer use this feature and define the default style\n",
              "- Estimators will overwrite some part of the style using the `sk-estimator` class\n",
              "*/\n",
              "\n",
              "/* Pipeline and ColumnTransformer style (default) */\n",
              "\n",
              "#sk-container-id-1 div.sk-toggleable {\n",
              "  /* Default theme specific background. It is overwritten whether we have a\n",
              "  specific estimator or a Pipeline/ColumnTransformer */\n",
              "  background-color: var(--sklearn-color-background);\n",
              "}\n",
              "\n",
              "/* Toggleable label */\n",
              "#sk-container-id-1 label.sk-toggleable__label {\n",
              "  cursor: pointer;\n",
              "  display: flex;\n",
              "  width: 100%;\n",
              "  margin-bottom: 0;\n",
              "  padding: 0.5em;\n",
              "  box-sizing: border-box;\n",
              "  text-align: center;\n",
              "  align-items: start;\n",
              "  justify-content: space-between;\n",
              "  gap: 0.5em;\n",
              "}\n",
              "\n",
              "#sk-container-id-1 label.sk-toggleable__label .caption {\n",
              "  font-size: 0.6rem;\n",
              "  font-weight: lighter;\n",
              "  color: var(--sklearn-color-text-muted);\n",
              "}\n",
              "\n",
              "#sk-container-id-1 label.sk-toggleable__label-arrow:before {\n",
              "  /* Arrow on the left of the label */\n",
              "  content: \"▸\";\n",
              "  float: left;\n",
              "  margin-right: 0.25em;\n",
              "  color: var(--sklearn-color-icon);\n",
              "}\n",
              "\n",
              "#sk-container-id-1 label.sk-toggleable__label-arrow:hover:before {\n",
              "  color: var(--sklearn-color-text);\n",
              "}\n",
              "\n",
              "/* Toggleable content - dropdown */\n",
              "\n",
              "#sk-container-id-1 div.sk-toggleable__content {\n",
              "  max-height: 0;\n",
              "  max-width: 0;\n",
              "  overflow: hidden;\n",
              "  text-align: left;\n",
              "  /* unfitted */\n",
              "  background-color: var(--sklearn-color-unfitted-level-0);\n",
              "}\n",
              "\n",
              "#sk-container-id-1 div.sk-toggleable__content.fitted {\n",
              "  /* fitted */\n",
              "  background-color: var(--sklearn-color-fitted-level-0);\n",
              "}\n",
              "\n",
              "#sk-container-id-1 div.sk-toggleable__content pre {\n",
              "  margin: 0.2em;\n",
              "  border-radius: 0.25em;\n",
              "  color: var(--sklearn-color-text);\n",
              "  /* unfitted */\n",
              "  background-color: var(--sklearn-color-unfitted-level-0);\n",
              "}\n",
              "\n",
              "#sk-container-id-1 div.sk-toggleable__content.fitted pre {\n",
              "  /* unfitted */\n",
              "  background-color: var(--sklearn-color-fitted-level-0);\n",
              "}\n",
              "\n",
              "#sk-container-id-1 input.sk-toggleable__control:checked~div.sk-toggleable__content {\n",
              "  /* Expand drop-down */\n",
              "  max-height: 200px;\n",
              "  max-width: 100%;\n",
              "  overflow: auto;\n",
              "}\n",
              "\n",
              "#sk-container-id-1 input.sk-toggleable__control:checked~label.sk-toggleable__label-arrow:before {\n",
              "  content: \"▾\";\n",
              "}\n",
              "\n",
              "/* Pipeline/ColumnTransformer-specific style */\n",
              "\n",
              "#sk-container-id-1 div.sk-label input.sk-toggleable__control:checked~label.sk-toggleable__label {\n",
              "  color: var(--sklearn-color-text);\n",
              "  background-color: var(--sklearn-color-unfitted-level-2);\n",
              "}\n",
              "\n",
              "#sk-container-id-1 div.sk-label.fitted input.sk-toggleable__control:checked~label.sk-toggleable__label {\n",
              "  background-color: var(--sklearn-color-fitted-level-2);\n",
              "}\n",
              "\n",
              "/* Estimator-specific style */\n",
              "\n",
              "/* Colorize estimator box */\n",
              "#sk-container-id-1 div.sk-estimator input.sk-toggleable__control:checked~label.sk-toggleable__label {\n",
              "  /* unfitted */\n",
              "  background-color: var(--sklearn-color-unfitted-level-2);\n",
              "}\n",
              "\n",
              "#sk-container-id-1 div.sk-estimator.fitted input.sk-toggleable__control:checked~label.sk-toggleable__label {\n",
              "  /* fitted */\n",
              "  background-color: var(--sklearn-color-fitted-level-2);\n",
              "}\n",
              "\n",
              "#sk-container-id-1 div.sk-label label.sk-toggleable__label,\n",
              "#sk-container-id-1 div.sk-label label {\n",
              "  /* The background is the default theme color */\n",
              "  color: var(--sklearn-color-text-on-default-background);\n",
              "}\n",
              "\n",
              "/* On hover, darken the color of the background */\n",
              "#sk-container-id-1 div.sk-label:hover label.sk-toggleable__label {\n",
              "  color: var(--sklearn-color-text);\n",
              "  background-color: var(--sklearn-color-unfitted-level-2);\n",
              "}\n",
              "\n",
              "/* Label box, darken color on hover, fitted */\n",
              "#sk-container-id-1 div.sk-label.fitted:hover label.sk-toggleable__label.fitted {\n",
              "  color: var(--sklearn-color-text);\n",
              "  background-color: var(--sklearn-color-fitted-level-2);\n",
              "}\n",
              "\n",
              "/* Estimator label */\n",
              "\n",
              "#sk-container-id-1 div.sk-label label {\n",
              "  font-family: monospace;\n",
              "  font-weight: bold;\n",
              "  display: inline-block;\n",
              "  line-height: 1.2em;\n",
              "}\n",
              "\n",
              "#sk-container-id-1 div.sk-label-container {\n",
              "  text-align: center;\n",
              "}\n",
              "\n",
              "/* Estimator-specific */\n",
              "#sk-container-id-1 div.sk-estimator {\n",
              "  font-family: monospace;\n",
              "  border: 1px dotted var(--sklearn-color-border-box);\n",
              "  border-radius: 0.25em;\n",
              "  box-sizing: border-box;\n",
              "  margin-bottom: 0.5em;\n",
              "  /* unfitted */\n",
              "  background-color: var(--sklearn-color-unfitted-level-0);\n",
              "}\n",
              "\n",
              "#sk-container-id-1 div.sk-estimator.fitted {\n",
              "  /* fitted */\n",
              "  background-color: var(--sklearn-color-fitted-level-0);\n",
              "}\n",
              "\n",
              "/* on hover */\n",
              "#sk-container-id-1 div.sk-estimator:hover {\n",
              "  /* unfitted */\n",
              "  background-color: var(--sklearn-color-unfitted-level-2);\n",
              "}\n",
              "\n",
              "#sk-container-id-1 div.sk-estimator.fitted:hover {\n",
              "  /* fitted */\n",
              "  background-color: var(--sklearn-color-fitted-level-2);\n",
              "}\n",
              "\n",
              "/* Specification for estimator info (e.g. \"i\" and \"?\") */\n",
              "\n",
              "/* Common style for \"i\" and \"?\" */\n",
              "\n",
              ".sk-estimator-doc-link,\n",
              "a:link.sk-estimator-doc-link,\n",
              "a:visited.sk-estimator-doc-link {\n",
              "  float: right;\n",
              "  font-size: smaller;\n",
              "  line-height: 1em;\n",
              "  font-family: monospace;\n",
              "  background-color: var(--sklearn-color-background);\n",
              "  border-radius: 1em;\n",
              "  height: 1em;\n",
              "  width: 1em;\n",
              "  text-decoration: none !important;\n",
              "  margin-left: 0.5em;\n",
              "  text-align: center;\n",
              "  /* unfitted */\n",
              "  border: var(--sklearn-color-unfitted-level-1) 1pt solid;\n",
              "  color: var(--sklearn-color-unfitted-level-1);\n",
              "}\n",
              "\n",
              ".sk-estimator-doc-link.fitted,\n",
              "a:link.sk-estimator-doc-link.fitted,\n",
              "a:visited.sk-estimator-doc-link.fitted {\n",
              "  /* fitted */\n",
              "  border: var(--sklearn-color-fitted-level-1) 1pt solid;\n",
              "  color: var(--sklearn-color-fitted-level-1);\n",
              "}\n",
              "\n",
              "/* On hover */\n",
              "div.sk-estimator:hover .sk-estimator-doc-link:hover,\n",
              ".sk-estimator-doc-link:hover,\n",
              "div.sk-label-container:hover .sk-estimator-doc-link:hover,\n",
              ".sk-estimator-doc-link:hover {\n",
              "  /* unfitted */\n",
              "  background-color: var(--sklearn-color-unfitted-level-3);\n",
              "  color: var(--sklearn-color-background);\n",
              "  text-decoration: none;\n",
              "}\n",
              "\n",
              "div.sk-estimator.fitted:hover .sk-estimator-doc-link.fitted:hover,\n",
              ".sk-estimator-doc-link.fitted:hover,\n",
              "div.sk-label-container:hover .sk-estimator-doc-link.fitted:hover,\n",
              ".sk-estimator-doc-link.fitted:hover {\n",
              "  /* fitted */\n",
              "  background-color: var(--sklearn-color-fitted-level-3);\n",
              "  color: var(--sklearn-color-background);\n",
              "  text-decoration: none;\n",
              "}\n",
              "\n",
              "/* Span, style for the box shown on hovering the info icon */\n",
              ".sk-estimator-doc-link span {\n",
              "  display: none;\n",
              "  z-index: 9999;\n",
              "  position: relative;\n",
              "  font-weight: normal;\n",
              "  right: .2ex;\n",
              "  padding: .5ex;\n",
              "  margin: .5ex;\n",
              "  width: min-content;\n",
              "  min-width: 20ex;\n",
              "  max-width: 50ex;\n",
              "  color: var(--sklearn-color-text);\n",
              "  box-shadow: 2pt 2pt 4pt #999;\n",
              "  /* unfitted */\n",
              "  background: var(--sklearn-color-unfitted-level-0);\n",
              "  border: .5pt solid var(--sklearn-color-unfitted-level-3);\n",
              "}\n",
              "\n",
              ".sk-estimator-doc-link.fitted span {\n",
              "  /* fitted */\n",
              "  background: var(--sklearn-color-fitted-level-0);\n",
              "  border: var(--sklearn-color-fitted-level-3);\n",
              "}\n",
              "\n",
              ".sk-estimator-doc-link:hover span {\n",
              "  display: block;\n",
              "}\n",
              "\n",
              "/* \"?\"-specific style due to the `<a>` HTML tag */\n",
              "\n",
              "#sk-container-id-1 a.estimator_doc_link {\n",
              "  float: right;\n",
              "  font-size: 1rem;\n",
              "  line-height: 1em;\n",
              "  font-family: monospace;\n",
              "  background-color: var(--sklearn-color-background);\n",
              "  border-radius: 1rem;\n",
              "  height: 1rem;\n",
              "  width: 1rem;\n",
              "  text-decoration: none;\n",
              "  /* unfitted */\n",
              "  color: var(--sklearn-color-unfitted-level-1);\n",
              "  border: var(--sklearn-color-unfitted-level-1) 1pt solid;\n",
              "}\n",
              "\n",
              "#sk-container-id-1 a.estimator_doc_link.fitted {\n",
              "  /* fitted */\n",
              "  border: var(--sklearn-color-fitted-level-1) 1pt solid;\n",
              "  color: var(--sklearn-color-fitted-level-1);\n",
              "}\n",
              "\n",
              "/* On hover */\n",
              "#sk-container-id-1 a.estimator_doc_link:hover {\n",
              "  /* unfitted */\n",
              "  background-color: var(--sklearn-color-unfitted-level-3);\n",
              "  color: var(--sklearn-color-background);\n",
              "  text-decoration: none;\n",
              "}\n",
              "\n",
              "#sk-container-id-1 a.estimator_doc_link.fitted:hover {\n",
              "  /* fitted */\n",
              "  background-color: var(--sklearn-color-fitted-level-3);\n",
              "}\n",
              "</style><div id=\"sk-container-id-1\" class=\"sk-top-container\"><div class=\"sk-text-repr-fallback\"><pre>LinearRegression()</pre><b>In a Jupyter environment, please rerun this cell to show the HTML representation or trust the notebook. <br />On GitHub, the HTML representation is unable to render, please try loading this page with nbviewer.org.</b></div><div class=\"sk-container\" hidden><div class=\"sk-item\"><div class=\"sk-estimator fitted sk-toggleable\"><input class=\"sk-toggleable__control sk-hidden--visually\" id=\"sk-estimator-id-1\" type=\"checkbox\" checked><label for=\"sk-estimator-id-1\" class=\"sk-toggleable__label fitted sk-toggleable__label-arrow\"><div><div>LinearRegression</div></div><div><a class=\"sk-estimator-doc-link fitted\" rel=\"noreferrer\" target=\"_blank\" href=\"https://scikit-learn.org/1.6/modules/generated/sklearn.linear_model.LinearRegression.html\">?<span>Documentation for LinearRegression</span></a><span class=\"sk-estimator-doc-link fitted\">i<span>Fitted</span></span></div></label><div class=\"sk-toggleable__content fitted\"><pre>LinearRegression()</pre></div> </div></div></div></div>"
            ],
            "text/plain": [
              "LinearRegression()"
            ]
          },
          "execution_count": 16,
          "metadata": {},
          "output_type": "execute_result"
        }
      ],
      "source": [
        "import pandas as pd\n",
        "import joblib\n",
        "from sklearn.model_selection import train_test_split\n",
        "from sklearn.linear_model import LinearRegression\n",
        "from sklearn.metrics import mean_absolute_error, mean_squared_error, r2_score\n",
        "\n",
        "df = pd.read_csv(\"../data/processed/cleaned_data.csv\")\n",
        "\n",
        "X = pd.get_dummies(df.drop(columns=[\"SalePrice\"]))\n",
        "y = df[\"SalePrice\"]\n",
        "\n",
        "X_train, X_test, y_train, y_test = train_test_split(X, y, test_size=0.2, random_state=42)\n",
        "\n",
        "model = LinearRegression()\n",
        "model.fit(X_train, y_train)\n",
        "\n",
        "# Save the linear regression model\n",
        "joblib.dump(model, \"models/linear_regression_model.pkl\")\n",
        "\n",
        "# Save the feature column order used during training\n",
        "joblib.dump(X_train.columns.tolist(), \"models/linear_regression_features.pkl\")\n"
      ]
    },
    {
      "cell_type": "markdown",
      "metadata": {},
      "source": [
        "## Predict Inherited House Prices \n",
        "\n",
        "With the trained Linear Regression model, we now generate sale price predictions for the four inherited properties identified by Lydia.\n",
        "\n",
        "Each property has been prepared with the same feature structure as the training dataset, and predictions are generated using the fitted model.\n",
        "\n",
        "These predicted prices provide Lydia with estimated market values for her inherited houses, enabling informed decisions about whether to sell, renovate, or hold the properties.\n",
        "\n",
        "This phase of the project directly address Lydia's key question:\n",
        "\n",
        "\"How much are the inherited properties actually worth?\""
      ]
    },
    {
      "cell_type": "code",
      "execution_count": 17,
      "metadata": {},
      "outputs": [
        {
          "name": "stdout",
          "output_type": "stream",
          "text": [
            "Missing values in inherited dataset:\n",
            "2ndFlrSF        1\n",
            "BedroomAbvGr    1\n",
            "1stFlrSF        0\n",
            "BsmtFinSF1      0\n",
            "BsmtUnfSF       0\n",
            "dtype: int64\n"
          ]
        },
        {
          "data": {
            "text/plain": [
              "<bound method NDFrame.head of      House  Predicted_SalePrice\n",
              "0  House 1        215669.762525\n",
              "1  House 2        191117.459821\n",
              "2  House 3        230019.818498\n",
              "3  House 4        179302.774627>"
            ]
          },
          "execution_count": 17,
          "metadata": {},
          "output_type": "execute_result"
        }
      ],
      "source": [
        "# Prepare the inherited dataset for prediction\n",
        "# Drop 'SalePrice' column if present and convert categorical variables to dummies\n",
        "X_inherited = df_inherited_full.drop(columns=[\"SalePrice\"], errors=\"ignore\")\n",
        "X_inherited = pd.get_dummies(X_inherited)\n",
        "\n",
        "# Align inherited features to match training set (ensures same structures)\n",
        "X_inherited = X_inherited.reindex(columns=X.columns, fill_value=0)\n",
        "\n",
        "# Check for any missing values in the inherited data\n",
        "print(\"Missing values in inherited dataset:\")\n",
        "print(X_inherited.isnull().sum().sort_values(ascending=False).head())\n",
        "\n",
        "# Fill any remaining missing values with the median of each column\n",
        "X_inherited = X_inherited.fillna(X_inherited.median(numeric_only=True))\n",
        "\n",
        "# Predict sale prices using the trained model\n",
        "predicted_prices = model.predict(X_inherited)\n",
        "\n",
        "# Add predictions to the inherited DataFrame\n",
        "df_inherited_full[\"Predicted_SalePrice\"] = predicted_prices\n",
        "\n",
        "#Label each inherited house clearly \n",
        "df_inherited_full[\"House\"] = [f\"House {i+1}\" for i in range(len(df_inherited_full))]\n",
        "\n",
        "# Create a simpler displayy Dataframe\n",
        "df_inherited_display = df_inherited_full[[\"House\", \"Predicted_SalePrice\"]]\n",
        "\n",
        "# Show the final labeled predictions\n",
        "df_inherited_display.head"
      ]
    },
    {
      "cell_type": "markdown",
      "metadata": {},
      "source": [
        "## Exploratory Review of the Cleaned Dataset (cleaned_data.csv)\n",
        "\n",
        "To ensure the integrity and reliability of our analysis we conduct a brief exploratory review of the cleaned dataset prior to developing the final dashboard. This step is essential for validating that the data preparation and cleaning processes were successful.\n",
        "\n",
        "By generating summary statistics using df.describe(), we are able to:\n",
        "\n",
        "- Confirm that all numerical features have been correctly parsed and are free from anomalies or unexpected values.\n",
        "- Examine key distribution metrics (mean, median, standard deviation, min/max values) to better understand the characteristics of the dataset.\n",
        "- Identify any residual inconsistencies or outliers that may warrant additional attention before visualisation or further modelling.\n",
        "\n",
        "This quality assurance step strengthens the foundation of our predictive modelling and esnures that the final outputs especially those displayed in the dashboard are accurate and \"well-understood\" data.\n",
        "\n"
      ]
    },
    {
      "cell_type": "code",
      "execution_count": 18,
      "metadata": {},
      "outputs": [
        {
          "data": {
            "text/html": [
              "<div>\n",
              "<style scoped>\n",
              "    .dataframe tbody tr th:only-of-type {\n",
              "        vertical-align: middle;\n",
              "    }\n",
              "\n",
              "    .dataframe tbody tr th {\n",
              "        vertical-align: top;\n",
              "    }\n",
              "\n",
              "    .dataframe thead th {\n",
              "        text-align: right;\n",
              "    }\n",
              "</style>\n",
              "<table border=\"1\" class=\"dataframe\">\n",
              "  <thead>\n",
              "    <tr style=\"text-align: right;\">\n",
              "      <th></th>\n",
              "      <th>1stFlrSF</th>\n",
              "      <th>2ndFlrSF</th>\n",
              "      <th>BedroomAbvGr</th>\n",
              "      <th>BsmtFinSF1</th>\n",
              "      <th>BsmtUnfSF</th>\n",
              "      <th>GarageArea</th>\n",
              "      <th>GarageYrBlt</th>\n",
              "      <th>GrLivArea</th>\n",
              "      <th>LotArea</th>\n",
              "      <th>MasVnrArea</th>\n",
              "      <th>OpenPorchSF</th>\n",
              "      <th>OverallCond</th>\n",
              "      <th>OverallQual</th>\n",
              "      <th>TotalBsmtSF</th>\n",
              "      <th>YearBuilt</th>\n",
              "      <th>YearRemodAdd</th>\n",
              "      <th>SalePrice</th>\n",
              "    </tr>\n",
              "  </thead>\n",
              "  <tbody>\n",
              "    <tr>\n",
              "      <th>count</th>\n",
              "      <td>1460.000000</td>\n",
              "      <td>1460.000000</td>\n",
              "      <td>1460.000000</td>\n",
              "      <td>1460.000000</td>\n",
              "      <td>1460.000000</td>\n",
              "      <td>1460.000000</td>\n",
              "      <td>1460.000000</td>\n",
              "      <td>1460.000000</td>\n",
              "      <td>1460.000000</td>\n",
              "      <td>1460.000000</td>\n",
              "      <td>1460.000000</td>\n",
              "      <td>1460.000000</td>\n",
              "      <td>1460.000000</td>\n",
              "      <td>1460.000000</td>\n",
              "      <td>1460.000000</td>\n",
              "      <td>1460.000000</td>\n",
              "      <td>1460.000000</td>\n",
              "    </tr>\n",
              "    <tr>\n",
              "      <th>mean</th>\n",
              "      <td>1162.626712</td>\n",
              "      <td>327.994521</td>\n",
              "      <td>2.878082</td>\n",
              "      <td>443.639726</td>\n",
              "      <td>567.240411</td>\n",
              "      <td>472.980137</td>\n",
              "      <td>1978.589041</td>\n",
              "      <td>1515.463699</td>\n",
              "      <td>10516.828082</td>\n",
              "      <td>103.117123</td>\n",
              "      <td>46.660274</td>\n",
              "      <td>5.575342</td>\n",
              "      <td>6.099315</td>\n",
              "      <td>1057.429452</td>\n",
              "      <td>1971.267808</td>\n",
              "      <td>1984.865753</td>\n",
              "      <td>180921.195890</td>\n",
              "    </tr>\n",
              "    <tr>\n",
              "      <th>std</th>\n",
              "      <td>386.587738</td>\n",
              "      <td>433.576171</td>\n",
              "      <td>0.792485</td>\n",
              "      <td>456.098091</td>\n",
              "      <td>441.866955</td>\n",
              "      <td>213.804841</td>\n",
              "      <td>23.997022</td>\n",
              "      <td>525.480383</td>\n",
              "      <td>9981.264932</td>\n",
              "      <td>180.731373</td>\n",
              "      <td>66.256028</td>\n",
              "      <td>1.112799</td>\n",
              "      <td>1.382997</td>\n",
              "      <td>438.705324</td>\n",
              "      <td>30.202904</td>\n",
              "      <td>20.645407</td>\n",
              "      <td>79442.502883</td>\n",
              "    </tr>\n",
              "    <tr>\n",
              "      <th>min</th>\n",
              "      <td>334.000000</td>\n",
              "      <td>0.000000</td>\n",
              "      <td>0.000000</td>\n",
              "      <td>0.000000</td>\n",
              "      <td>0.000000</td>\n",
              "      <td>0.000000</td>\n",
              "      <td>1900.000000</td>\n",
              "      <td>334.000000</td>\n",
              "      <td>1300.000000</td>\n",
              "      <td>0.000000</td>\n",
              "      <td>0.000000</td>\n",
              "      <td>1.000000</td>\n",
              "      <td>1.000000</td>\n",
              "      <td>0.000000</td>\n",
              "      <td>1872.000000</td>\n",
              "      <td>1950.000000</td>\n",
              "      <td>34900.000000</td>\n",
              "    </tr>\n",
              "    <tr>\n",
              "      <th>25%</th>\n",
              "      <td>882.000000</td>\n",
              "      <td>0.000000</td>\n",
              "      <td>2.000000</td>\n",
              "      <td>0.000000</td>\n",
              "      <td>223.000000</td>\n",
              "      <td>334.500000</td>\n",
              "      <td>1962.000000</td>\n",
              "      <td>1129.500000</td>\n",
              "      <td>7553.500000</td>\n",
              "      <td>0.000000</td>\n",
              "      <td>0.000000</td>\n",
              "      <td>5.000000</td>\n",
              "      <td>5.000000</td>\n",
              "      <td>795.750000</td>\n",
              "      <td>1954.000000</td>\n",
              "      <td>1967.000000</td>\n",
              "      <td>129975.000000</td>\n",
              "    </tr>\n",
              "    <tr>\n",
              "      <th>50%</th>\n",
              "      <td>1087.000000</td>\n",
              "      <td>0.000000</td>\n",
              "      <td>3.000000</td>\n",
              "      <td>383.500000</td>\n",
              "      <td>477.500000</td>\n",
              "      <td>480.000000</td>\n",
              "      <td>1980.000000</td>\n",
              "      <td>1464.000000</td>\n",
              "      <td>9478.500000</td>\n",
              "      <td>0.000000</td>\n",
              "      <td>25.000000</td>\n",
              "      <td>5.000000</td>\n",
              "      <td>6.000000</td>\n",
              "      <td>991.500000</td>\n",
              "      <td>1973.000000</td>\n",
              "      <td>1994.000000</td>\n",
              "      <td>163000.000000</td>\n",
              "    </tr>\n",
              "    <tr>\n",
              "      <th>75%</th>\n",
              "      <td>1391.250000</td>\n",
              "      <td>714.500000</td>\n",
              "      <td>3.000000</td>\n",
              "      <td>712.250000</td>\n",
              "      <td>808.000000</td>\n",
              "      <td>576.000000</td>\n",
              "      <td>2001.000000</td>\n",
              "      <td>1776.750000</td>\n",
              "      <td>11601.500000</td>\n",
              "      <td>164.250000</td>\n",
              "      <td>68.000000</td>\n",
              "      <td>6.000000</td>\n",
              "      <td>7.000000</td>\n",
              "      <td>1298.250000</td>\n",
              "      <td>2000.000000</td>\n",
              "      <td>2004.000000</td>\n",
              "      <td>214000.000000</td>\n",
              "    </tr>\n",
              "    <tr>\n",
              "      <th>max</th>\n",
              "      <td>4692.000000</td>\n",
              "      <td>2065.000000</td>\n",
              "      <td>8.000000</td>\n",
              "      <td>5644.000000</td>\n",
              "      <td>2336.000000</td>\n",
              "      <td>1418.000000</td>\n",
              "      <td>2010.000000</td>\n",
              "      <td>5642.000000</td>\n",
              "      <td>215245.000000</td>\n",
              "      <td>1600.000000</td>\n",
              "      <td>547.000000</td>\n",
              "      <td>9.000000</td>\n",
              "      <td>10.000000</td>\n",
              "      <td>6110.000000</td>\n",
              "      <td>2010.000000</td>\n",
              "      <td>2010.000000</td>\n",
              "      <td>755000.000000</td>\n",
              "    </tr>\n",
              "  </tbody>\n",
              "</table>\n",
              "</div>"
            ],
            "text/plain": [
              "          1stFlrSF     2ndFlrSF  BedroomAbvGr   BsmtFinSF1    BsmtUnfSF  \\\n",
              "count  1460.000000  1460.000000   1460.000000  1460.000000  1460.000000   \n",
              "mean   1162.626712   327.994521      2.878082   443.639726   567.240411   \n",
              "std     386.587738   433.576171      0.792485   456.098091   441.866955   \n",
              "min     334.000000     0.000000      0.000000     0.000000     0.000000   \n",
              "25%     882.000000     0.000000      2.000000     0.000000   223.000000   \n",
              "50%    1087.000000     0.000000      3.000000   383.500000   477.500000   \n",
              "75%    1391.250000   714.500000      3.000000   712.250000   808.000000   \n",
              "max    4692.000000  2065.000000      8.000000  5644.000000  2336.000000   \n",
              "\n",
              "        GarageArea  GarageYrBlt    GrLivArea        LotArea   MasVnrArea  \\\n",
              "count  1460.000000  1460.000000  1460.000000    1460.000000  1460.000000   \n",
              "mean    472.980137  1978.589041  1515.463699   10516.828082   103.117123   \n",
              "std     213.804841    23.997022   525.480383    9981.264932   180.731373   \n",
              "min       0.000000  1900.000000   334.000000    1300.000000     0.000000   \n",
              "25%     334.500000  1962.000000  1129.500000    7553.500000     0.000000   \n",
              "50%     480.000000  1980.000000  1464.000000    9478.500000     0.000000   \n",
              "75%     576.000000  2001.000000  1776.750000   11601.500000   164.250000   \n",
              "max    1418.000000  2010.000000  5642.000000  215245.000000  1600.000000   \n",
              "\n",
              "       OpenPorchSF  OverallCond  OverallQual  TotalBsmtSF    YearBuilt  \\\n",
              "count  1460.000000  1460.000000  1460.000000  1460.000000  1460.000000   \n",
              "mean     46.660274     5.575342     6.099315  1057.429452  1971.267808   \n",
              "std      66.256028     1.112799     1.382997   438.705324    30.202904   \n",
              "min       0.000000     1.000000     1.000000     0.000000  1872.000000   \n",
              "25%       0.000000     5.000000     5.000000   795.750000  1954.000000   \n",
              "50%      25.000000     5.000000     6.000000   991.500000  1973.000000   \n",
              "75%      68.000000     6.000000     7.000000  1298.250000  2000.000000   \n",
              "max     547.000000     9.000000    10.000000  6110.000000  2010.000000   \n",
              "\n",
              "       YearRemodAdd      SalePrice  \n",
              "count   1460.000000    1460.000000  \n",
              "mean    1984.865753  180921.195890  \n",
              "std       20.645407   79442.502883  \n",
              "min     1950.000000   34900.000000  \n",
              "25%     1967.000000  129975.000000  \n",
              "50%     1994.000000  163000.000000  \n",
              "75%     2004.000000  214000.000000  \n",
              "max     2010.000000  755000.000000  "
            ]
          },
          "execution_count": 18,
          "metadata": {},
          "output_type": "execute_result"
        }
      ],
      "source": [
        "# Load the cleaned dataset\n",
        "df = pd.read_csv(\"../data/processed/cleaned_data.csv\")\n",
        "\n",
        "# Display summary statistics\n",
        "df.describe()"
      ]
    },
    {
      "cell_type": "markdown",
      "metadata": {},
      "source": [
        "### Identify Key Price Influencing Factors\n",
        "\n",
        "Earlier in the project we performed a preliminary correlation analysis to support feature selection and guide our modelling decisions. \n",
        "\n",
        "In this section we present a formal version of that analysis to fulfil visualising and interpreting key data relationships.\n",
        "\n",
        "Using Pearson's correlation coefficient, we examine which numerical features have the strongest linear relationship with the target variable ('SalePrice'). \n",
        "\n",
        "This would help Lydia understand which aspects of a property such as size, quality, or garage capacity most strongly influence its market value.\n",
        "\n",
        "The results support transparency in model interpretation and offer practical guidance for pricing and renovation decisions.\n",
        "\n",
        "## Feature Correlation Analysis\n",
        "\n",
        "To identify which features are most influential in predicted house sale prices, we compute the Pearson correlation coefficients between 'SalePrice' and all other numeric features in the dataset.\n",
        "\n",
        "The chart below visualises the **Top 10 features** with the **strongest** positive correlations to 'SalePrice' and all other numeric features in the dataset.\n",
        "\n",
        "- **X-axis**: Feature names from the dataset\n",
        "- **Y-axis**: Pearson correlation coefficient (between 0 and 1)  \n",
        "- **Bar height**: Indicates the strength of the linear relationship\n",
        "\n",
        "### Feature Key:\n",
        "1. **OverallQual** – Overall material and finish quality  \n",
        "2. **GrLivArea** – Above grade (ground) living area (sq ft)  \n",
        "3. **GarageArea** - Size of garage (sq ft)  \n",
        "4. **TotalBsmtSF** – Total basement area (sq ft)  \n",
        "5. **1stFlrSF** – First floor area (sq ft)  \n",
        "6. **YearBuilt** – Year the house was originally built  \n",
        "7. **YearRemodAdd** – Year the house was last remodeled  \n",
        "8. **MasVnrArea** – Masonry veneer area (sq ft)  \n",
        "9. **GarageYrBlt** – Year the garage was built  \n",
        "10. **BsmtFinSF1** – Finished basement area (Type 1, sq ft)\n",
        "\n",
        "These insights allow Lydia to better understand what contributes most to a home's value, supporting both pricing and renovation strategies.\n",
        "\n"
      ]
    },
    {
      "cell_type": "code",
      "execution_count": 19,
      "metadata": {},
      "outputs": [
        {
          "data": {
            "application/vnd.plotly.v1+json": {
              "config": {
                "plotlyServerURL": "https://plot.ly"
              },
              "data": [
                {
                  "hovertemplate": "Feature Name=%{x}<br>Pearson Correlation Coefficient=%{text}<extra></extra>",
                  "legendgroup": "",
                  "marker": {
                    "color": "#636efa",
                    "pattern": {
                      "shape": ""
                    }
                  },
                  "name": "",
                  "orientation": "v",
                  "showlegend": false,
                  "text": {
                    "bdata": "gNhHpbhP6T+7uY89Da3mP5h7Ln0m8+M/dhFNrnOi4z8dyO4eJGPjPw9C/C+Tu+A/lm2wzis64D+rwzXiUD/ePz0aDLZK390/l4yVIxq72D8=",
                    "dtype": "f8"
                  },
                  "textposition": "outside",
                  "texttemplate": "%{text:.2f}",
                  "type": "bar",
                  "x": [
                    "OverallQual",
                    "GrLivArea",
                    "GarageArea",
                    "TotalBsmtSF",
                    "1stFlrSF",
                    "YearBuilt",
                    "YearRemodAdd",
                    "MasVnrArea",
                    "GarageYrBlt",
                    "BsmtFinSF1"
                  ],
                  "xaxis": "x",
                  "y": {
                    "bdata": "gNhHpbhP6T+7uY89Da3mP5h7Ln0m8+M/dhFNrnOi4z8dyO4eJGPjPw9C/C+Tu+A/lm2wzis64D+rwzXiUD/ePz0aDLZK390/l4yVIxq72D8=",
                    "dtype": "f8"
                  },
                  "yaxis": "y"
                }
              ],
              "layout": {
                "barmode": "relative",
                "legend": {
                  "tracegroupgap": 0
                },
                "showlegend": false,
                "template": {
                  "data": {
                    "bar": [
                      {
                        "error_x": {
                          "color": "#2a3f5f"
                        },
                        "error_y": {
                          "color": "#2a3f5f"
                        },
                        "marker": {
                          "line": {
                            "color": "#E5ECF6",
                            "width": 0.5
                          },
                          "pattern": {
                            "fillmode": "overlay",
                            "size": 10,
                            "solidity": 0.2
                          }
                        },
                        "type": "bar"
                      }
                    ],
                    "barpolar": [
                      {
                        "marker": {
                          "line": {
                            "color": "#E5ECF6",
                            "width": 0.5
                          },
                          "pattern": {
                            "fillmode": "overlay",
                            "size": 10,
                            "solidity": 0.2
                          }
                        },
                        "type": "barpolar"
                      }
                    ],
                    "carpet": [
                      {
                        "aaxis": {
                          "endlinecolor": "#2a3f5f",
                          "gridcolor": "white",
                          "linecolor": "white",
                          "minorgridcolor": "white",
                          "startlinecolor": "#2a3f5f"
                        },
                        "baxis": {
                          "endlinecolor": "#2a3f5f",
                          "gridcolor": "white",
                          "linecolor": "white",
                          "minorgridcolor": "white",
                          "startlinecolor": "#2a3f5f"
                        },
                        "type": "carpet"
                      }
                    ],
                    "choropleth": [
                      {
                        "colorbar": {
                          "outlinewidth": 0,
                          "ticks": ""
                        },
                        "type": "choropleth"
                      }
                    ],
                    "contour": [
                      {
                        "colorbar": {
                          "outlinewidth": 0,
                          "ticks": ""
                        },
                        "colorscale": [
                          [
                            0,
                            "#0d0887"
                          ],
                          [
                            0.1111111111111111,
                            "#46039f"
                          ],
                          [
                            0.2222222222222222,
                            "#7201a8"
                          ],
                          [
                            0.3333333333333333,
                            "#9c179e"
                          ],
                          [
                            0.4444444444444444,
                            "#bd3786"
                          ],
                          [
                            0.5555555555555556,
                            "#d8576b"
                          ],
                          [
                            0.6666666666666666,
                            "#ed7953"
                          ],
                          [
                            0.7777777777777778,
                            "#fb9f3a"
                          ],
                          [
                            0.8888888888888888,
                            "#fdca26"
                          ],
                          [
                            1,
                            "#f0f921"
                          ]
                        ],
                        "type": "contour"
                      }
                    ],
                    "contourcarpet": [
                      {
                        "colorbar": {
                          "outlinewidth": 0,
                          "ticks": ""
                        },
                        "type": "contourcarpet"
                      }
                    ],
                    "heatmap": [
                      {
                        "colorbar": {
                          "outlinewidth": 0,
                          "ticks": ""
                        },
                        "colorscale": [
                          [
                            0,
                            "#0d0887"
                          ],
                          [
                            0.1111111111111111,
                            "#46039f"
                          ],
                          [
                            0.2222222222222222,
                            "#7201a8"
                          ],
                          [
                            0.3333333333333333,
                            "#9c179e"
                          ],
                          [
                            0.4444444444444444,
                            "#bd3786"
                          ],
                          [
                            0.5555555555555556,
                            "#d8576b"
                          ],
                          [
                            0.6666666666666666,
                            "#ed7953"
                          ],
                          [
                            0.7777777777777778,
                            "#fb9f3a"
                          ],
                          [
                            0.8888888888888888,
                            "#fdca26"
                          ],
                          [
                            1,
                            "#f0f921"
                          ]
                        ],
                        "type": "heatmap"
                      }
                    ],
                    "histogram": [
                      {
                        "marker": {
                          "pattern": {
                            "fillmode": "overlay",
                            "size": 10,
                            "solidity": 0.2
                          }
                        },
                        "type": "histogram"
                      }
                    ],
                    "histogram2d": [
                      {
                        "colorbar": {
                          "outlinewidth": 0,
                          "ticks": ""
                        },
                        "colorscale": [
                          [
                            0,
                            "#0d0887"
                          ],
                          [
                            0.1111111111111111,
                            "#46039f"
                          ],
                          [
                            0.2222222222222222,
                            "#7201a8"
                          ],
                          [
                            0.3333333333333333,
                            "#9c179e"
                          ],
                          [
                            0.4444444444444444,
                            "#bd3786"
                          ],
                          [
                            0.5555555555555556,
                            "#d8576b"
                          ],
                          [
                            0.6666666666666666,
                            "#ed7953"
                          ],
                          [
                            0.7777777777777778,
                            "#fb9f3a"
                          ],
                          [
                            0.8888888888888888,
                            "#fdca26"
                          ],
                          [
                            1,
                            "#f0f921"
                          ]
                        ],
                        "type": "histogram2d"
                      }
                    ],
                    "histogram2dcontour": [
                      {
                        "colorbar": {
                          "outlinewidth": 0,
                          "ticks": ""
                        },
                        "colorscale": [
                          [
                            0,
                            "#0d0887"
                          ],
                          [
                            0.1111111111111111,
                            "#46039f"
                          ],
                          [
                            0.2222222222222222,
                            "#7201a8"
                          ],
                          [
                            0.3333333333333333,
                            "#9c179e"
                          ],
                          [
                            0.4444444444444444,
                            "#bd3786"
                          ],
                          [
                            0.5555555555555556,
                            "#d8576b"
                          ],
                          [
                            0.6666666666666666,
                            "#ed7953"
                          ],
                          [
                            0.7777777777777778,
                            "#fb9f3a"
                          ],
                          [
                            0.8888888888888888,
                            "#fdca26"
                          ],
                          [
                            1,
                            "#f0f921"
                          ]
                        ],
                        "type": "histogram2dcontour"
                      }
                    ],
                    "mesh3d": [
                      {
                        "colorbar": {
                          "outlinewidth": 0,
                          "ticks": ""
                        },
                        "type": "mesh3d"
                      }
                    ],
                    "parcoords": [
                      {
                        "line": {
                          "colorbar": {
                            "outlinewidth": 0,
                            "ticks": ""
                          }
                        },
                        "type": "parcoords"
                      }
                    ],
                    "pie": [
                      {
                        "automargin": true,
                        "type": "pie"
                      }
                    ],
                    "scatter": [
                      {
                        "fillpattern": {
                          "fillmode": "overlay",
                          "size": 10,
                          "solidity": 0.2
                        },
                        "type": "scatter"
                      }
                    ],
                    "scatter3d": [
                      {
                        "line": {
                          "colorbar": {
                            "outlinewidth": 0,
                            "ticks": ""
                          }
                        },
                        "marker": {
                          "colorbar": {
                            "outlinewidth": 0,
                            "ticks": ""
                          }
                        },
                        "type": "scatter3d"
                      }
                    ],
                    "scattercarpet": [
                      {
                        "marker": {
                          "colorbar": {
                            "outlinewidth": 0,
                            "ticks": ""
                          }
                        },
                        "type": "scattercarpet"
                      }
                    ],
                    "scattergeo": [
                      {
                        "marker": {
                          "colorbar": {
                            "outlinewidth": 0,
                            "ticks": ""
                          }
                        },
                        "type": "scattergeo"
                      }
                    ],
                    "scattergl": [
                      {
                        "marker": {
                          "colorbar": {
                            "outlinewidth": 0,
                            "ticks": ""
                          }
                        },
                        "type": "scattergl"
                      }
                    ],
                    "scattermap": [
                      {
                        "marker": {
                          "colorbar": {
                            "outlinewidth": 0,
                            "ticks": ""
                          }
                        },
                        "type": "scattermap"
                      }
                    ],
                    "scattermapbox": [
                      {
                        "marker": {
                          "colorbar": {
                            "outlinewidth": 0,
                            "ticks": ""
                          }
                        },
                        "type": "scattermapbox"
                      }
                    ],
                    "scatterpolar": [
                      {
                        "marker": {
                          "colorbar": {
                            "outlinewidth": 0,
                            "ticks": ""
                          }
                        },
                        "type": "scatterpolar"
                      }
                    ],
                    "scatterpolargl": [
                      {
                        "marker": {
                          "colorbar": {
                            "outlinewidth": 0,
                            "ticks": ""
                          }
                        },
                        "type": "scatterpolargl"
                      }
                    ],
                    "scatterternary": [
                      {
                        "marker": {
                          "colorbar": {
                            "outlinewidth": 0,
                            "ticks": ""
                          }
                        },
                        "type": "scatterternary"
                      }
                    ],
                    "surface": [
                      {
                        "colorbar": {
                          "outlinewidth": 0,
                          "ticks": ""
                        },
                        "colorscale": [
                          [
                            0,
                            "#0d0887"
                          ],
                          [
                            0.1111111111111111,
                            "#46039f"
                          ],
                          [
                            0.2222222222222222,
                            "#7201a8"
                          ],
                          [
                            0.3333333333333333,
                            "#9c179e"
                          ],
                          [
                            0.4444444444444444,
                            "#bd3786"
                          ],
                          [
                            0.5555555555555556,
                            "#d8576b"
                          ],
                          [
                            0.6666666666666666,
                            "#ed7953"
                          ],
                          [
                            0.7777777777777778,
                            "#fb9f3a"
                          ],
                          [
                            0.8888888888888888,
                            "#fdca26"
                          ],
                          [
                            1,
                            "#f0f921"
                          ]
                        ],
                        "type": "surface"
                      }
                    ],
                    "table": [
                      {
                        "cells": {
                          "fill": {
                            "color": "#EBF0F8"
                          },
                          "line": {
                            "color": "white"
                          }
                        },
                        "header": {
                          "fill": {
                            "color": "#C8D4E3"
                          },
                          "line": {
                            "color": "white"
                          }
                        },
                        "type": "table"
                      }
                    ]
                  },
                  "layout": {
                    "annotationdefaults": {
                      "arrowcolor": "#2a3f5f",
                      "arrowhead": 0,
                      "arrowwidth": 1
                    },
                    "autotypenumbers": "strict",
                    "coloraxis": {
                      "colorbar": {
                        "outlinewidth": 0,
                        "ticks": ""
                      }
                    },
                    "colorscale": {
                      "diverging": [
                        [
                          0,
                          "#8e0152"
                        ],
                        [
                          0.1,
                          "#c51b7d"
                        ],
                        [
                          0.2,
                          "#de77ae"
                        ],
                        [
                          0.3,
                          "#f1b6da"
                        ],
                        [
                          0.4,
                          "#fde0ef"
                        ],
                        [
                          0.5,
                          "#f7f7f7"
                        ],
                        [
                          0.6,
                          "#e6f5d0"
                        ],
                        [
                          0.7,
                          "#b8e186"
                        ],
                        [
                          0.8,
                          "#7fbc41"
                        ],
                        [
                          0.9,
                          "#4d9221"
                        ],
                        [
                          1,
                          "#276419"
                        ]
                      ],
                      "sequential": [
                        [
                          0,
                          "#0d0887"
                        ],
                        [
                          0.1111111111111111,
                          "#46039f"
                        ],
                        [
                          0.2222222222222222,
                          "#7201a8"
                        ],
                        [
                          0.3333333333333333,
                          "#9c179e"
                        ],
                        [
                          0.4444444444444444,
                          "#bd3786"
                        ],
                        [
                          0.5555555555555556,
                          "#d8576b"
                        ],
                        [
                          0.6666666666666666,
                          "#ed7953"
                        ],
                        [
                          0.7777777777777778,
                          "#fb9f3a"
                        ],
                        [
                          0.8888888888888888,
                          "#fdca26"
                        ],
                        [
                          1,
                          "#f0f921"
                        ]
                      ],
                      "sequentialminus": [
                        [
                          0,
                          "#0d0887"
                        ],
                        [
                          0.1111111111111111,
                          "#46039f"
                        ],
                        [
                          0.2222222222222222,
                          "#7201a8"
                        ],
                        [
                          0.3333333333333333,
                          "#9c179e"
                        ],
                        [
                          0.4444444444444444,
                          "#bd3786"
                        ],
                        [
                          0.5555555555555556,
                          "#d8576b"
                        ],
                        [
                          0.6666666666666666,
                          "#ed7953"
                        ],
                        [
                          0.7777777777777778,
                          "#fb9f3a"
                        ],
                        [
                          0.8888888888888888,
                          "#fdca26"
                        ],
                        [
                          1,
                          "#f0f921"
                        ]
                      ]
                    },
                    "colorway": [
                      "#636efa",
                      "#EF553B",
                      "#00cc96",
                      "#ab63fa",
                      "#FFA15A",
                      "#19d3f3",
                      "#FF6692",
                      "#B6E880",
                      "#FF97FF",
                      "#FECB52"
                    ],
                    "font": {
                      "color": "#2a3f5f"
                    },
                    "geo": {
                      "bgcolor": "white",
                      "lakecolor": "white",
                      "landcolor": "#E5ECF6",
                      "showlakes": true,
                      "showland": true,
                      "subunitcolor": "white"
                    },
                    "hoverlabel": {
                      "align": "left"
                    },
                    "hovermode": "closest",
                    "mapbox": {
                      "style": "light"
                    },
                    "paper_bgcolor": "white",
                    "plot_bgcolor": "#E5ECF6",
                    "polar": {
                      "angularaxis": {
                        "gridcolor": "white",
                        "linecolor": "white",
                        "ticks": ""
                      },
                      "bgcolor": "#E5ECF6",
                      "radialaxis": {
                        "gridcolor": "white",
                        "linecolor": "white",
                        "ticks": ""
                      }
                    },
                    "scene": {
                      "xaxis": {
                        "backgroundcolor": "#E5ECF6",
                        "gridcolor": "white",
                        "gridwidth": 2,
                        "linecolor": "white",
                        "showbackground": true,
                        "ticks": "",
                        "zerolinecolor": "white"
                      },
                      "yaxis": {
                        "backgroundcolor": "#E5ECF6",
                        "gridcolor": "white",
                        "gridwidth": 2,
                        "linecolor": "white",
                        "showbackground": true,
                        "ticks": "",
                        "zerolinecolor": "white"
                      },
                      "zaxis": {
                        "backgroundcolor": "#E5ECF6",
                        "gridcolor": "white",
                        "gridwidth": 2,
                        "linecolor": "white",
                        "showbackground": true,
                        "ticks": "",
                        "zerolinecolor": "white"
                      }
                    },
                    "shapedefaults": {
                      "line": {
                        "color": "#2a3f5f"
                      }
                    },
                    "ternary": {
                      "aaxis": {
                        "gridcolor": "white",
                        "linecolor": "white",
                        "ticks": ""
                      },
                      "baxis": {
                        "gridcolor": "white",
                        "linecolor": "white",
                        "ticks": ""
                      },
                      "bgcolor": "#E5ECF6",
                      "caxis": {
                        "gridcolor": "white",
                        "linecolor": "white",
                        "ticks": ""
                      }
                    },
                    "title": {
                      "x": 0.05
                    },
                    "xaxis": {
                      "automargin": true,
                      "gridcolor": "white",
                      "linecolor": "white",
                      "ticks": "",
                      "title": {
                        "standoff": 15
                      },
                      "zerolinecolor": "white",
                      "zerolinewidth": 2
                    },
                    "yaxis": {
                      "automargin": true,
                      "gridcolor": "white",
                      "linecolor": "white",
                      "ticks": "",
                      "title": {
                        "standoff": 15
                      },
                      "zerolinecolor": "white",
                      "zerolinewidth": 2
                    }
                  }
                },
                "title": {
                  "text": "Top 10 Features Most Positively Correlated with Sale Price"
                },
                "xaxis": {
                  "anchor": "y",
                  "domain": [
                    0,
                    1
                  ],
                  "tickangle": -45,
                  "title": {
                    "text": "Feature Name"
                  }
                },
                "yaxis": {
                  "anchor": "x",
                  "domain": [
                    0,
                    1
                  ],
                  "range": [
                    0,
                    1
                  ],
                  "title": {
                    "text": "Pearson Correlation Coefficient"
                  }
                }
              }
            }
          },
          "metadata": {},
          "output_type": "display_data"
        }
      ],
      "source": [
        "import pandas as pd\n",
        "import plotly.express as px\n",
        "\n",
        "# Compute top 10 positively correlated features with SalePrice\n",
        "correlations = df.corr(numeric_only=True)[\"SalePrice\"].sort_values(ascending=False)\n",
        "top_features = correlations[1:11]  # Skip SalePrice itself\n",
        "\n",
        "# Convert to DataFrame for Plotly\n",
        "top_features_df = top_features.reset_index()\n",
        "top_features_df.columns = ['Feature', 'Correlation']\n",
        "\n",
        "# Create Plotly bar chart\n",
        "fig = px.bar(\n",
        "    top_features_df,\n",
        "    x='Feature',\n",
        "    y='Correlation',\n",
        "    text='Correlation',\n",
        "    title='Top 10 Features Most Positively Correlated with Sale Price',\n",
        "    labels={'Correlation': 'Pearson Correlation Coefficient', 'Feature': 'Feature Name'}\n",
        ")\n",
        "\n",
        "fig.update_traces(texttemplate='%{text:.2f}', textposition='outside')\n",
        "fig.update_layout(\n",
        "    yaxis=dict(range=[0, 1]),\n",
        "    xaxis_tickangle=-45,\n",
        "    showlegend=False\n",
        ")\n",
        "# Shows the bar chart\n",
        "fig.show()\n",
        "# Save the bar chart to the images folder\n",
        "fig.write_image(\"../images/top_features_bar_chart.png\")\n"
      ]
    },
    {
      "cell_type": "code",
      "execution_count": 20,
      "metadata": {},
      "outputs": [
        {
          "data": {
            "text/plain": [
              "OverallQual     0.790982\n",
              "GrLivArea       0.708624\n",
              "GarageArea      0.623431\n",
              "TotalBsmtSF     0.613581\n",
              "1stFlrSF        0.605852\n",
              "YearBuilt       0.522897\n",
              "YearRemodAdd    0.507101\n",
              "MasVnrArea      0.472614\n",
              "GarageYrBlt     0.466754\n",
              "BsmtFinSF1      0.386420\n",
              "Name: SalePrice, dtype: float64"
            ]
          },
          "execution_count": 20,
          "metadata": {},
          "output_type": "execute_result"
        }
      ],
      "source": [
        "# Compute correlations with SalePrice\n",
        "correlations = df.corr(numeric_only=True)[\"SalePrice\"].sort_values(ascending=False)\n",
        "\n",
        "# Display top 10 positively correlated features (excluding SalePrice itself)\n",
        "top_features = correlations[1:11] # Skip index 0 which is SalePrice vs SalePrice\n",
        "top_features \n"
      ]
    },
    {
      "cell_type": "code",
      "execution_count": 21,
      "metadata": {},
      "outputs": [
        {
          "name": "stdout",
          "output_type": "stream",
          "text": [
            "Requirement already satisfied: joblib in /Library/Frameworks/Python.framework/Versions/3.12/lib/python3.12/site-packages (1.5.0)\n",
            "\n",
            "\u001b[1m[\u001b[0m\u001b[34;49mnotice\u001b[0m\u001b[1;39;49m]\u001b[0m\u001b[39;49m A new release of pip is available: \u001b[0m\u001b[31;49m24.3.1\u001b[0m\u001b[39;49m -> \u001b[0m\u001b[32;49m25.1.1\u001b[0m\n",
            "\u001b[1m[\u001b[0m\u001b[34;49mnotice\u001b[0m\u001b[1;39;49m]\u001b[0m\u001b[39;49m To update, run: \u001b[0m\u001b[32;49mpip3 install --upgrade pip\u001b[0m\n",
            "Note: you may need to restart the kernel to use updated packages.\n"
          ]
        }
      ],
      "source": [
        "%pip install joblib \n"
      ]
    },
    {
      "cell_type": "markdown",
      "metadata": {},
      "source": [
        "### Saving the Trained Linear Regression Model \n",
        "\n",
        "In an earlier step, we trained a Linear Regression model to predict house sale prices using structured features from the dataset. This model demonstrated strong predictive accuracy and is now ready for reuse.\n",
        "\n",
        "To ensure reproducibility and portability, we save this trained model to disk in a serialized format (.pkl) using joblib. This allows the model to be easily reloaded in future workflows — for instance, in a dashboard or deployment environment — without the need to retrain it from scratch.\n",
        "\n",
        "The model is saved to the models directory as:\n",
        "\n",
        "models/linear_regression_model.pkl\n",
        "\n",
        "Saving the model is an essential step for preserving work and integrating the predictive logic into production-ready tools."
      ]
    },
    {
      "cell_type": "code",
      "execution_count": 22,
      "metadata": {},
      "outputs": [
        {
          "data": {
            "text/plain": [
              "['../models/linear_regression_model.pkl']"
            ]
          },
          "execution_count": 22,
          "metadata": {},
          "output_type": "execute_result"
        }
      ],
      "source": [
        "import joblib\n",
        "\n",
        "# Save the trained model to the 'models' directory\n",
        "joblib.dump(model, '../models/linear_regression_model.pkl')"
      ]
    },
    {
      "cell_type": "markdown",
      "metadata": {},
      "source": [
        "## Visualisations\n",
        "\n",
        "This section presents a series of visualisations to support the analysis of house sale prices. These plots are intended to help Lydia, the primary stakeholder, better understand how various property features influence value. By examining trends, relationships, and distributions, these visual insights also serve as an accessible way for non-technical users to interpret the model’s input variables.\n",
        "\n",
        "Each visualisation is paired with a brief explanation of its significance and relevance to the business case."
      ]
    },
    {
      "cell_type": "markdown",
      "metadata": {},
      "source": [
        "### Heatmap: Correlation Matrix of Top Predictive Features\n",
        "\n",
        "The heatmap below visualises the **pairwise Pearson correlation coefficients** among the top 10 numerical features most strongly correlated with `SalePrice`.\n",
        "\n",
        "This visualisation helps identify:\n",
        "- Which features are most linearly associated with sale price.\n",
        "- Where multicollinearity may exist — such as when two or more predictors are highly correlated with one another.\n",
        "\n",
        "**Key Observations:**\n",
        "- `OverallQual`, `GrLivArea`, and `TotalBsmtSF` exhibit the strongest positive linear correlations with `SalePrice`.\n",
        "- Features like `GarageArea`, `1stFlrSF`, and `YearBuilt` also show meaningful relationships.\n",
        "- Moderate correlations among predictors such as `GarageArea` and `MasVnrArea` suggest some overlap in the information they provide, which should be considered during model refinement.\n",
        "\n",
        "This plot provides Lydia with a clearer understanding of which property features are most influential when estimating market value."
      ]
    },
    {
      "cell_type": "code",
      "execution_count": 23,
      "metadata": {},
      "outputs": [
        {
          "data": {
            "application/vnd.plotly.v1+json": {
              "config": {
                "plotlyServerURL": "https://plot.ly"
              },
              "data": [
                {
                  "coloraxis": "coloraxis",
                  "hovertemplate": "x: %{x}<br>y: %{y}<br>Correlation Coefficient: %{z}<extra></extra>",
                  "name": "0",
                  "texttemplate": "%{z}",
                  "type": "heatmap",
                  "x": [
                    "OverallQual",
                    "GrLivArea",
                    "GarageArea",
                    "TotalBsmtSF",
                    "1stFlrSF",
                    "YearBuilt",
                    "YearRemodAdd",
                    "MasVnrArea",
                    "GarageYrBlt",
                    "BsmtFinSF1"
                  ],
                  "xaxis": "x",
                  "y": [
                    "OverallQual",
                    "GrLivArea",
                    "GarageArea",
                    "TotalBsmtSF",
                    "1stFlrSF",
                    "YearBuilt",
                    "YearRemodAdd",
                    "MasVnrArea",
                    "GarageYrBlt",
                    "BsmtFinSF1"
                  ],
                  "yaxis": "y",
                  "z": {
                    "bdata": "AAAAAAAA8D8SQsi36vniP/1UCQ0V/OE/caIhK7o14T/j3d2Cc3reP2Fi7tZ3UOI/5Bmb5DOf4T+6x/A1axDaP/RTxQ6VdOA/He5Z11+tzj8SQsi36vniPwAAAAAAAPA/iI3A/g0E3j8/v3uFjxzdP92YakzeHOI/wdHpeSZ5yT/WN0nRkmTSP5cKXEbY1dg/L9ZOxXIizD9tB/kBWqXKP/1UCQ0V/OE/iI3A/g0E3j8AAAAAAADwP3cSwOaGJd8//bqjJpVY3z8GKC/sLafeP89oP5FKyNc/+M664pC81z8GiEBD5ADeP2LaOxOQAdM/caIhK7o14T8/v3uFjxzdP3cSwOaGJd8/AAAAAAAA8D9NoBftljnqP3b3tLKMDdk/TauRidGg0j9Ia4kAWAvXPwjMOCr7zNM/9rzb7He34D/j3d2Cc3reP92YakzeHOI//bqjJpVY3z9NoBftljnqPwAAAAAAAPA/SDVDag4M0j+NMX9yv8TOP+NNE/MbwNU//pHwqGnJzD8dEJuFA4ncP2Fi7tZ3UOI/wdHpeSZ5yT8GKC/sLafeP3b3tLKMDdk/SDVDag4M0j8AAAAAAADwP75W1f+q+OI/I5MQk0Hx0z9WvNNKrN7oP8UbAYO4788/5Bmb5DOf4T/WN0nRkmTSP89oP5FKyNc/TauRidGg0j+NMX9yv8TOP75W1f+q+OI/AAAAAAAA8D8U37wYgpjGP/g23bjpueM/Cd+ISRFxwD+6x/A1axDaP5cKXEbY1dg/+M664pC81z9Ia4kAWAvXP+NNE/MbwNU/I5MQk0Hx0z8U37wYgpjGPwAAAAAAAPA/4C9kF/JJzz8H+u5Qa7jQP/RTxQ6VdOA/L9ZOxXIizD8GiEBD5ADePwjMOCr7zNM//pHwqGnJzD9WvNNKrN7oP/g23bjpueM/4C9kF/JJzz8AAAAAAADwP61jistNC8M/He5Z11+tzj9tB/kBWqXKP2LaOxOQAdM/9rzb7He34D8dEJuFA4ncP8UbAYO4788/Cd+ISRFxwD8H+u5Qa7jQP61jistNC8M/AAAAAAAA8D8=",
                    "dtype": "f8",
                    "shape": "10, 10"
                  }
                }
              ],
              "layout": {
                "coloraxis": {
                  "colorbar": {
                    "title": {
                      "text": "Correlation Coefficient"
                    }
                  },
                  "colorscale": [
                    [
                      0,
                      "rgb(103,0,31)"
                    ],
                    [
                      0.1,
                      "rgb(178,24,43)"
                    ],
                    [
                      0.2,
                      "rgb(214,96,77)"
                    ],
                    [
                      0.3,
                      "rgb(244,165,130)"
                    ],
                    [
                      0.4,
                      "rgb(253,219,199)"
                    ],
                    [
                      0.5,
                      "rgb(247,247,247)"
                    ],
                    [
                      0.6,
                      "rgb(209,229,240)"
                    ],
                    [
                      0.7,
                      "rgb(146,197,222)"
                    ],
                    [
                      0.8,
                      "rgb(67,147,195)"
                    ],
                    [
                      0.9,
                      "rgb(33,102,172)"
                    ],
                    [
                      1,
                      "rgb(5,48,97)"
                    ]
                  ]
                },
                "template": {
                  "data": {
                    "bar": [
                      {
                        "error_x": {
                          "color": "#2a3f5f"
                        },
                        "error_y": {
                          "color": "#2a3f5f"
                        },
                        "marker": {
                          "line": {
                            "color": "#E5ECF6",
                            "width": 0.5
                          },
                          "pattern": {
                            "fillmode": "overlay",
                            "size": 10,
                            "solidity": 0.2
                          }
                        },
                        "type": "bar"
                      }
                    ],
                    "barpolar": [
                      {
                        "marker": {
                          "line": {
                            "color": "#E5ECF6",
                            "width": 0.5
                          },
                          "pattern": {
                            "fillmode": "overlay",
                            "size": 10,
                            "solidity": 0.2
                          }
                        },
                        "type": "barpolar"
                      }
                    ],
                    "carpet": [
                      {
                        "aaxis": {
                          "endlinecolor": "#2a3f5f",
                          "gridcolor": "white",
                          "linecolor": "white",
                          "minorgridcolor": "white",
                          "startlinecolor": "#2a3f5f"
                        },
                        "baxis": {
                          "endlinecolor": "#2a3f5f",
                          "gridcolor": "white",
                          "linecolor": "white",
                          "minorgridcolor": "white",
                          "startlinecolor": "#2a3f5f"
                        },
                        "type": "carpet"
                      }
                    ],
                    "choropleth": [
                      {
                        "colorbar": {
                          "outlinewidth": 0,
                          "ticks": ""
                        },
                        "type": "choropleth"
                      }
                    ],
                    "contour": [
                      {
                        "colorbar": {
                          "outlinewidth": 0,
                          "ticks": ""
                        },
                        "colorscale": [
                          [
                            0,
                            "#0d0887"
                          ],
                          [
                            0.1111111111111111,
                            "#46039f"
                          ],
                          [
                            0.2222222222222222,
                            "#7201a8"
                          ],
                          [
                            0.3333333333333333,
                            "#9c179e"
                          ],
                          [
                            0.4444444444444444,
                            "#bd3786"
                          ],
                          [
                            0.5555555555555556,
                            "#d8576b"
                          ],
                          [
                            0.6666666666666666,
                            "#ed7953"
                          ],
                          [
                            0.7777777777777778,
                            "#fb9f3a"
                          ],
                          [
                            0.8888888888888888,
                            "#fdca26"
                          ],
                          [
                            1,
                            "#f0f921"
                          ]
                        ],
                        "type": "contour"
                      }
                    ],
                    "contourcarpet": [
                      {
                        "colorbar": {
                          "outlinewidth": 0,
                          "ticks": ""
                        },
                        "type": "contourcarpet"
                      }
                    ],
                    "heatmap": [
                      {
                        "colorbar": {
                          "outlinewidth": 0,
                          "ticks": ""
                        },
                        "colorscale": [
                          [
                            0,
                            "#0d0887"
                          ],
                          [
                            0.1111111111111111,
                            "#46039f"
                          ],
                          [
                            0.2222222222222222,
                            "#7201a8"
                          ],
                          [
                            0.3333333333333333,
                            "#9c179e"
                          ],
                          [
                            0.4444444444444444,
                            "#bd3786"
                          ],
                          [
                            0.5555555555555556,
                            "#d8576b"
                          ],
                          [
                            0.6666666666666666,
                            "#ed7953"
                          ],
                          [
                            0.7777777777777778,
                            "#fb9f3a"
                          ],
                          [
                            0.8888888888888888,
                            "#fdca26"
                          ],
                          [
                            1,
                            "#f0f921"
                          ]
                        ],
                        "type": "heatmap"
                      }
                    ],
                    "histogram": [
                      {
                        "marker": {
                          "pattern": {
                            "fillmode": "overlay",
                            "size": 10,
                            "solidity": 0.2
                          }
                        },
                        "type": "histogram"
                      }
                    ],
                    "histogram2d": [
                      {
                        "colorbar": {
                          "outlinewidth": 0,
                          "ticks": ""
                        },
                        "colorscale": [
                          [
                            0,
                            "#0d0887"
                          ],
                          [
                            0.1111111111111111,
                            "#46039f"
                          ],
                          [
                            0.2222222222222222,
                            "#7201a8"
                          ],
                          [
                            0.3333333333333333,
                            "#9c179e"
                          ],
                          [
                            0.4444444444444444,
                            "#bd3786"
                          ],
                          [
                            0.5555555555555556,
                            "#d8576b"
                          ],
                          [
                            0.6666666666666666,
                            "#ed7953"
                          ],
                          [
                            0.7777777777777778,
                            "#fb9f3a"
                          ],
                          [
                            0.8888888888888888,
                            "#fdca26"
                          ],
                          [
                            1,
                            "#f0f921"
                          ]
                        ],
                        "type": "histogram2d"
                      }
                    ],
                    "histogram2dcontour": [
                      {
                        "colorbar": {
                          "outlinewidth": 0,
                          "ticks": ""
                        },
                        "colorscale": [
                          [
                            0,
                            "#0d0887"
                          ],
                          [
                            0.1111111111111111,
                            "#46039f"
                          ],
                          [
                            0.2222222222222222,
                            "#7201a8"
                          ],
                          [
                            0.3333333333333333,
                            "#9c179e"
                          ],
                          [
                            0.4444444444444444,
                            "#bd3786"
                          ],
                          [
                            0.5555555555555556,
                            "#d8576b"
                          ],
                          [
                            0.6666666666666666,
                            "#ed7953"
                          ],
                          [
                            0.7777777777777778,
                            "#fb9f3a"
                          ],
                          [
                            0.8888888888888888,
                            "#fdca26"
                          ],
                          [
                            1,
                            "#f0f921"
                          ]
                        ],
                        "type": "histogram2dcontour"
                      }
                    ],
                    "mesh3d": [
                      {
                        "colorbar": {
                          "outlinewidth": 0,
                          "ticks": ""
                        },
                        "type": "mesh3d"
                      }
                    ],
                    "parcoords": [
                      {
                        "line": {
                          "colorbar": {
                            "outlinewidth": 0,
                            "ticks": ""
                          }
                        },
                        "type": "parcoords"
                      }
                    ],
                    "pie": [
                      {
                        "automargin": true,
                        "type": "pie"
                      }
                    ],
                    "scatter": [
                      {
                        "fillpattern": {
                          "fillmode": "overlay",
                          "size": 10,
                          "solidity": 0.2
                        },
                        "type": "scatter"
                      }
                    ],
                    "scatter3d": [
                      {
                        "line": {
                          "colorbar": {
                            "outlinewidth": 0,
                            "ticks": ""
                          }
                        },
                        "marker": {
                          "colorbar": {
                            "outlinewidth": 0,
                            "ticks": ""
                          }
                        },
                        "type": "scatter3d"
                      }
                    ],
                    "scattercarpet": [
                      {
                        "marker": {
                          "colorbar": {
                            "outlinewidth": 0,
                            "ticks": ""
                          }
                        },
                        "type": "scattercarpet"
                      }
                    ],
                    "scattergeo": [
                      {
                        "marker": {
                          "colorbar": {
                            "outlinewidth": 0,
                            "ticks": ""
                          }
                        },
                        "type": "scattergeo"
                      }
                    ],
                    "scattergl": [
                      {
                        "marker": {
                          "colorbar": {
                            "outlinewidth": 0,
                            "ticks": ""
                          }
                        },
                        "type": "scattergl"
                      }
                    ],
                    "scattermap": [
                      {
                        "marker": {
                          "colorbar": {
                            "outlinewidth": 0,
                            "ticks": ""
                          }
                        },
                        "type": "scattermap"
                      }
                    ],
                    "scattermapbox": [
                      {
                        "marker": {
                          "colorbar": {
                            "outlinewidth": 0,
                            "ticks": ""
                          }
                        },
                        "type": "scattermapbox"
                      }
                    ],
                    "scatterpolar": [
                      {
                        "marker": {
                          "colorbar": {
                            "outlinewidth": 0,
                            "ticks": ""
                          }
                        },
                        "type": "scatterpolar"
                      }
                    ],
                    "scatterpolargl": [
                      {
                        "marker": {
                          "colorbar": {
                            "outlinewidth": 0,
                            "ticks": ""
                          }
                        },
                        "type": "scatterpolargl"
                      }
                    ],
                    "scatterternary": [
                      {
                        "marker": {
                          "colorbar": {
                            "outlinewidth": 0,
                            "ticks": ""
                          }
                        },
                        "type": "scatterternary"
                      }
                    ],
                    "surface": [
                      {
                        "colorbar": {
                          "outlinewidth": 0,
                          "ticks": ""
                        },
                        "colorscale": [
                          [
                            0,
                            "#0d0887"
                          ],
                          [
                            0.1111111111111111,
                            "#46039f"
                          ],
                          [
                            0.2222222222222222,
                            "#7201a8"
                          ],
                          [
                            0.3333333333333333,
                            "#9c179e"
                          ],
                          [
                            0.4444444444444444,
                            "#bd3786"
                          ],
                          [
                            0.5555555555555556,
                            "#d8576b"
                          ],
                          [
                            0.6666666666666666,
                            "#ed7953"
                          ],
                          [
                            0.7777777777777778,
                            "#fb9f3a"
                          ],
                          [
                            0.8888888888888888,
                            "#fdca26"
                          ],
                          [
                            1,
                            "#f0f921"
                          ]
                        ],
                        "type": "surface"
                      }
                    ],
                    "table": [
                      {
                        "cells": {
                          "fill": {
                            "color": "#EBF0F8"
                          },
                          "line": {
                            "color": "white"
                          }
                        },
                        "header": {
                          "fill": {
                            "color": "#C8D4E3"
                          },
                          "line": {
                            "color": "white"
                          }
                        },
                        "type": "table"
                      }
                    ]
                  },
                  "layout": {
                    "annotationdefaults": {
                      "arrowcolor": "#2a3f5f",
                      "arrowhead": 0,
                      "arrowwidth": 1
                    },
                    "autotypenumbers": "strict",
                    "coloraxis": {
                      "colorbar": {
                        "outlinewidth": 0,
                        "ticks": ""
                      }
                    },
                    "colorscale": {
                      "diverging": [
                        [
                          0,
                          "#8e0152"
                        ],
                        [
                          0.1,
                          "#c51b7d"
                        ],
                        [
                          0.2,
                          "#de77ae"
                        ],
                        [
                          0.3,
                          "#f1b6da"
                        ],
                        [
                          0.4,
                          "#fde0ef"
                        ],
                        [
                          0.5,
                          "#f7f7f7"
                        ],
                        [
                          0.6,
                          "#e6f5d0"
                        ],
                        [
                          0.7,
                          "#b8e186"
                        ],
                        [
                          0.8,
                          "#7fbc41"
                        ],
                        [
                          0.9,
                          "#4d9221"
                        ],
                        [
                          1,
                          "#276419"
                        ]
                      ],
                      "sequential": [
                        [
                          0,
                          "#0d0887"
                        ],
                        [
                          0.1111111111111111,
                          "#46039f"
                        ],
                        [
                          0.2222222222222222,
                          "#7201a8"
                        ],
                        [
                          0.3333333333333333,
                          "#9c179e"
                        ],
                        [
                          0.4444444444444444,
                          "#bd3786"
                        ],
                        [
                          0.5555555555555556,
                          "#d8576b"
                        ],
                        [
                          0.6666666666666666,
                          "#ed7953"
                        ],
                        [
                          0.7777777777777778,
                          "#fb9f3a"
                        ],
                        [
                          0.8888888888888888,
                          "#fdca26"
                        ],
                        [
                          1,
                          "#f0f921"
                        ]
                      ],
                      "sequentialminus": [
                        [
                          0,
                          "#0d0887"
                        ],
                        [
                          0.1111111111111111,
                          "#46039f"
                        ],
                        [
                          0.2222222222222222,
                          "#7201a8"
                        ],
                        [
                          0.3333333333333333,
                          "#9c179e"
                        ],
                        [
                          0.4444444444444444,
                          "#bd3786"
                        ],
                        [
                          0.5555555555555556,
                          "#d8576b"
                        ],
                        [
                          0.6666666666666666,
                          "#ed7953"
                        ],
                        [
                          0.7777777777777778,
                          "#fb9f3a"
                        ],
                        [
                          0.8888888888888888,
                          "#fdca26"
                        ],
                        [
                          1,
                          "#f0f921"
                        ]
                      ]
                    },
                    "colorway": [
                      "#636efa",
                      "#EF553B",
                      "#00cc96",
                      "#ab63fa",
                      "#FFA15A",
                      "#19d3f3",
                      "#FF6692",
                      "#B6E880",
                      "#FF97FF",
                      "#FECB52"
                    ],
                    "font": {
                      "color": "#2a3f5f"
                    },
                    "geo": {
                      "bgcolor": "white",
                      "lakecolor": "white",
                      "landcolor": "#E5ECF6",
                      "showlakes": true,
                      "showland": true,
                      "subunitcolor": "white"
                    },
                    "hoverlabel": {
                      "align": "left"
                    },
                    "hovermode": "closest",
                    "mapbox": {
                      "style": "light"
                    },
                    "paper_bgcolor": "white",
                    "plot_bgcolor": "#E5ECF6",
                    "polar": {
                      "angularaxis": {
                        "gridcolor": "white",
                        "linecolor": "white",
                        "ticks": ""
                      },
                      "bgcolor": "#E5ECF6",
                      "radialaxis": {
                        "gridcolor": "white",
                        "linecolor": "white",
                        "ticks": ""
                      }
                    },
                    "scene": {
                      "xaxis": {
                        "backgroundcolor": "#E5ECF6",
                        "gridcolor": "white",
                        "gridwidth": 2,
                        "linecolor": "white",
                        "showbackground": true,
                        "ticks": "",
                        "zerolinecolor": "white"
                      },
                      "yaxis": {
                        "backgroundcolor": "#E5ECF6",
                        "gridcolor": "white",
                        "gridwidth": 2,
                        "linecolor": "white",
                        "showbackground": true,
                        "ticks": "",
                        "zerolinecolor": "white"
                      },
                      "zaxis": {
                        "backgroundcolor": "#E5ECF6",
                        "gridcolor": "white",
                        "gridwidth": 2,
                        "linecolor": "white",
                        "showbackground": true,
                        "ticks": "",
                        "zerolinecolor": "white"
                      }
                    },
                    "shapedefaults": {
                      "line": {
                        "color": "#2a3f5f"
                      }
                    },
                    "ternary": {
                      "aaxis": {
                        "gridcolor": "white",
                        "linecolor": "white",
                        "ticks": ""
                      },
                      "baxis": {
                        "gridcolor": "white",
                        "linecolor": "white",
                        "ticks": ""
                      },
                      "bgcolor": "#E5ECF6",
                      "caxis": {
                        "gridcolor": "white",
                        "linecolor": "white",
                        "ticks": ""
                      }
                    },
                    "title": {
                      "x": 0.05
                    },
                    "xaxis": {
                      "automargin": true,
                      "gridcolor": "white",
                      "linecolor": "white",
                      "ticks": "",
                      "title": {
                        "standoff": 15
                      },
                      "zerolinecolor": "white",
                      "zerolinewidth": 2
                    },
                    "yaxis": {
                      "automargin": true,
                      "gridcolor": "white",
                      "linecolor": "white",
                      "ticks": "",
                      "title": {
                        "standoff": 15
                      },
                      "zerolinecolor": "white",
                      "zerolinewidth": 2
                    }
                  }
                },
                "title": {
                  "text": "Top 10 Features Correlated with SalePrice"
                },
                "xaxis": {
                  "anchor": "y",
                  "constrain": "domain",
                  "domain": [
                    0,
                    1
                  ],
                  "scaleanchor": "y",
                  "title": {
                    "text": "Correlated Predictor Variables"
                  }
                },
                "yaxis": {
                  "anchor": "x",
                  "autorange": "reversed",
                  "constrain": "domain",
                  "domain": [
                    0,
                    1
                  ],
                  "title": {
                    "text": "Correlated Predictor Variables"
                  }
                }
              }
            }
          },
          "metadata": {},
          "output_type": "display_data"
        }
      ],
      "source": [
        "# Heatmap code\n",
        "# Import Plotly Express for interactive visualisations\n",
        "import plotly.express as px\n",
        "\n",
        "# Compute correlations between numeric features and SalePrice, sorted in descending order\n",
        "correlations = df.corr(numeric_only=True)['SalePrice'].sort_values(ascending=False)\n",
        "\n",
        "# Extract the name of the top 10 features (excluding SalePrice itself)\n",
        "top_corr_features = correlations[1:11].index\n",
        "# Compute the correlation matrix for these top features\n",
        "top_corr_matrix = df[top_corr_features].corr()\n",
        "\n",
        "# Create an interactive heatmap using Plotly \n",
        "fig = px.imshow(\n",
        "    top_corr_matrix, # The correlation matrix as data\n",
        "    text_auto=True, # Show correlation values on the heat map \n",
        "    color_continuous_scale='RdBu', # Use a diverging colour scale (Red-Blue)\n",
        "    title=\"Top 10 Features Correlated with SalePrice\", # Chart Title\n",
        "    labels=dict(color=\"Correlation Coefficient\"), # Legend Title\n",
        "    x=top_corr_features, # Set x axis feature names \n",
        "    y=top_corr_features # Set y axis feature names \n",
        ")\n",
        "\n",
        "# Improve readability with axis titles \n",
        "fig.update_layout(\n",
        "    xaxis_title=\"Correlated Predictor Variables\",\n",
        "    yaxis_title=\"Correlated Predictor Variables\"\n",
        ")\n",
        "# Display heatmap in the notebook \n",
        "fig.show()\n",
        "# Save the heatmap to the images folder \n",
        "fig.write_image(\"../images/feature_correlation_heatmap.png\")"
      ]
    },
    {
      "cell_type": "markdown",
      "metadata": {},
      "source": [
        "### **Box Plot: Sale Price Distribution by Overall Quality**\n",
        "\n",
        "This visualisation presents a **box plot** showing how house sale prices vary according to the **Overall Quality (`OverallQual`)** rating. This rating is a numerical scale from **1 (Very Poor)** to **10 (Very Excellent)**, representing the overall material and finish quality of the house.\n",
        "\n",
        "#### **Interpretation and Insights:**\n",
        "\n",
        "- **Positive Correlation**: There is a **strong upward trend** in sale price as the overall quality rating increases. Higher-quality homes consistently sell for higher prices.\n",
        "- **Greater Price Spread at Higher Ratings**: Quality ratings of 8, 9, and 10 show wider interquartile ranges and more outliers, indicating that premium homes may vary more in price due to other influencing features (e.g. location, luxury additions).\n",
        "- **Mid-range Stability**: Houses with quality ratings between 5 and 7 demonstrate narrower price distributions, reflecting more uniform pricing in mid-market properties.\n",
        "- **Presence of Outliers**: All quality levels include some outliers, particularly at the upper end, representing properties that may be overvalued or feature unique characteristics.\n",
        "\n",
        "This chart highlights **OverallQual** as a critical predictor of sale price, validating its inclusion as a top feature in the regression model and supporting informed pricing decisions for inherited properties.\n",
        "\n",
        "> **Saved as**: `images/boxplot_saleprice_overallqual.png`\n"
      ]
    },
    {
      "cell_type": "code",
      "execution_count": 24,
      "metadata": {},
      "outputs": [
        {
          "data": {
            "application/vnd.plotly.v1+json": {
              "config": {
                "plotlyServerURL": "https://plot.ly"
              },
              "data": [
                {
                  "alignmentgroup": "True",
                  "hovertemplate": "Overall Quality=%{x}<br>Sale Price (USD)=%{y}<extra></extra>",
                  "legendgroup": "7",
                  "marker": {
                    "color": "#636efa"
                  },
                  "name": "7",
                  "notched": false,
                  "offsetgroup": "7",
                  "orientation": "v",
                  "showlegend": true,
                  "type": "box",
                  "x": {
                    "bdata": "BwcHBwcHBwcHBwcHBwcHBwcHBwcHBwcHBwcHBwcHBwcHBwcHBwcHBwcHBwcHBwcHBwcHBwcHBwcHBwcHBwcHBwcHBwcHBwcHBwcHBwcHBwcHBwcHBwcHBwcHBwcHBwcHBwcHBwcHBwcHBwcHBwcHBwcHBwcHBwcHBwcHBwcHBwcHBwcHBwcHBwcHBwcHBwcHBwcHBwcHBwcHBwcHBwcHBwcHBwcHBwcHBwcHBwcHBwcHBwcHBwcHBwcHBwcHBwcHBwcHBwcHBwcHBwcHBwcHBwcHBwcHBwcHBwcHBwcHBwcHBwcHBwcHBwcHBwcHBwcHBwcHBwcHBwcHBwcHBwcHBwcHBwcHBwcHBwcHBwcHBwcHBwcHBwcHBwcHBwcHBwcHBwcHBwcHBwcHBwcHBwcHBwcHBwcHBwcHBwcHBwcHBw==",
                    "dtype": "i1"
                  },
                  "x0": " ",
                  "xaxis": "x",
                  "y": {
                    "bdata": "dC4DAAxpAwDgIgIAQA0DAGz7AQDMQwQAoAMCAIggAgBGqAMAlP8CAOAiAgBsWQMAIL8CANByAwDobgMAILkDAKjSAgA0kgIA8EMDAPQIAwAclgIAIL8CAOLbBQAA4gQA0HIDALCnAgD4mwIAoPcDAOAcAwAkZQMAyCYCALTjAwAA4gQAYFsDAMzMAgCYpQMApA0DAEANAwDIowIAwM4CAADuAgDQ+wEAQMIEABTBAgAIOgQABtsDAFA0AwDMwAQASI0CAGQgAwDQbAQA9O8CAJzUAgDE9wIAyCADAFyvAwAgvwIAcIIDAGBbAwBMiAMAXK8DAMggAwAoEQMAAO4CAJR8AwCMKgMAXIMCAPiVAwCYpQMAyCADAFiABADobgMA2LgFAFC3AgBU4AIAoPcDAKD3AwBs3AIAyJcEAFCxAwCYKAMA8EMDAAQXAwCQWQIAMOYCAGQHAwBsWQMAZt0CAPxBAwAY6gIAaK0DAH6EAgDARQQAMGMDAKB6AwCOwwIA3CUDAFgPAgA4MgQASPsCACA8AwDUoQIAUDQDANwMAwDARQQAjK0CAHhdAgA0ugIAWIwCADDmAgB4XQIAwM4CAIx1AwDoaAQA6HQCAKkXAwAoCwQAEJIDAGbRBACArwIAYN4CAAJBAwCIBwIA0b0CAIh+AwBYAwQAYFUEAJirAgAQkgMA4BYEAPBDAwD0bAMAEJgCAGg2AgBQOgIALNYCAJn2AgDYTQIASF8DAMggAwBEQgEA0HIDAH4kAwAY6gIACEYCAAwFAwBIXwMAjCoDACN6AwBARQIAmBwFAKD9AgDgIgIACEADALCbBABUvQIADG8CAAg0BQDE9wIAbNwCACRlAwC4fAIAMOYCADi7AgDgmQMA+w4EADD5AwDQeAIAyLwCAKBIAwCU/wIABU8DADxhAwCArwIA3NoCACiOAwDIcQIA3h0EAMT3AgBI4gIAYHkDAIRuAwAAawMA2MoCAOhuAwBI4gIAyD8CANhNAgDInQMACEADAKCAAgDAUQIA/uUCANTSAwDgmQMAbNwCACC/AgCAqQMAkNADALChAwCArwIAMGMDADDmAgBQsQMARNICAEjcAwC3qAMAsLoDAPBDAwD07wIAqNICAHhdAgB0RwMAyKMCAPDGAgBMjgIAiIQCANwMAwDguAIAl3ACAIgBAwCwJAMACMMCAICpAwD4GAMAAHECAPJBAwDQ9QIAGOoCAIgBAwBwggMAiAAEAGWxAgDNDQMA+tUCAMDIAwBAAQUA0PUCAGxZAwAA7gIAHBkCAABxAgBIZQIAvL4CACUxBADIIAMApD8DADyAAgCwpwIAuPMDANhHAwCkqQIApMgBAJguAgBIFAMAcIIDANKOAwB8nwIAkNADALj5AgBI4gIASlgDAIAyAgBQtwIADAUDAAhAAwAcJgQAwM4CAIytAgC4+QIAhG4DAAjKAwAQmAIAhNgCACC5AwDmngIAcHwEABiGAgAw5gIAXM4CAJDcAQCg9wMAuHYDACC/AgBUfAIA6G4DAECKAwDQ+wEABBcDAJgcBQD4GAMABDADADDmAgB0sQIAQA0DALtgAgBkAQQA2EcDAPiVAwAQmAIAoPcDABgzAgDASwMA6PECAHwvBACQ0AMASGUCAJDQAwD4lQMAMsMDAFf1AgDYRwMAcIIDAByvAgCYIgQAiAEDAJC9AgCo0gIABBEEAA==",
                    "dtype": "i4"
                  },
                  "y0": " ",
                  "yaxis": "y"
                },
                {
                  "alignmentgroup": "True",
                  "hovertemplate": "Overall Quality=%{x}<br>Sale Price (USD)=%{y}<extra></extra>",
                  "legendgroup": "6",
                  "marker": {
                    "color": "#EF553B"
                  },
                  "name": "6",
                  "notched": false,
                  "offsetgroup": "6",
                  "orientation": "v",
                  "showlegend": true,
                  "type": "box",
                  "x": {
                    "bdata": "BgYGBgYGBgYGBgYGBgYGBgYGBgYGBgYGBgYGBgYGBgYGBgYGBgYGBgYGBgYGBgYGBgYGBgYGBgYGBgYGBgYGBgYGBgYGBgYGBgYGBgYGBgYGBgYGBgYGBgYGBgYGBgYGBgYGBgYGBgYGBgYGBgYGBgYGBgYGBgYGBgYGBgYGBgYGBgYGBgYGBgYGBgYGBgYGBgYGBgYGBgYGBgYGBgYGBgYGBgYGBgYGBgYGBgYGBgYGBgYGBgYGBgYGBgYGBgYGBgYGBgYGBgYGBgYGBgYGBgYGBgYGBgYGBgYGBgYGBgYGBgYGBgYGBgYGBgYGBgYGBgYGBgYGBgYGBgYGBgYGBgYGBgYGBgYGBgYGBgYGBgYGBgYGBgYGBgYGBgYGBgYGBgYGBgYGBgYGBgYGBgYGBgYGBgYGBgYGBgYGBgYGBgYGBgYGBgYGBgYGBgYGBgYGBgYGBgYGBgYGBgYGBgYGBgYGBgYGBgYGBgYGBgYGBgYGBgYGBgY=",
                    "dtype": "i1"
                  },
                  "x0": " ",
                  "xaxis": "x",
                  "y": {
                    "bdata": "/MQCAEhlAgAIRgIAAHECAGizAgBEvwEAFMECADBpAgDc8wIAnFcCALCnAgCUggIADAsCAM4fAwCo0gIAyCADAFC3AgAw5gIAxBYCAKhPAwCs9QMAgK8CAJaAAgAgvwIAQBMCACxZAgAIwwIAFEoBAAD0AQB4XQIAILkDAEyIAwDQ+wEAMOYCAPiVAwBI6AEAmDQBAMR6AgDAUQIA2EcDALh8AgDAzgIAOLUDADg4AwBoswIAFEQCAECWAQDsnQIAgLUBAAhGAgBoNgIAkNYCANZ3AgBADQMAvL4CABCeAQAgQgIAJHEBALRNAwCcXQEAaLkBAMDUAQAoFwIA4CICAAg6BADIowIAMGkCAIwqAwCArwIA2E0CAIytAgCo0gIAIEICAPgeAgCo0gIAALwCABhtAgDnVwIAWIwCAKQsAgCYqwIAJGsCAJxdAQDghgIAoAMCAGI3AgDkRQMAAO4CAHhdAgCoIwIAzE8CADxnAgCsnQEA4CICAFy1AgDIowIAYGECAPDMAQAw5gIAGG0CAIiEAgBwoQIASOgBADi7AgDgKAEAgKkDAEjoAQDYRwMAQJACADjBAQBoswIA/EcCAJilAwDYRwMA+B4CAJirAgCYTQEAHDgBAAjDAgAgxQEA2NABALCtAQAM8gEAMOYCAMzSAQCwrQEA4BwDABzhAgB42gIAIEICAAQwAwCggAIAiAcCAPGiAgBouQEAOD4CAKwtAwBwCwIAMGkCADg4AwDwSQIAGG0CALAPAwCYqwIAAPQBAFA0AwDgIgIAqNICAAD0AQDA1AEAjMYCAOTOAQDQ+wEA4CICAEi/AQDYTQIAyCYCACBCAgAcGQIAoMsCABycAQCAqQMANJICAB6FAgAAcQIAqFUCADSSAgCAMgIAQA0DAJIvAgB4XQIAeF0CAFgPAgDAVwEA3HwBALCtAQDo9wEA3PMCALylAgCwlAEAiIQCANztAwDgIgIAFEQCAJguAgDIowIAjPgCAMgmAgCArwIAxP0BAIiEAgCYLgIAMGMDALAqAgCoTwMAYGECANShAgC0bAIADPIBAABxAgD4oQEA0HgCAFgPAgAcrwIAAPQBANx2AgBs3AIAcD0CAPibAgCMMAIAQA0DAAjDAgB0NAIAzGgCAHhdAgDsIAIAcIgCAFiMAgCghgEA4CICADSrAgCAqQMAeNoCAKwBAgAwaQIAOD4CALCnAgCQ0AMAwFECADQPAwBQtwIA/EcCANShAgCEWwIA4CICALCnAgClpgIAdLECACgRAwAGmAIA6PECAIwqAwB0TQIAHBkCAHwDAwAM8gEAaDYCAGDkAQCAJgQAeF0CANS6AgDgIgIArIQBAAjJAQC4+QIAeNoCAEynAgCo0gIArH4CAIiEAgCg0QEA8MwBAMijAgCg/QIAiIQCACC/AgBgWwMApK8BAFC3AgDcjwIAaE8CAJBZAgAMbwIA/GACAGg2AgAAcQIAbNwCADg+AgA0FQIAMLECABjwAQAMbwIACMMCAGDeAgCAzgEA/MoBACiUAgBwjgEA2NABAKD9AgAgvwIAYOQBAHCCAwC01gEAqNICAFA6AgAAawMAyKMCAPiVAwD4mwIAuHwCAJilAwA4wQEAiIQCADBpAgCArwIAQA0DAEjiAgCAtQEAbGUBAJguAgBoNgIA8EMDAKQsAgBQtwIArJcCANz5AQAM8gEA2E0CAAjDAgAUwQIACMMCAJbVAgBoswIA0HgCAAwFAwD4HgIAKJQCAJQFAgCYLgIA4CICAFy1AgAAvAIANCgDAFRjAgAA6AMA3I8CAHhdAgBoswIA+JsCAPQOAgBctQIABGUCAIAyAgB8hgIAeGMBADhEAQC8nwMAKJoBAEATAgC4/wEAuHwCAOoYAgDA1AEA6PECAOAiAgCYKAMAGGcDALy+AgAM8gEANBUCABoyBACwKgIAdMoCAIYxAgCE2AIAsKcCAMRIAgAY6gIANEcCAKjYAQDo9wEAmKsCAFA0AwA=",
                    "dtype": "i4"
                  },
                  "y0": " ",
                  "yaxis": "y"
                },
                {
                  "alignmentgroup": "True",
                  "hovertemplate": "Overall Quality=%{x}<br>Sale Price (USD)=%{y}<extra></extra>",
                  "legendgroup": "8",
                  "marker": {
                    "color": "#00cc96"
                  },
                  "name": "8",
                  "notched": false,
                  "offsetgroup": "8",
                  "orientation": "v",
                  "showlegend": true,
                  "type": "box",
                  "x": {
                    "bdata": "CAgICAgICAgICAgICAgICAgICAgICAgICAgICAgICAgICAgICAgICAgICAgICAgICAgICAgICAgICAgICAgICAgICAgICAgICAgICAgICAgICAgICAgICAgICAgICAgICAgICAgICAgICAgICAgICAgICAgICAgICAgICAgICAgICAgICAgICAgICAgICAgICAgICAgICAgICAgICAgICAgICAgICAgI",
                    "dtype": "i1"
                  },
                  "x0": " ",
                  "xaxis": "x",
                  "y": {
                    "bdata": "kNADADivBAC09gQAcIIDACzpAwBQqwQAvL4CAAi3BABkzwMA1KECAAQXAwBI1gQACL0DAKD3AwCQ0AMAYFsDAHCCAwCyrgUAvBwEAPj3BACgegMAMF0EAHjOBAD4lQMA1DEEADgmBgAw2gQAZAEEAPiVAwAgNgQAEA8EANBsBAB4uwMADo8DAPgSBADsqgQAsB4EANBmBQCg8QQAYFUEAJQYAwDARQQAIDAFAADuAgD8vgMA0O8DACYvBQB4zgQAUDQDAOh0AgALBQQAkNADACA8AwDAtgYAeNQDACiIBACwjwYA2EcDAFC3AgCAJgQAwMgDAAzmAwC41AQAbd0DAOykBQAY3gQAODIEAGBbAwC8egUAfP0DAGinBABcMgMAcQkEAFAuBACoQwUAMFcFAFAiBgBYdAYAZIQDABSvBQBA+wUAtMQEAL+FBQAw4AMASOICADgyBADUmwMAHKkDACC/AgAYkwQALDQEACA8AwDQbAQAaCQFALAeBACQNQgA+AYGAOhuAwCYIgQAmIwDANhHAwBEzAMAdaEEAOAWBAAY5AMASFkEANSbAwAoEQMAsB4EAIAgBQCc5wMAYE8FAECQAgBAigMAuHYDAGzcAgAYYQQA1XgEAPC6BAAYYQQA8D0EABjkAwD8QQMAYNgDAIgBAwAQmAIAiPUEAMBFBAAw2gQAJM8CAIynAwCmewYAeJYDAGa+AwBIWQQANP0FAHD/AwCwpwIA0GwEAKCAAgBQgAMArA4EAHCCAwC8mQQASNAFAMidAwDwPQQAqEkEANBsBACwmwQARYIEADgyBAA4PgIAuHYDAJR8AwBHUwQAkNwBAJBBBgBAigMAmKUDAH1KBAAqUQQAODIEAOjrAwAgMAUAeQUGAICpAwByYQQA",
                    "dtype": "i4"
                  },
                  "y0": " ",
                  "yaxis": "y"
                },
                {
                  "alignmentgroup": "True",
                  "hovertemplate": "Overall Quality=%{x}<br>Sale Price (USD)=%{y}<extra></extra>",
                  "legendgroup": "5",
                  "marker": {
                    "color": "#ab63fa"
                  },
                  "name": "5",
                  "notched": false,
                  "offsetgroup": "5",
                  "orientation": "v",
                  "showlegend": true,
                  "type": "box",
                  "x": {
                    "bdata": "BQUFBQUFBQUFBQUFBQUFBQUFBQUFBQUFBQUFBQUFBQUFBQUFBQUFBQUFBQUFBQUFBQUFBQUFBQUFBQUFBQUFBQUFBQUFBQUFBQUFBQUFBQUFBQUFBQUFBQUFBQUFBQUFBQUFBQUFBQUFBQUFBQUFBQUFBQUFBQUFBQUFBQUFBQUFBQUFBQUFBQUFBQUFBQUFBQUFBQUFBQUFBQUFBQUFBQUFBQUFBQUFBQUFBQUFBQUFBQUFBQUFBQUFBQUFBQUFBQUFBQUFBQUFBQUFBQUFBQUFBQUFBQUFBQUFBQUFBQUFBQUFBQUFBQUFBQUFBQUFBQUFBQUFBQUFBQUFBQUFBQUFBQUFBQUFBQUFBQUFBQUFBQUFBQUFBQUFBQUFBQUFBQUFBQUFBQUFBQUFBQUFBQUFBQUFBQUFBQUFBQUFBQUFBQUFBQUFBQUFBQUFBQUFBQUFBQUFBQUFBQUFBQUFBQUFBQUFBQUFBQUFBQUFBQUFBQUFBQUFBQUFBQUFBQUFBQUFBQUFBQUFBQUFBQ==",
                    "dtype": "i1"
                  },
                  "x0": " ",
                  "xaxis": "x",
                  "y": {
                    "bdata": "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",
                    "dtype": "i4"
                  },
                  "y0": " ",
                  "yaxis": "y"
                },
                {
                  "alignmentgroup": "True",
                  "hovertemplate": "Overall Quality=%{x}<br>Sale Price (USD)=%{y}<extra></extra>",
                  "legendgroup": "9",
                  "marker": {
                    "color": "#FFA15A"
                  },
                  "name": "9",
                  "notched": false,
                  "offsetgroup": "9",
                  "orientation": "v",
                  "showlegend": true,
                  "type": "box",
                  "x": {
                    "bdata": "CQkJCQkJCQkJCQkJCQkJCQkJCQkJCQkJCQkJCQkJCQkJCQkJCQkJCQkJCQ==",
                    "dtype": "i1"
                  },
                  "x0": " ",
                  "xaxis": "x",
                  "y": {
                    "bdata": "qEMFAPw7BACc4QQA6N8FAFRLBgBNqAcAQlYGAEB+BQBzOgUAUsIFABAPBACiqwYAbdoEAMAEBgBgzAUAcPkEAPC0BQA1zwYAeM4EAIj1BACoxgQAvc0EAL6oBQBIWQQAAOIEAMQHBACIZgcAFeUIADBXBQDEBAUASVUJAADiBACYpQMAuAcGAGzQBAAlfggAmBwFAL6aBQCExgUAiPUEAHAVBQB4zgQAnMIFAA==",
                    "dtype": "i4"
                  },
                  "y0": " ",
                  "yaxis": "y"
                },
                {
                  "alignmentgroup": "True",
                  "hovertemplate": "Overall Quality=%{x}<br>Sale Price (USD)=%{y}<extra></extra>",
                  "legendgroup": "4",
                  "marker": {
                    "color": "#19d3f3"
                  },
                  "name": "4",
                  "notched": false,
                  "offsetgroup": "4",
                  "orientation": "v",
                  "showlegend": true,
                  "type": "box",
                  "x": {
                    "bdata": "BAQEBAQEBAQEBAQEBAQEBAQEBAQEBAQEBAQEBAQEBAQEBAQEBAQEBAQEBAQEBAQEBAQEBAQEBAQEBAQEBAQEBAQEBAQEBAQEBAQEBAQEBAQEBAQEBAQEBAQEBAQEBAQEBAQEBAQEBAQEBAQEBAQEBAQEBAQ=",
                    "dtype": "i1"
                  },
                  "x0": " ",
                  "xaxis": "x",
                  "y": {
                    "bdata": "kF8BAJQLAQBAnAAAUEABAGi5AQCAOAEA3PkBAHhjAQBGEgIANBUCANDiAQBMrQEAHnIBALb3AQCghgEAoIYBADjBAQAgkwEA4CICAMgmAgD4oQEA6HoBAMgmAgDAVwEAREIBAFBAAQAgDQIAoIYBAPBJAgDQqQEAaDwBAPDMAQAA6AMAf10BAPBPAQBUiAAACp8BAPBPAQCSsgEA4KUBAOClAQCIBwIA5M4BAOwmAQAUSgEA4KUBABwZAgAcGQIA2FMBANjWAAB4kQEA6PcBAFTmAQBYDwIAtNYBAFiSAQDQfgEA9HgBAHCOAQB8pQEATK0BAEhrAQAA9AEA6PcBAJoEAgDkzgEABKABALCtAQD4JAEAWA8CABw4AQDwSQIAWA8CAPxNAQCwrQEAANsBAMBXAQCArwIAIEgBAOh6AQCAOAEApEsBACxGAQAA9AEAgLUBADjBAQBYDwIAgDgBAJ+pAQBAkAIAIEICAFLFAQD4oQEAaLkBAGg2AgB0OgEAqI0BANx2AgAwCwEA2NABAJixAQBEQgEA2NYAAKCGAQAUzQAAeOABANSnAQDEmQEAKJoBADzqAQA86gEAkF8BAITeAQD0+wAAtNYBAIC1AQA=",
                    "dtype": "i4"
                  },
                  "y0": " ",
                  "yaxis": "y"
                },
                {
                  "alignmentgroup": "True",
                  "hovertemplate": "Overall Quality=%{x}<br>Sale Price (USD)=%{y}<extra></extra>",
                  "legendgroup": "10",
                  "marker": {
                    "color": "#FF6692"
                  },
                  "name": "10",
                  "notched": false,
                  "offsetgroup": "10",
                  "orientation": "v",
                  "showlegend": true,
                  "type": "box",
                  "x": {
                    "bdata": "CgoKCgoKCgoKCgoKCgoKCgoK",
                    "dtype": "i1"
                  },
                  "x0": " ",
                  "xaxis": "x",
                  "y": {
                    "bdata": "/LEGAHg/BwDK5AUAEIAGAPh3CACtJQYArtECAIj1BABu5QYAOIULAOjfBQBcJgUAaIkJACheCwBoGAcAAHECAEQeBwDwugQA",
                    "dtype": "i4"
                  },
                  "y0": " ",
                  "yaxis": "y"
                },
                {
                  "alignmentgroup": "True",
                  "hovertemplate": "Overall Quality=%{x}<br>Sale Price (USD)=%{y}<extra></extra>",
                  "legendgroup": "3",
                  "marker": {
                    "color": "#B6E880"
                  },
                  "name": "3",
                  "notched": false,
                  "offsetgroup": "3",
                  "orientation": "v",
                  "showlegend": true,
                  "type": "box",
                  "x": {
                    "bdata": "AwMDAwMDAwMDAwMDAwMDAwMDAwM=",
                    "dtype": "i1"
                  },
                  "x0": " ",
                  "xaxis": "x",
                  "y": {
                    "bdata": "iKMBAAhMAQDUKgEA3+wBAMxVAQDA1AEAuAUBACDLAAA8bQEADJQAAHhjAQBQQAEAUCECAGg8AQDkagEAGHMBADQbAQCYNAEAhOQAACiaAQA=",
                    "dtype": "i4"
                  },
                  "y0": " ",
                  "yaxis": "y"
                },
                {
                  "alignmentgroup": "True",
                  "hovertemplate": "Overall Quality=%{x}<br>Sale Price (USD)=%{y}<extra></extra>",
                  "legendgroup": "1",
                  "marker": {
                    "color": "#FF97FF"
                  },
                  "name": "1",
                  "notched": false,
                  "offsetgroup": "1",
                  "orientation": "v",
                  "showlegend": true,
                  "type": "box",
                  "x": {
                    "bdata": "AQE=",
                    "dtype": "i1"
                  },
                  "x0": " ",
                  "xaxis": "x",
                  "y": {
                    "bdata": "SO4AAISZAAA=",
                    "dtype": "i4"
                  },
                  "y0": " ",
                  "yaxis": "y"
                },
                {
                  "alignmentgroup": "True",
                  "hovertemplate": "Overall Quality=%{x}<br>Sale Price (USD)=%{y}<extra></extra>",
                  "legendgroup": "2",
                  "marker": {
                    "color": "#FECB52"
                  },
                  "name": "2",
                  "notched": false,
                  "offsetgroup": "2",
                  "orientation": "v",
                  "showlegend": true,
                  "type": "box",
                  "x": {
                    "bdata": "AgIC",
                    "dtype": "i1"
                  },
                  "x0": " ",
                  "xaxis": "x",
                  "y": {
                    "bdata": "YOoAAO+JAABg6gAA",
                    "dtype": "i4"
                  },
                  "y0": " ",
                  "yaxis": "y"
                }
              ],
              "layout": {
                "boxmode": "overlay",
                "legend": {
                  "title": {
                    "text": "Overall Quality"
                  },
                  "tracegroupgap": 0
                },
                "showlegend": false,
                "template": {
                  "data": {
                    "bar": [
                      {
                        "error_x": {
                          "color": "#2a3f5f"
                        },
                        "error_y": {
                          "color": "#2a3f5f"
                        },
                        "marker": {
                          "line": {
                            "color": "#E5ECF6",
                            "width": 0.5
                          },
                          "pattern": {
                            "fillmode": "overlay",
                            "size": 10,
                            "solidity": 0.2
                          }
                        },
                        "type": "bar"
                      }
                    ],
                    "barpolar": [
                      {
                        "marker": {
                          "line": {
                            "color": "#E5ECF6",
                            "width": 0.5
                          },
                          "pattern": {
                            "fillmode": "overlay",
                            "size": 10,
                            "solidity": 0.2
                          }
                        },
                        "type": "barpolar"
                      }
                    ],
                    "carpet": [
                      {
                        "aaxis": {
                          "endlinecolor": "#2a3f5f",
                          "gridcolor": "white",
                          "linecolor": "white",
                          "minorgridcolor": "white",
                          "startlinecolor": "#2a3f5f"
                        },
                        "baxis": {
                          "endlinecolor": "#2a3f5f",
                          "gridcolor": "white",
                          "linecolor": "white",
                          "minorgridcolor": "white",
                          "startlinecolor": "#2a3f5f"
                        },
                        "type": "carpet"
                      }
                    ],
                    "choropleth": [
                      {
                        "colorbar": {
                          "outlinewidth": 0,
                          "ticks": ""
                        },
                        "type": "choropleth"
                      }
                    ],
                    "contour": [
                      {
                        "colorbar": {
                          "outlinewidth": 0,
                          "ticks": ""
                        },
                        "colorscale": [
                          [
                            0,
                            "#0d0887"
                          ],
                          [
                            0.1111111111111111,
                            "#46039f"
                          ],
                          [
                            0.2222222222222222,
                            "#7201a8"
                          ],
                          [
                            0.3333333333333333,
                            "#9c179e"
                          ],
                          [
                            0.4444444444444444,
                            "#bd3786"
                          ],
                          [
                            0.5555555555555556,
                            "#d8576b"
                          ],
                          [
                            0.6666666666666666,
                            "#ed7953"
                          ],
                          [
                            0.7777777777777778,
                            "#fb9f3a"
                          ],
                          [
                            0.8888888888888888,
                            "#fdca26"
                          ],
                          [
                            1,
                            "#f0f921"
                          ]
                        ],
                        "type": "contour"
                      }
                    ],
                    "contourcarpet": [
                      {
                        "colorbar": {
                          "outlinewidth": 0,
                          "ticks": ""
                        },
                        "type": "contourcarpet"
                      }
                    ],
                    "heatmap": [
                      {
                        "colorbar": {
                          "outlinewidth": 0,
                          "ticks": ""
                        },
                        "colorscale": [
                          [
                            0,
                            "#0d0887"
                          ],
                          [
                            0.1111111111111111,
                            "#46039f"
                          ],
                          [
                            0.2222222222222222,
                            "#7201a8"
                          ],
                          [
                            0.3333333333333333,
                            "#9c179e"
                          ],
                          [
                            0.4444444444444444,
                            "#bd3786"
                          ],
                          [
                            0.5555555555555556,
                            "#d8576b"
                          ],
                          [
                            0.6666666666666666,
                            "#ed7953"
                          ],
                          [
                            0.7777777777777778,
                            "#fb9f3a"
                          ],
                          [
                            0.8888888888888888,
                            "#fdca26"
                          ],
                          [
                            1,
                            "#f0f921"
                          ]
                        ],
                        "type": "heatmap"
                      }
                    ],
                    "histogram": [
                      {
                        "marker": {
                          "pattern": {
                            "fillmode": "overlay",
                            "size": 10,
                            "solidity": 0.2
                          }
                        },
                        "type": "histogram"
                      }
                    ],
                    "histogram2d": [
                      {
                        "colorbar": {
                          "outlinewidth": 0,
                          "ticks": ""
                        },
                        "colorscale": [
                          [
                            0,
                            "#0d0887"
                          ],
                          [
                            0.1111111111111111,
                            "#46039f"
                          ],
                          [
                            0.2222222222222222,
                            "#7201a8"
                          ],
                          [
                            0.3333333333333333,
                            "#9c179e"
                          ],
                          [
                            0.4444444444444444,
                            "#bd3786"
                          ],
                          [
                            0.5555555555555556,
                            "#d8576b"
                          ],
                          [
                            0.6666666666666666,
                            "#ed7953"
                          ],
                          [
                            0.7777777777777778,
                            "#fb9f3a"
                          ],
                          [
                            0.8888888888888888,
                            "#fdca26"
                          ],
                          [
                            1,
                            "#f0f921"
                          ]
                        ],
                        "type": "histogram2d"
                      }
                    ],
                    "histogram2dcontour": [
                      {
                        "colorbar": {
                          "outlinewidth": 0,
                          "ticks": ""
                        },
                        "colorscale": [
                          [
                            0,
                            "#0d0887"
                          ],
                          [
                            0.1111111111111111,
                            "#46039f"
                          ],
                          [
                            0.2222222222222222,
                            "#7201a8"
                          ],
                          [
                            0.3333333333333333,
                            "#9c179e"
                          ],
                          [
                            0.4444444444444444,
                            "#bd3786"
                          ],
                          [
                            0.5555555555555556,
                            "#d8576b"
                          ],
                          [
                            0.6666666666666666,
                            "#ed7953"
                          ],
                          [
                            0.7777777777777778,
                            "#fb9f3a"
                          ],
                          [
                            0.8888888888888888,
                            "#fdca26"
                          ],
                          [
                            1,
                            "#f0f921"
                          ]
                        ],
                        "type": "histogram2dcontour"
                      }
                    ],
                    "mesh3d": [
                      {
                        "colorbar": {
                          "outlinewidth": 0,
                          "ticks": ""
                        },
                        "type": "mesh3d"
                      }
                    ],
                    "parcoords": [
                      {
                        "line": {
                          "colorbar": {
                            "outlinewidth": 0,
                            "ticks": ""
                          }
                        },
                        "type": "parcoords"
                      }
                    ],
                    "pie": [
                      {
                        "automargin": true,
                        "type": "pie"
                      }
                    ],
                    "scatter": [
                      {
                        "fillpattern": {
                          "fillmode": "overlay",
                          "size": 10,
                          "solidity": 0.2
                        },
                        "type": "scatter"
                      }
                    ],
                    "scatter3d": [
                      {
                        "line": {
                          "colorbar": {
                            "outlinewidth": 0,
                            "ticks": ""
                          }
                        },
                        "marker": {
                          "colorbar": {
                            "outlinewidth": 0,
                            "ticks": ""
                          }
                        },
                        "type": "scatter3d"
                      }
                    ],
                    "scattercarpet": [
                      {
                        "marker": {
                          "colorbar": {
                            "outlinewidth": 0,
                            "ticks": ""
                          }
                        },
                        "type": "scattercarpet"
                      }
                    ],
                    "scattergeo": [
                      {
                        "marker": {
                          "colorbar": {
                            "outlinewidth": 0,
                            "ticks": ""
                          }
                        },
                        "type": "scattergeo"
                      }
                    ],
                    "scattergl": [
                      {
                        "marker": {
                          "colorbar": {
                            "outlinewidth": 0,
                            "ticks": ""
                          }
                        },
                        "type": "scattergl"
                      }
                    ],
                    "scattermap": [
                      {
                        "marker": {
                          "colorbar": {
                            "outlinewidth": 0,
                            "ticks": ""
                          }
                        },
                        "type": "scattermap"
                      }
                    ],
                    "scattermapbox": [
                      {
                        "marker": {
                          "colorbar": {
                            "outlinewidth": 0,
                            "ticks": ""
                          }
                        },
                        "type": "scattermapbox"
                      }
                    ],
                    "scatterpolar": [
                      {
                        "marker": {
                          "colorbar": {
                            "outlinewidth": 0,
                            "ticks": ""
                          }
                        },
                        "type": "scatterpolar"
                      }
                    ],
                    "scatterpolargl": [
                      {
                        "marker": {
                          "colorbar": {
                            "outlinewidth": 0,
                            "ticks": ""
                          }
                        },
                        "type": "scatterpolargl"
                      }
                    ],
                    "scatterternary": [
                      {
                        "marker": {
                          "colorbar": {
                            "outlinewidth": 0,
                            "ticks": ""
                          }
                        },
                        "type": "scatterternary"
                      }
                    ],
                    "surface": [
                      {
                        "colorbar": {
                          "outlinewidth": 0,
                          "ticks": ""
                        },
                        "colorscale": [
                          [
                            0,
                            "#0d0887"
                          ],
                          [
                            0.1111111111111111,
                            "#46039f"
                          ],
                          [
                            0.2222222222222222,
                            "#7201a8"
                          ],
                          [
                            0.3333333333333333,
                            "#9c179e"
                          ],
                          [
                            0.4444444444444444,
                            "#bd3786"
                          ],
                          [
                            0.5555555555555556,
                            "#d8576b"
                          ],
                          [
                            0.6666666666666666,
                            "#ed7953"
                          ],
                          [
                            0.7777777777777778,
                            "#fb9f3a"
                          ],
                          [
                            0.8888888888888888,
                            "#fdca26"
                          ],
                          [
                            1,
                            "#f0f921"
                          ]
                        ],
                        "type": "surface"
                      }
                    ],
                    "table": [
                      {
                        "cells": {
                          "fill": {
                            "color": "#EBF0F8"
                          },
                          "line": {
                            "color": "white"
                          }
                        },
                        "header": {
                          "fill": {
                            "color": "#C8D4E3"
                          },
                          "line": {
                            "color": "white"
                          }
                        },
                        "type": "table"
                      }
                    ]
                  },
                  "layout": {
                    "annotationdefaults": {
                      "arrowcolor": "#2a3f5f",
                      "arrowhead": 0,
                      "arrowwidth": 1
                    },
                    "autotypenumbers": "strict",
                    "coloraxis": {
                      "colorbar": {
                        "outlinewidth": 0,
                        "ticks": ""
                      }
                    },
                    "colorscale": {
                      "diverging": [
                        [
                          0,
                          "#8e0152"
                        ],
                        [
                          0.1,
                          "#c51b7d"
                        ],
                        [
                          0.2,
                          "#de77ae"
                        ],
                        [
                          0.3,
                          "#f1b6da"
                        ],
                        [
                          0.4,
                          "#fde0ef"
                        ],
                        [
                          0.5,
                          "#f7f7f7"
                        ],
                        [
                          0.6,
                          "#e6f5d0"
                        ],
                        [
                          0.7,
                          "#b8e186"
                        ],
                        [
                          0.8,
                          "#7fbc41"
                        ],
                        [
                          0.9,
                          "#4d9221"
                        ],
                        [
                          1,
                          "#276419"
                        ]
                      ],
                      "sequential": [
                        [
                          0,
                          "#0d0887"
                        ],
                        [
                          0.1111111111111111,
                          "#46039f"
                        ],
                        [
                          0.2222222222222222,
                          "#7201a8"
                        ],
                        [
                          0.3333333333333333,
                          "#9c179e"
                        ],
                        [
                          0.4444444444444444,
                          "#bd3786"
                        ],
                        [
                          0.5555555555555556,
                          "#d8576b"
                        ],
                        [
                          0.6666666666666666,
                          "#ed7953"
                        ],
                        [
                          0.7777777777777778,
                          "#fb9f3a"
                        ],
                        [
                          0.8888888888888888,
                          "#fdca26"
                        ],
                        [
                          1,
                          "#f0f921"
                        ]
                      ],
                      "sequentialminus": [
                        [
                          0,
                          "#0d0887"
                        ],
                        [
                          0.1111111111111111,
                          "#46039f"
                        ],
                        [
                          0.2222222222222222,
                          "#7201a8"
                        ],
                        [
                          0.3333333333333333,
                          "#9c179e"
                        ],
                        [
                          0.4444444444444444,
                          "#bd3786"
                        ],
                        [
                          0.5555555555555556,
                          "#d8576b"
                        ],
                        [
                          0.6666666666666666,
                          "#ed7953"
                        ],
                        [
                          0.7777777777777778,
                          "#fb9f3a"
                        ],
                        [
                          0.8888888888888888,
                          "#fdca26"
                        ],
                        [
                          1,
                          "#f0f921"
                        ]
                      ]
                    },
                    "colorway": [
                      "#636efa",
                      "#EF553B",
                      "#00cc96",
                      "#ab63fa",
                      "#FFA15A",
                      "#19d3f3",
                      "#FF6692",
                      "#B6E880",
                      "#FF97FF",
                      "#FECB52"
                    ],
                    "font": {
                      "color": "#2a3f5f"
                    },
                    "geo": {
                      "bgcolor": "white",
                      "lakecolor": "white",
                      "landcolor": "#E5ECF6",
                      "showlakes": true,
                      "showland": true,
                      "subunitcolor": "white"
                    },
                    "hoverlabel": {
                      "align": "left"
                    },
                    "hovermode": "closest",
                    "mapbox": {
                      "style": "light"
                    },
                    "paper_bgcolor": "white",
                    "plot_bgcolor": "#E5ECF6",
                    "polar": {
                      "angularaxis": {
                        "gridcolor": "white",
                        "linecolor": "white",
                        "ticks": ""
                      },
                      "bgcolor": "#E5ECF6",
                      "radialaxis": {
                        "gridcolor": "white",
                        "linecolor": "white",
                        "ticks": ""
                      }
                    },
                    "scene": {
                      "xaxis": {
                        "backgroundcolor": "#E5ECF6",
                        "gridcolor": "white",
                        "gridwidth": 2,
                        "linecolor": "white",
                        "showbackground": true,
                        "ticks": "",
                        "zerolinecolor": "white"
                      },
                      "yaxis": {
                        "backgroundcolor": "#E5ECF6",
                        "gridcolor": "white",
                        "gridwidth": 2,
                        "linecolor": "white",
                        "showbackground": true,
                        "ticks": "",
                        "zerolinecolor": "white"
                      },
                      "zaxis": {
                        "backgroundcolor": "#E5ECF6",
                        "gridcolor": "white",
                        "gridwidth": 2,
                        "linecolor": "white",
                        "showbackground": true,
                        "ticks": "",
                        "zerolinecolor": "white"
                      }
                    },
                    "shapedefaults": {
                      "line": {
                        "color": "#2a3f5f"
                      }
                    },
                    "ternary": {
                      "aaxis": {
                        "gridcolor": "white",
                        "linecolor": "white",
                        "ticks": ""
                      },
                      "baxis": {
                        "gridcolor": "white",
                        "linecolor": "white",
                        "ticks": ""
                      },
                      "bgcolor": "#E5ECF6",
                      "caxis": {
                        "gridcolor": "white",
                        "linecolor": "white",
                        "ticks": ""
                      }
                    },
                    "title": {
                      "x": 0.05
                    },
                    "xaxis": {
                      "automargin": true,
                      "gridcolor": "white",
                      "linecolor": "white",
                      "ticks": "",
                      "title": {
                        "standoff": 15
                      },
                      "zerolinecolor": "white",
                      "zerolinewidth": 2
                    },
                    "yaxis": {
                      "automargin": true,
                      "gridcolor": "white",
                      "linecolor": "white",
                      "ticks": "",
                      "title": {
                        "standoff": 15
                      },
                      "zerolinecolor": "white",
                      "zerolinewidth": 2
                    }
                  }
                },
                "title": {
                  "text": "Sale Price Distribution by Overall Quality"
                },
                "xaxis": {
                  "anchor": "y",
                  "categoryarray": [
                    7,
                    6,
                    8,
                    5,
                    9,
                    4,
                    10,
                    3,
                    1,
                    2
                  ],
                  "categoryorder": "array",
                  "domain": [
                    0,
                    1
                  ],
                  "title": {
                    "text": "Overall Quality Rating"
                  }
                },
                "yaxis": {
                  "anchor": "x",
                  "domain": [
                    0,
                    1
                  ],
                  "title": {
                    "text": "Sale Price (USD)"
                  }
                }
              }
            }
          },
          "metadata": {},
          "output_type": "display_data"
        }
      ],
      "source": [
        "# Import Plotly Express for visualisation\n",
        "import plotly.express as px\n",
        "\n",
        "# Create a box plot to show the distribution of Sale Price \n",
        "fig = px.box(\n",
        "    df, # DataFrame containing the data\n",
        "    x=\"OverallQual\", # Categorical variable on the x axis (quality rating from 1 -10)\n",
        "    y=\"SalePrice\", # Numerical variable on y axis (sale price in USD)\n",
        "    color=\"OverallQual\", # Color the boxes by quality rating for better visual distinction \n",
        "    title=\"Sale Price Distribution by Overall Quality\", # Chart title\n",
        "    labels={\"OverallQual\": \"Overall Quality\", \"SalePrice\": \"Sale Price (USD)\"} # Axis label for content \n",
        ")\n",
        "\n",
        "fig.update_layout( # Update layout to enhance readability \n",
        "    xaxis_title=\"Overall Quality Rating\", # x axis title\n",
        "    yaxis_title=\"Sale Price (USD)\", # y axis stile \n",
        "    showlegend=False # hide the legend as colour are self explanatory \n",
        ")\n",
        "\n",
        "fig.show() # Display the plot in the notebook\n",
        "\n",
        "# Save the figure to the images folder for reuse or reporting\n",
        "fig.write_image(\"../images/boxplot_saleprice_overallqual.png\")"
      ]
    },
    {
      "cell_type": "markdown",
      "metadata": {},
      "source": [
        "### **Scatter Plot: Sale Price vs. Above Ground Living Area (`GrLivArea`)**\n",
        "\n",
        "This visualisation shows a **scatter plot** of house sale prices against their **Above Ground Living Area `GrLivArea`**, measured in square feet. This feature represents the total finished living space above the basement.\n",
        "\n",
        "#### **Interpretation and Insights:**\n",
        "\n",
        "- **Positive Linear Relationship**: There is a clear **positive correlation** between `GrLivArea` and `SalePrice` —larger homes tend to fetch higher sale prices.\n",
        "- **Non-Uniform Price Spread**: As the living area increases, the variability in sale prices also increases. Some large homes sell at relatively moderate prices, suggesting the influence of other factors like condition, location, or design.\n",
        "- **Clusters and Outliers**:\n",
        "  - Most homes fall within the 1,000–2,500 sq ft range.\n",
        "  - A few extreme outliers exist, notably high-priced large houses, which may reflect luxury builds or rare features.\n",
        "\n",
        "This chart reinforces **GrLivArea** as a key continuous feature influencing property value. It offers practical insight into the trade-off between size and price for potential buyers and for pricing inherited properties.\n",
        "\n",
        "> **Saved as**: `images/scatter_saleprice_grlivarea.png`"
      ]
    },
    {
      "cell_type": "code",
      "execution_count": 25,
      "metadata": {},
      "outputs": [
        {
          "data": {
            "application/vnd.plotly.v1+json": {
              "config": {
                "plotlyServerURL": "https://plot.ly"
              },
              "data": [
                {
                  "hovertemplate": "Above Ground Living Area (sq ft)=%{x}<br>Sale Price (USD)=%{y}<extra></extra>",
                  "legendgroup": "",
                  "marker": {
                    "color": "#636efa",
                    "symbol": "circle"
                  },
                  "mode": "markers",
                  "name": "",
                  "showlegend": false,
                  "type": "scattergl",
                  "x": {
                    "bdata": "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",
                    "dtype": "i2"
                  },
                  "xaxis": "x",
                  "y": {
                    "bdata": "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",
                    "dtype": "i4"
                  },
                  "yaxis": "y"
                },
                {
                  "hovertemplate": "<b>OLS trendline</b><br>SalePrice = 107.13 * GrLivArea + 18569<br>R<sup>2</sup>=0.502149<br><br>Above Ground Living Area (sq ft)=%{x}<br>Sale Price (USD)=%{y} <b>(trend)</b><extra></extra>",
                  "legendgroup": "",
                  "marker": {
                    "color": "#636efa",
                    "symbol": "circle"
                  },
                  "mode": "lines",
                  "name": "",
                  "showlegend": false,
                  "type": "scattergl",
                  "x": {
                    "bdata": "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",
                    "dtype": "i2"
                  },
                  "xaxis": "x",
                  "y": {
                    "bdata": "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",
                    "dtype": "f8"
                  },
                  "yaxis": "y"
                }
              ],
              "layout": {
                "legend": {
                  "tracegroupgap": 0
                },
                "template": {
                  "data": {
                    "bar": [
                      {
                        "error_x": {
                          "color": "#2a3f5f"
                        },
                        "error_y": {
                          "color": "#2a3f5f"
                        },
                        "marker": {
                          "line": {
                            "color": "#E5ECF6",
                            "width": 0.5
                          },
                          "pattern": {
                            "fillmode": "overlay",
                            "size": 10,
                            "solidity": 0.2
                          }
                        },
                        "type": "bar"
                      }
                    ],
                    "barpolar": [
                      {
                        "marker": {
                          "line": {
                            "color": "#E5ECF6",
                            "width": 0.5
                          },
                          "pattern": {
                            "fillmode": "overlay",
                            "size": 10,
                            "solidity": 0.2
                          }
                        },
                        "type": "barpolar"
                      }
                    ],
                    "carpet": [
                      {
                        "aaxis": {
                          "endlinecolor": "#2a3f5f",
                          "gridcolor": "white",
                          "linecolor": "white",
                          "minorgridcolor": "white",
                          "startlinecolor": "#2a3f5f"
                        },
                        "baxis": {
                          "endlinecolor": "#2a3f5f",
                          "gridcolor": "white",
                          "linecolor": "white",
                          "minorgridcolor": "white",
                          "startlinecolor": "#2a3f5f"
                        },
                        "type": "carpet"
                      }
                    ],
                    "choropleth": [
                      {
                        "colorbar": {
                          "outlinewidth": 0,
                          "ticks": ""
                        },
                        "type": "choropleth"
                      }
                    ],
                    "contour": [
                      {
                        "colorbar": {
                          "outlinewidth": 0,
                          "ticks": ""
                        },
                        "colorscale": [
                          [
                            0,
                            "#0d0887"
                          ],
                          [
                            0.1111111111111111,
                            "#46039f"
                          ],
                          [
                            0.2222222222222222,
                            "#7201a8"
                          ],
                          [
                            0.3333333333333333,
                            "#9c179e"
                          ],
                          [
                            0.4444444444444444,
                            "#bd3786"
                          ],
                          [
                            0.5555555555555556,
                            "#d8576b"
                          ],
                          [
                            0.6666666666666666,
                            "#ed7953"
                          ],
                          [
                            0.7777777777777778,
                            "#fb9f3a"
                          ],
                          [
                            0.8888888888888888,
                            "#fdca26"
                          ],
                          [
                            1,
                            "#f0f921"
                          ]
                        ],
                        "type": "contour"
                      }
                    ],
                    "contourcarpet": [
                      {
                        "colorbar": {
                          "outlinewidth": 0,
                          "ticks": ""
                        },
                        "type": "contourcarpet"
                      }
                    ],
                    "heatmap": [
                      {
                        "colorbar": {
                          "outlinewidth": 0,
                          "ticks": ""
                        },
                        "colorscale": [
                          [
                            0,
                            "#0d0887"
                          ],
                          [
                            0.1111111111111111,
                            "#46039f"
                          ],
                          [
                            0.2222222222222222,
                            "#7201a8"
                          ],
                          [
                            0.3333333333333333,
                            "#9c179e"
                          ],
                          [
                            0.4444444444444444,
                            "#bd3786"
                          ],
                          [
                            0.5555555555555556,
                            "#d8576b"
                          ],
                          [
                            0.6666666666666666,
                            "#ed7953"
                          ],
                          [
                            0.7777777777777778,
                            "#fb9f3a"
                          ],
                          [
                            0.8888888888888888,
                            "#fdca26"
                          ],
                          [
                            1,
                            "#f0f921"
                          ]
                        ],
                        "type": "heatmap"
                      }
                    ],
                    "histogram": [
                      {
                        "marker": {
                          "pattern": {
                            "fillmode": "overlay",
                            "size": 10,
                            "solidity": 0.2
                          }
                        },
                        "type": "histogram"
                      }
                    ],
                    "histogram2d": [
                      {
                        "colorbar": {
                          "outlinewidth": 0,
                          "ticks": ""
                        },
                        "colorscale": [
                          [
                            0,
                            "#0d0887"
                          ],
                          [
                            0.1111111111111111,
                            "#46039f"
                          ],
                          [
                            0.2222222222222222,
                            "#7201a8"
                          ],
                          [
                            0.3333333333333333,
                            "#9c179e"
                          ],
                          [
                            0.4444444444444444,
                            "#bd3786"
                          ],
                          [
                            0.5555555555555556,
                            "#d8576b"
                          ],
                          [
                            0.6666666666666666,
                            "#ed7953"
                          ],
                          [
                            0.7777777777777778,
                            "#fb9f3a"
                          ],
                          [
                            0.8888888888888888,
                            "#fdca26"
                          ],
                          [
                            1,
                            "#f0f921"
                          ]
                        ],
                        "type": "histogram2d"
                      }
                    ],
                    "histogram2dcontour": [
                      {
                        "colorbar": {
                          "outlinewidth": 0,
                          "ticks": ""
                        },
                        "colorscale": [
                          [
                            0,
                            "#0d0887"
                          ],
                          [
                            0.1111111111111111,
                            "#46039f"
                          ],
                          [
                            0.2222222222222222,
                            "#7201a8"
                          ],
                          [
                            0.3333333333333333,
                            "#9c179e"
                          ],
                          [
                            0.4444444444444444,
                            "#bd3786"
                          ],
                          [
                            0.5555555555555556,
                            "#d8576b"
                          ],
                          [
                            0.6666666666666666,
                            "#ed7953"
                          ],
                          [
                            0.7777777777777778,
                            "#fb9f3a"
                          ],
                          [
                            0.8888888888888888,
                            "#fdca26"
                          ],
                          [
                            1,
                            "#f0f921"
                          ]
                        ],
                        "type": "histogram2dcontour"
                      }
                    ],
                    "mesh3d": [
                      {
                        "colorbar": {
                          "outlinewidth": 0,
                          "ticks": ""
                        },
                        "type": "mesh3d"
                      }
                    ],
                    "parcoords": [
                      {
                        "line": {
                          "colorbar": {
                            "outlinewidth": 0,
                            "ticks": ""
                          }
                        },
                        "type": "parcoords"
                      }
                    ],
                    "pie": [
                      {
                        "automargin": true,
                        "type": "pie"
                      }
                    ],
                    "scatter": [
                      {
                        "fillpattern": {
                          "fillmode": "overlay",
                          "size": 10,
                          "solidity": 0.2
                        },
                        "type": "scatter"
                      }
                    ],
                    "scatter3d": [
                      {
                        "line": {
                          "colorbar": {
                            "outlinewidth": 0,
                            "ticks": ""
                          }
                        },
                        "marker": {
                          "colorbar": {
                            "outlinewidth": 0,
                            "ticks": ""
                          }
                        },
                        "type": "scatter3d"
                      }
                    ],
                    "scattercarpet": [
                      {
                        "marker": {
                          "colorbar": {
                            "outlinewidth": 0,
                            "ticks": ""
                          }
                        },
                        "type": "scattercarpet"
                      }
                    ],
                    "scattergeo": [
                      {
                        "marker": {
                          "colorbar": {
                            "outlinewidth": 0,
                            "ticks": ""
                          }
                        },
                        "type": "scattergeo"
                      }
                    ],
                    "scattergl": [
                      {
                        "marker": {
                          "colorbar": {
                            "outlinewidth": 0,
                            "ticks": ""
                          }
                        },
                        "type": "scattergl"
                      }
                    ],
                    "scattermap": [
                      {
                        "marker": {
                          "colorbar": {
                            "outlinewidth": 0,
                            "ticks": ""
                          }
                        },
                        "type": "scattermap"
                      }
                    ],
                    "scattermapbox": [
                      {
                        "marker": {
                          "colorbar": {
                            "outlinewidth": 0,
                            "ticks": ""
                          }
                        },
                        "type": "scattermapbox"
                      }
                    ],
                    "scatterpolar": [
                      {
                        "marker": {
                          "colorbar": {
                            "outlinewidth": 0,
                            "ticks": ""
                          }
                        },
                        "type": "scatterpolar"
                      }
                    ],
                    "scatterpolargl": [
                      {
                        "marker": {
                          "colorbar": {
                            "outlinewidth": 0,
                            "ticks": ""
                          }
                        },
                        "type": "scatterpolargl"
                      }
                    ],
                    "scatterternary": [
                      {
                        "marker": {
                          "colorbar": {
                            "outlinewidth": 0,
                            "ticks": ""
                          }
                        },
                        "type": "scatterternary"
                      }
                    ],
                    "surface": [
                      {
                        "colorbar": {
                          "outlinewidth": 0,
                          "ticks": ""
                        },
                        "colorscale": [
                          [
                            0,
                            "#0d0887"
                          ],
                          [
                            0.1111111111111111,
                            "#46039f"
                          ],
                          [
                            0.2222222222222222,
                            "#7201a8"
                          ],
                          [
                            0.3333333333333333,
                            "#9c179e"
                          ],
                          [
                            0.4444444444444444,
                            "#bd3786"
                          ],
                          [
                            0.5555555555555556,
                            "#d8576b"
                          ],
                          [
                            0.6666666666666666,
                            "#ed7953"
                          ],
                          [
                            0.7777777777777778,
                            "#fb9f3a"
                          ],
                          [
                            0.8888888888888888,
                            "#fdca26"
                          ],
                          [
                            1,
                            "#f0f921"
                          ]
                        ],
                        "type": "surface"
                      }
                    ],
                    "table": [
                      {
                        "cells": {
                          "fill": {
                            "color": "#EBF0F8"
                          },
                          "line": {
                            "color": "white"
                          }
                        },
                        "header": {
                          "fill": {
                            "color": "#C8D4E3"
                          },
                          "line": {
                            "color": "white"
                          }
                        },
                        "type": "table"
                      }
                    ]
                  },
                  "layout": {
                    "annotationdefaults": {
                      "arrowcolor": "#2a3f5f",
                      "arrowhead": 0,
                      "arrowwidth": 1
                    },
                    "autotypenumbers": "strict",
                    "coloraxis": {
                      "colorbar": {
                        "outlinewidth": 0,
                        "ticks": ""
                      }
                    },
                    "colorscale": {
                      "diverging": [
                        [
                          0,
                          "#8e0152"
                        ],
                        [
                          0.1,
                          "#c51b7d"
                        ],
                        [
                          0.2,
                          "#de77ae"
                        ],
                        [
                          0.3,
                          "#f1b6da"
                        ],
                        [
                          0.4,
                          "#fde0ef"
                        ],
                        [
                          0.5,
                          "#f7f7f7"
                        ],
                        [
                          0.6,
                          "#e6f5d0"
                        ],
                        [
                          0.7,
                          "#b8e186"
                        ],
                        [
                          0.8,
                          "#7fbc41"
                        ],
                        [
                          0.9,
                          "#4d9221"
                        ],
                        [
                          1,
                          "#276419"
                        ]
                      ],
                      "sequential": [
                        [
                          0,
                          "#0d0887"
                        ],
                        [
                          0.1111111111111111,
                          "#46039f"
                        ],
                        [
                          0.2222222222222222,
                          "#7201a8"
                        ],
                        [
                          0.3333333333333333,
                          "#9c179e"
                        ],
                        [
                          0.4444444444444444,
                          "#bd3786"
                        ],
                        [
                          0.5555555555555556,
                          "#d8576b"
                        ],
                        [
                          0.6666666666666666,
                          "#ed7953"
                        ],
                        [
                          0.7777777777777778,
                          "#fb9f3a"
                        ],
                        [
                          0.8888888888888888,
                          "#fdca26"
                        ],
                        [
                          1,
                          "#f0f921"
                        ]
                      ],
                      "sequentialminus": [
                        [
                          0,
                          "#0d0887"
                        ],
                        [
                          0.1111111111111111,
                          "#46039f"
                        ],
                        [
                          0.2222222222222222,
                          "#7201a8"
                        ],
                        [
                          0.3333333333333333,
                          "#9c179e"
                        ],
                        [
                          0.4444444444444444,
                          "#bd3786"
                        ],
                        [
                          0.5555555555555556,
                          "#d8576b"
                        ],
                        [
                          0.6666666666666666,
                          "#ed7953"
                        ],
                        [
                          0.7777777777777778,
                          "#fb9f3a"
                        ],
                        [
                          0.8888888888888888,
                          "#fdca26"
                        ],
                        [
                          1,
                          "#f0f921"
                        ]
                      ]
                    },
                    "colorway": [
                      "#636efa",
                      "#EF553B",
                      "#00cc96",
                      "#ab63fa",
                      "#FFA15A",
                      "#19d3f3",
                      "#FF6692",
                      "#B6E880",
                      "#FF97FF",
                      "#FECB52"
                    ],
                    "font": {
                      "color": "#2a3f5f"
                    },
                    "geo": {
                      "bgcolor": "white",
                      "lakecolor": "white",
                      "landcolor": "#E5ECF6",
                      "showlakes": true,
                      "showland": true,
                      "subunitcolor": "white"
                    },
                    "hoverlabel": {
                      "align": "left"
                    },
                    "hovermode": "closest",
                    "mapbox": {
                      "style": "light"
                    },
                    "paper_bgcolor": "white",
                    "plot_bgcolor": "#E5ECF6",
                    "polar": {
                      "angularaxis": {
                        "gridcolor": "white",
                        "linecolor": "white",
                        "ticks": ""
                      },
                      "bgcolor": "#E5ECF6",
                      "radialaxis": {
                        "gridcolor": "white",
                        "linecolor": "white",
                        "ticks": ""
                      }
                    },
                    "scene": {
                      "xaxis": {
                        "backgroundcolor": "#E5ECF6",
                        "gridcolor": "white",
                        "gridwidth": 2,
                        "linecolor": "white",
                        "showbackground": true,
                        "ticks": "",
                        "zerolinecolor": "white"
                      },
                      "yaxis": {
                        "backgroundcolor": "#E5ECF6",
                        "gridcolor": "white",
                        "gridwidth": 2,
                        "linecolor": "white",
                        "showbackground": true,
                        "ticks": "",
                        "zerolinecolor": "white"
                      },
                      "zaxis": {
                        "backgroundcolor": "#E5ECF6",
                        "gridcolor": "white",
                        "gridwidth": 2,
                        "linecolor": "white",
                        "showbackground": true,
                        "ticks": "",
                        "zerolinecolor": "white"
                      }
                    },
                    "shapedefaults": {
                      "line": {
                        "color": "#2a3f5f"
                      }
                    },
                    "ternary": {
                      "aaxis": {
                        "gridcolor": "white",
                        "linecolor": "white",
                        "ticks": ""
                      },
                      "baxis": {
                        "gridcolor": "white",
                        "linecolor": "white",
                        "ticks": ""
                      },
                      "bgcolor": "#E5ECF6",
                      "caxis": {
                        "gridcolor": "white",
                        "linecolor": "white",
                        "ticks": ""
                      }
                    },
                    "title": {
                      "x": 0.05
                    },
                    "xaxis": {
                      "automargin": true,
                      "gridcolor": "white",
                      "linecolor": "white",
                      "ticks": "",
                      "title": {
                        "standoff": 15
                      },
                      "zerolinecolor": "white",
                      "zerolinewidth": 2
                    },
                    "yaxis": {
                      "automargin": true,
                      "gridcolor": "white",
                      "linecolor": "white",
                      "ticks": "",
                      "title": {
                        "standoff": 15
                      },
                      "zerolinecolor": "white",
                      "zerolinewidth": 2
                    }
                  }
                },
                "title": {
                  "text": "Sale Price vs. Above Ground Living Area (GrLivArea)"
                },
                "xaxis": {
                  "anchor": "y",
                  "domain": [
                    0,
                    1
                  ],
                  "title": {
                    "text": "Above Ground Living Area (sq ft)"
                  }
                },
                "yaxis": {
                  "anchor": "x",
                  "domain": [
                    0,
                    1
                  ],
                  "title": {
                    "text": "Sale Price (USD)"
                  }
                }
              }
            }
          },
          "metadata": {},
          "output_type": "display_data"
        }
      ],
      "source": [
        "# Import Plotly Express for visualisation\n",
        "import plotly.express as px\n",
        "\n",
        "# Scatter plot of Sale Price vs. Above Ground Living Area\n",
        "fig = px.scatter(\n",
        "    df, # DataFrame containing the cleaned dataset\n",
        "    x=\"GrLivArea\", # x axis: Above Ground Living Area (in sq.ft)\n",
        "    y=\"SalePrice\", # y axis: House Sale Price in USD.\n",
        "    title=\"Sale Price vs. Above Ground Living Area (GrLivArea)\", # Title for the Chart \n",
        "    labels={ # Labels for the axes x and y.\n",
        "        \"GrLivArea\": \"Above Ground Living Area (sq ft)\",\n",
        "        \"SalePrice\": \"Sale Price (USD)\"\n",
        "    },\n",
        "    trendline=\"ols\" # Add a linear trendline to highlight the correlation\n",
        ")\n",
        "\n",
        "# Update layout for clarity and readability\n",
        "fig.update_layout(\n",
        "    xaxis_title=\"Above Ground Living Area (sq ft)\", # x axis label\n",
        "    yaxis_title=\"Sale Price (USD)\" # y axis label \n",
        ")\n",
        "\n",
        "# Show plot\n",
        "fig.show()\n",
        "\n",
        "# Save plot to images folder\n",
        "fig.write_image(\"../images/scatter_saleprice_grlivarea.png\")"
      ]
    },
    {
      "cell_type": "code",
      "execution_count": 26,
      "metadata": {},
      "outputs": [
        {
          "name": "stdout",
          "output_type": "stream",
          "text": [
            "Requirement already satisfied: statsmodels in /Library/Frameworks/Python.framework/Versions/3.12/lib/python3.12/site-packages (0.14.4)\n",
            "Requirement already satisfied: numpy<3,>=1.22.3 in /Library/Frameworks/Python.framework/Versions/3.12/lib/python3.12/site-packages (from statsmodels) (2.2.5)\n",
            "Requirement already satisfied: scipy!=1.9.2,>=1.8 in /Library/Frameworks/Python.framework/Versions/3.12/lib/python3.12/site-packages (from statsmodels) (1.15.3)\n",
            "Requirement already satisfied: pandas!=2.1.0,>=1.4 in /Library/Frameworks/Python.framework/Versions/3.12/lib/python3.12/site-packages (from statsmodels) (2.2.3)\n",
            "Requirement already satisfied: patsy>=0.5.6 in /Library/Frameworks/Python.framework/Versions/3.12/lib/python3.12/site-packages (from statsmodels) (1.0.1)\n",
            "Requirement already satisfied: packaging>=21.3 in /Library/Frameworks/Python.framework/Versions/3.12/lib/python3.12/site-packages (from statsmodels) (25.0)\n",
            "Requirement already satisfied: python-dateutil>=2.8.2 in /Library/Frameworks/Python.framework/Versions/3.12/lib/python3.12/site-packages (from pandas!=2.1.0,>=1.4->statsmodels) (2.9.0.post0)\n",
            "Requirement already satisfied: pytz>=2020.1 in /Library/Frameworks/Python.framework/Versions/3.12/lib/python3.12/site-packages (from pandas!=2.1.0,>=1.4->statsmodels) (2025.2)\n",
            "Requirement already satisfied: tzdata>=2022.7 in /Library/Frameworks/Python.framework/Versions/3.12/lib/python3.12/site-packages (from pandas!=2.1.0,>=1.4->statsmodels) (2025.2)\n",
            "Requirement already satisfied: six>=1.5 in /Library/Frameworks/Python.framework/Versions/3.12/lib/python3.12/site-packages (from python-dateutil>=2.8.2->pandas!=2.1.0,>=1.4->statsmodels) (1.17.0)\n",
            "\n",
            "\u001b[1m[\u001b[0m\u001b[34;49mnotice\u001b[0m\u001b[1;39;49m]\u001b[0m\u001b[39;49m A new release of pip is available: \u001b[0m\u001b[31;49m24.3.1\u001b[0m\u001b[39;49m -> \u001b[0m\u001b[32;49m25.1.1\u001b[0m\n",
            "\u001b[1m[\u001b[0m\u001b[34;49mnotice\u001b[0m\u001b[1;39;49m]\u001b[0m\u001b[39;49m To update, run: \u001b[0m\u001b[32;49mpip3 install --upgrade pip\u001b[0m\n",
            "Note: you may need to restart the kernel to use updated packages.\n"
          ]
        }
      ],
      "source": [
        "%pip install statsmodels\n"
      ]
    },
    {
      "cell_type": "markdown",
      "metadata": {},
      "source": [
        "### Histogram: Distribution of Sale Prices\n",
        "\n",
        "This visualisation presents a histogram showing the distribution of sale prices across all properties in the dataset. It is an essential step in exploratory data analysis (EDA), as it helps to:\n",
        "\n",
        "- Gives a clear picture of how house prices are spread across the dataset.\n",
        "- Helps identify whether most houses are sold at a low, average, or high prices.\n",
        "- Shows if the pricing pattern is skewed or contains any unusual values like extremely expensive houses.\n",
        "\n",
        "#### **Insights:**\n",
        "- The distribution is **right-skewed**, with a large number of properties priced below \\$250,000.\n",
        "- There are fewer high-end properties, with sale prices decreasing in frequency as values rise.\n",
        "- This skew may impact model performance and could suggest using a **log transformation** of `SalePrice` for regression.\n",
        "\n",
        "> Chart saved as: `images/histogram_saleprice.png`"
      ]
    },
    {
      "cell_type": "code",
      "execution_count": 30,
      "metadata": {},
      "outputs": [
        {
          "data": {
            "application/vnd.plotly.v1+json": {
              "config": {
                "plotlyServerURL": "https://plot.ly"
              },
              "data": [
                {
                  "bingroup": "x",
                  "hovertemplate": "Sale Price (USD)=%{x}<br>count=%{y}<extra></extra>",
                  "legendgroup": "",
                  "marker": {
                    "color": "blue",
                    "opacity": 0.75,
                    "pattern": {
                      "shape": ""
                    }
                  },
                  "name": "",
                  "nbinsx": 40,
                  "orientation": "v",
                  "showlegend": false,
                  "type": "histogram",
                  "x": {
                    "bdata": "dC4DAPzEAgAMaQMA4CICAJDQAwCYLgIAOK8EAEANAwBs+wEA8MwBANz5AQCoQwUAgDICAMxDBABIZQIAoAMCAAhGAgCQXwEAGG0CAPgeAgC09gQAiCACAHCCAwBs+wEAkFkCACzpAwCQDgIAUKsEAIwqAwCUCwEAQJwAAGZHAgC8vgIAfIYCAPw7BAAItwQAaDYCAKhVAgDIqQEAUEABAABxAgAQmAIAgDICAMr8AQDIJgIAnOEEAEaoAwBkzwMAaLkBABjwAQBoswIARL8BALCtAQDo3wUA0PsBABTBAgDUoQIAlP8CAPyxBgDk5wEAMGkCAIiKAQAEFwMA4CICAGxZAwBI1gQAIL8CANByAwCAOAEA6G4DACC5AwDc+QEAqNICAAQ2AgCIowEAeGMBAEYSAgAY8AEANBUCALCtAQDc8wIAnFcCAAi9AwAk7gEANJICAKD3AwCwpwIAlIICAAhMAQDQ4gEATK0BACiBAQCsfgIADAsCAM4fAwCo0gIA8EMDAB5yAQA4RAEAtvcBAMggAwBQtwIAtNABAPQIAwAclgIAkNADAKCGAQA4wQEAOMEBADDmAgDEFgIAIL8CAOLbBQCoTwMArPUDAICvAgD4HgIAeF0CAADiBACWgAIAIL8CAKCGAQBAEwIALFkCAAjDAgAUSgEAAPQBANhTAQB4XQIA8EkCANByAwAguQMA3kwCAGBbAwAgvwIAsKcCAJguAgD4mwIAcIIDAEyIAwA4wQEAoPcDAHCIAgDgHAMASOgBAND7AQAomgEAJGUDAMgmAgA4wQEAkNwBALKuBQAw5gIA+JUDAEjoAQCYNAEAvKsBALwcBAC04wMAAOIEAMR6AgBUSwYAYFsDACCTAQDAUQIADPIBADDmAgD49wQAzMwCAKB6AwD09QEA2EcDAJilAwC4fAIAwM4CADi1AwA4OAMA1KECAE2oBwCghgEAaLMCAKQNAwDA1AEAQA0DABjwAQB4PwcAyKMCAFgPAgD5VgIAMF0EAHjOBADAzgIAAO4CAND7AQAY8AEAFEQCAEDCBAD4lQMAQJYBANQxBADgIgIA7J0CAIC1AQAIRgIAsK0BABTBAgAcMgIAyCYCAAg6BABoNgIA0H4BAJDWAgAG2wMAYGECANZ3AgAyDQIAUDQDAPihAQDMwAQASI0CAGQgAwBADQMAvL4CAOh6AQDK5AUAgLUBANBsBAAQngEASOgBAPTvAgAgQgIAOCYGACRxAQDI9AEAtE0DAJxdAQCc1AIAxPcCADDaBABouQEAZAEEAKSvAQCYNAEAwNQBAMggAwBcrwMAKBcCAOAiAgAgvwIACDoEANQqAQD4lQMAyKMCADBpAgBoNgIAcIIDAIwqAwBgWwMATIgDAOh6AQCArwIAIDYEANhNAgDQ+wEAKB0BAIytAgCo0gIALL0CALTWAQAgQgIAEA8EAFyvAwDQbAQA+B4CAFTmAQDIIAMAKBEDAMgmAgBCVgYAAO4CAJR8AwCo0gIAjCoDAHi7AwAAvAIAXIMCABhtAgDAVwEAkNwBAOdXAgAOjwMA3BICALj/AQD4lQMAWIwCAKQsAgDAUQIAmKUDAJirAgAkawIASGUCAPgSBADIIAMAjEkCAFiABADsqgQA6G4DAJxdAQBEQgEAQH4FAOCGAgCgAwIAXNQBANi4BQBQtwIAVOACAKD3AwCwHgQAoPcDAGzcAgBzOgUA0GYFAMiXBADf7AEAULEDANhTAQCg8QQAYjcCAORFAwCwMAEA2NABAPgeAgBgVQQAmCgDAADuAgBWfgMAUsIFAPBDAwAEFwMAeF0CAJQYAwBQQAEAzFUBABAPBAAITAEAqCMCAMxPAgA8ZwIAkFkCAKKrBgBt2gQAMOYCABhzAQCsnQEA4CICAFy1AgDIowIAcAsCAND7AQDARQQAYGECAGg2AgBkBwMA8MwBADDmAgA4PgIAGG0CAIiEAgCgAwIA0HgCAHChAgAgDQIASOgBAHjgAQBsWQMASO4AACBCAgAgMAUAwAQGADi7AgAY8AEAZt0CAPxBAwDgKAEAgKkDAADuAgBoPAEASOgBABjqAgAQgAYA2NABANhHAwAEoAEAoIYBAMipAQDo9wEAeOABAByWAgC4BQEAaK0DAPy+AwB+hAIA4KUBANDvAwBAkAIA8EkCADjBAQBoswIAwEUEACYvBQBg6gAAaDYCADBjAwA4wQEAoHoDAI7DAgD8RwIAmKUDADDsAQCwKgIA3CUDANhHAwBouQEAeM4EAPgeAgBYDwIAODIEANCpAQBI+wIAmKsCAJhNAQAcOAEAhN4BAAjDAgBoPAEAIDwDACDFAQDY0AEA7mABALCtAQD4dwgA8MwBAFR8AgDUoQIAUDQDAAzyAQAw5gIA3AwDAMzSAQDA1AEAsK0BAMBFBADgHAMAUDQDAGDeAgCMrQIA0H4BAADoAwDodAIAsK0BAAsFBAB4XQIAr/MAABzhAgBg5AEANLoCAFiMAgBEPAIAkNADAHjaAgAgPAMAMOYCACBCAgDAtgYAeNQDAJQFAgAEMAMAYMwFACiIBAB/XQEAcPkEAPC0BQB4XQIAoIACAJQFAgA4PgIAYGECAJirAgAAcQIA8E8BADjBAQCIBwIA8aICAHhdAgCkZAEAVIgAALCPBgDAzgIA0PsBAMDUAQBouQEAjHUDAOAiAgDoaAQAOD4CAFTmAQDYRwMArC0DAOh0AgBU5gEAJIQCAKkXAwBs+wEAcAsCAPR4AQCtJQYAMGkCACgLBAA4OAMAEJIDAAqfAQDwSQIAGG0CAK7RAgBm0QQAgK8CAKADAgA1zwYA8E8BALAPAwCYqwIAAPQBAOyjAQCEmQAAULcCAOyjAQBg3gIAkrIBADBpAgCAJgQAeM4EAMDIAwACQQMAiAcCANG9AgCIfgMAUDQDANz5AQBI6AEAWAMEAOAiAgB0twEADOYDAOClAQBgVQQAaLkBAMgmAgDgpQEAmKsCABCSAwCc2gEAEJgCAOClAQCo0gIA4BYEAAD0AQCI9QQA8EMDALjUBAAYEwIACC0CAMDUAQD0bAMAEJgCAPgeAgDkzgEAaDYCAJSCAgBQOgIArAECAIzGAgBt3QMA5M4BAIj1BACIBwIA7KQFAND7AQAoFwIAmC4CAIw2AQAs1gIAbuUGABAbAgDgIgIAsK0BABjeBABIvwEAmfYCAJxRAwDYTQIAODIEAMgmAgBgWwMA2E0CAEhfAwDIIAMAwFECAOhuAwC8egUA5M4BAKjGBAAgQgIAfP0DADg+AgDsJgEAHBkCAKDLAgAcnAEAvc0EAGinBAC4BQEAgKkDAFgPAgA0kgIAHoUCAABxAgB8IgIAqFUCAFgPAgA0kgIAYOQBAFwyAwBEQgEAiCACAIAyAgBADQMAYOoAAEhrAQAITAEAcQkEAFAuBADQcgMAqEMFAMBRAgC+qAUAki8CAPx/AQB4XQIAeF0CABRKAQB+JAMA4KUBABjqAgBYDwIAMFcFAMBXAQBcOAIACEYCANx8AQBYjAIADAUDAFAiBgCwrQEAHBkCAFh0BgBkhAMA6PcBANzzAgBAkAIAHBkCALylAgCwlAEAiIQCANztAwDgIgIAFEQCANhTAQC8qwEAFK8FAPT1AQCYLgIAym4CAMijAgBIWQQASF8DAIwqAwAjegMAQEUCAED7BQCM+AIAyCYCADiFCwCYHAUAwKcBALwoAgCArwIAqFsBAGziAQAEHQIAoP0CALTEBADgIgIAv4UFAOAiAgAIQAMA2NYAALCbBAAw4AMAVL0CAEytAQAgywAAeJEBAEjiAgDo9wEAxP0BAIiEAgAMbwIASGUCAAg0BQD09QEAODIEAJguAgBU5gEAWA8CAADiBAC01gEAMGMDAMT3AgCwrQEAWJIBANSbAwBs3AIAJGUDAEgBAgDgpQEAuHwCADxtAQAcqQMAOLsCADDmAgCgAwIAsCoCADi7AgCYqwIAIL8CABiTBADgmQMA+w4EADD5AwDQfgEA9HgBANB4AgCoTwMALDQEAGBhAgDUoQIAIDwDALRsAgDIvAIA0GwEAAzyAQCghgEAoEgDAGgkBQCwHgQAxAcEAJT/AgAAcQIABU8DAJA1CAD0DgIAcI4BAPihAQBEvwEA+AYGANB4AgA8YQMApCwCAIAyAgBYDwIAgK8CAByvAgDc2gIAfIYCAAD0AQDcdgIA+B4CACiOAwB8pQEAbNwCAMhxAgBwPQIA3h0EAOhuAwDE9wIA+JsCAIwwAgCwrQEAiGYHAJirAgBADQMATK0BAEjiAgAV5QgA8MwBAGB5AwBMEQIADGkDAM5wAgAQngEACMMCAHQ0AgC52gAAzGgCACDFAQCEbgMAKBcCAJgiBAB4XQIAAGsDANjKAgBIawEA6G4DAOwgAgCYjAMA6N8FALyrAQBI4gIAqNICAMg/AgBwiAIA2E0CAMidAwBYjAIAriICAAD0AQCcVwIAoIYBAIAyAgDE/QEA4CICADxnAgA0qwIAyCYCACxZAgD4mwIACEADAHwJAgCAqQMAeNoCAKwBAgDYRwMAoIACADBpAgAQmAIAGPABADg+AgCwpwIAwFECAJDQAwD+5QIArAECAMBRAgCUBQIA1NIDABREAgBEzAMA6PcBACiUAgDgmQMAvKsBADQPAwAgxQEAiAcCAMQDAQB1oQQAmgQCADBXBQAgQgIANBUCAEhlAgBs3AIAULcCAOTOAQCghgEAxAQFAGg2AgBMEQIA4BYEAPxHAgAU4AEA1KECAIRbAgCIhAIAStABAOAiAgAEoAEAaS4CAElVCQBYDwIAsK0BAKhVAgAgvwIAgKkDADzqAQAA9AEAGOQDAJDQAwC4/wEAsKcCALxaAgCMMAIAwFcBAGg2AgClpgIA+CQBAO+JAABYDwIAsKEDAHSxAgAoEQMA7DkCAAaYAgDo8QIAjCoDAJirAgBIWQQAgK8CANSbAwAwYwMAKBEDAPzKAQAA4gQAMOYCAFCxAwAcOAEARNICAEjcAwC3qAMAsLoDAHRNAgDwQwMA8EkCAJguAgAcGQIA5OcBAJguAgCwHgQA9O8CAHwDAwDo9wEAXNQBAAwLAgDgnwIADPIBAGg2AgBg5AEAoAMCAKjSAgB4XQIAFMcBAIAmBAB4XQIAmKUDAHRHAwDUugIAAHECAFgPAgAMlAAA4CICAFgPAgDIowIArIQBAPDGAgBMjgIAiIQCAPxNAQDcDAMAsK0BAPgeAgDguAIAgCAFAJdwAgCc5wMAMOwBAEjoAQAIyQEAuAcGALj5AgCIAQMAYE8FAECQAgB42gIATKcCAFwmBQAA2wEANBUCAKjSAgB4YwEAsCQDAFBAAQDwTwEAQIoDAMkWAgAIwwIAjEkCAKx+AgDAVwEAgKkDAHCOAQBYDwIAoIYBAIiEAgAITAEAoNEBALh2AwD4GAMAbNwCAABxAgDyQQMAgK8CAND1AgDYUwEAGOoCABhhBAB0twEATI4CANV4BAAomgEA8MwBAABxAgCIAQMA8LoEAHCCAwDG0wEAIEgBAGzQBAAYYQQA6HoBAIA4AQB4XQIAyKMCAKD9AgCIAAQA8D0EAFAhAgAlfggAaDYCADjBAQCkSwEAZbECAM0NAwCIhAIAdDQCABjkAwAgvwIA+tUCAMDIAwCYHAUAYFsDAPxBAwBoPAEAkF8BAKSvAQCQWQIAQAEFAFC3AgDcjwIAaE8CAFgPAgBYDwIAkFkCAGxlAQAMbwIA0PUCAGxZAwAQmAIAMB4CAPxgAgAw7AEAaDYCAIgHAgAA7gIAAHECAGzcAgA4PgIALEYBAGDYAwAcGQIAiAEDAORqAQAAcQIANBUCAFA6AgDo9wEAMLECABjwAQAQmAIAAPQBAEhlAgBg6gAAzNIBAFgPAgAMbwIAEJ4BAIj1BAC8vgIAJTEEAAjDAgDARQQAYN4CAMggAwBs+wEAZA0CAAjJAQAw2gQAJM8CAND7AQDgIgIARAoCAIDOAQCkPwMAgLUBAPDMAQA8gAIAOMEBALCnAgC48wMA2EcDAOAiAgBYDwIAPG0BAPzKAQCMpwMAKJQCAHCOAQDY0AEAMG8BAKD9AgCAMgIA+B4CAHwDAwCmewYAgDgBAIA4AQAIRgIAIL8CAKSpAgCkyAEAmC4CAGDkAQCMSQIAcIIDALTWAQBIFAMAkFMDALy+AgBwggMAeJYDAKjSAgBQOgIAAGsDAOj3AQCfqQEA0PUCANKOAwBmvgMAyKMCAPiVAwBoiQkA+JsCALh8AgB8nwIANA8DAJilAwBIWQQAzNIBADjBAQAUXQIASGsBAJDQAwA0/QUAKF4LAMDUAQBM2QIAxJkBABhzAQBw/wMAuPkCAEjiAgBAkAIAsKcCAEjoAQCIhAIAMGkCAICvAgBKWAMAgDICAFC3AgAgQgIAUsUBAAwFAwAIyQEACEADAJxXAgAcJgQA+KEBAEANAwDgIgIA0GwEAEjiAgCggAIAaLkBAGg2AgBkDQIASOgBAIC1AQBQgAMAdDoBAGxlAQA4wQEAcAsCAJguAgCsGgIAwM4CAGg2AgDwQwMAOD4CAL6aBQAY8AEAMOYCAJQFAgCojQEAsCoCAND7AQCHHgIAjK0CALj5AgCkLAIArA4EAIRuAwAIygMAEJgCAGgYBwBwggMAULcCAITYAgCslwIA3PkBANjQAQAguQMA5p4CAND7AQBwfAQAGIYCAAzyAQC8mQQAPIYBADDmAgDYTQIACMMCAIT3AQDcdgIAFMECAAjDAgBczgIAkNwBAITGBQBI0AUAgDICAKD3AwCW1QIAKBcCAGizAgD4HgIAKBcCANB4AgAMBQMAyJ0DADALAQC4dgMAIL8CAORLAgD4HgIAKJQCAJQFAgCYLgIAMOYCAPA9BACoSQQAFMECAMzSAQDsowEAVHwCADjBAQAEHQIAeF0CAOAiAgAAcQIAkFkCAOhuAwBctQIA0GwEAECKAwDQ+wEAiPUEAAQXAwAQGwIAOD4CAAC8AgCYHAUA+BgDALCbBABwFQUA2NABADQoAwBFggQABDADADgyBACYsQEAVGMCADQbAQAw5gIAREIBADg+AgDY1gAAmDQBAMT9AQAA6AMAdLECALh2AwCUBQIAoIYBADzqAQBI6AEA3I8CAFgPAgAUzQAAQA0DAPT1AQB44AEAeF0CAJR8AwBoswIAu2ACANSnAQBkAQQAR1MEANhHAwCQ3AEAQA0DAPibAgD0DgIAkEEGAPiVAwAQmAIAsK0BAIxJAgBctQIAeM4EAEjiAgCg9wMAxJkBAARlAgAYMwIAwEsDAOjxAgAY8AEAgDICAECKAwAomgEAfIYCAHwvBABEHgcAkNADAJilAwB4YwEACMkBADhEAQBMjgIAhOQAALyfAwBIZQIAgLUBACiaAQA86gEAkNADAEATAgCcwgUAuP8BAPiVAwBg5AEAeOABALh8AgAywwMAfUoEAABxAgAcGQIAEBsCAOoYAgDA1AEA6PECAFf1AgAqUQQAKJoBADgyBACIBwIAgLUBADzqAQDYRwMAcIIDAOAiAgCQXwEA6OsDAJgoAwAcrwIAhN4BACAwBQBg5AEAGGcDALy+AgAM8gEANBUCABoyBACAMgIAsCoCAJgiBADgIgIA2NABAHTKAgCM7gIAhjECAPT7AACE2AIAAHECALCnAgC01gEAeQUGAMRIAgCIAQMAGOoCADRHAgDwugQAqNgBAJC9AgDo9wEAzGgCAICpAwCAtQEAYGcBAEATAgByYQQAaDYCABRKAQCo0gIAmKsCAFA0AwAEEQQALSsCACxAAgA=",
                    "dtype": "i4"
                  },
                  "xaxis": "x",
                  "yaxis": "y"
                }
              ],
              "layout": {
                "bargap": 0.05,
                "barmode": "relative",
                "legend": {
                  "tracegroupgap": 0
                },
                "template": {
                  "data": {
                    "bar": [
                      {
                        "error_x": {
                          "color": "#2a3f5f"
                        },
                        "error_y": {
                          "color": "#2a3f5f"
                        },
                        "marker": {
                          "line": {
                            "color": "white",
                            "width": 0.5
                          },
                          "pattern": {
                            "fillmode": "overlay",
                            "size": 10,
                            "solidity": 0.2
                          }
                        },
                        "type": "bar"
                      }
                    ],
                    "barpolar": [
                      {
                        "marker": {
                          "line": {
                            "color": "white",
                            "width": 0.5
                          },
                          "pattern": {
                            "fillmode": "overlay",
                            "size": 10,
                            "solidity": 0.2
                          }
                        },
                        "type": "barpolar"
                      }
                    ],
                    "carpet": [
                      {
                        "aaxis": {
                          "endlinecolor": "#2a3f5f",
                          "gridcolor": "#C8D4E3",
                          "linecolor": "#C8D4E3",
                          "minorgridcolor": "#C8D4E3",
                          "startlinecolor": "#2a3f5f"
                        },
                        "baxis": {
                          "endlinecolor": "#2a3f5f",
                          "gridcolor": "#C8D4E3",
                          "linecolor": "#C8D4E3",
                          "minorgridcolor": "#C8D4E3",
                          "startlinecolor": "#2a3f5f"
                        },
                        "type": "carpet"
                      }
                    ],
                    "choropleth": [
                      {
                        "colorbar": {
                          "outlinewidth": 0,
                          "ticks": ""
                        },
                        "type": "choropleth"
                      }
                    ],
                    "contour": [
                      {
                        "colorbar": {
                          "outlinewidth": 0,
                          "ticks": ""
                        },
                        "colorscale": [
                          [
                            0,
                            "#0d0887"
                          ],
                          [
                            0.1111111111111111,
                            "#46039f"
                          ],
                          [
                            0.2222222222222222,
                            "#7201a8"
                          ],
                          [
                            0.3333333333333333,
                            "#9c179e"
                          ],
                          [
                            0.4444444444444444,
                            "#bd3786"
                          ],
                          [
                            0.5555555555555556,
                            "#d8576b"
                          ],
                          [
                            0.6666666666666666,
                            "#ed7953"
                          ],
                          [
                            0.7777777777777778,
                            "#fb9f3a"
                          ],
                          [
                            0.8888888888888888,
                            "#fdca26"
                          ],
                          [
                            1,
                            "#f0f921"
                          ]
                        ],
                        "type": "contour"
                      }
                    ],
                    "contourcarpet": [
                      {
                        "colorbar": {
                          "outlinewidth": 0,
                          "ticks": ""
                        },
                        "type": "contourcarpet"
                      }
                    ],
                    "heatmap": [
                      {
                        "colorbar": {
                          "outlinewidth": 0,
                          "ticks": ""
                        },
                        "colorscale": [
                          [
                            0,
                            "#0d0887"
                          ],
                          [
                            0.1111111111111111,
                            "#46039f"
                          ],
                          [
                            0.2222222222222222,
                            "#7201a8"
                          ],
                          [
                            0.3333333333333333,
                            "#9c179e"
                          ],
                          [
                            0.4444444444444444,
                            "#bd3786"
                          ],
                          [
                            0.5555555555555556,
                            "#d8576b"
                          ],
                          [
                            0.6666666666666666,
                            "#ed7953"
                          ],
                          [
                            0.7777777777777778,
                            "#fb9f3a"
                          ],
                          [
                            0.8888888888888888,
                            "#fdca26"
                          ],
                          [
                            1,
                            "#f0f921"
                          ]
                        ],
                        "type": "heatmap"
                      }
                    ],
                    "histogram": [
                      {
                        "marker": {
                          "pattern": {
                            "fillmode": "overlay",
                            "size": 10,
                            "solidity": 0.2
                          }
                        },
                        "type": "histogram"
                      }
                    ],
                    "histogram2d": [
                      {
                        "colorbar": {
                          "outlinewidth": 0,
                          "ticks": ""
                        },
                        "colorscale": [
                          [
                            0,
                            "#0d0887"
                          ],
                          [
                            0.1111111111111111,
                            "#46039f"
                          ],
                          [
                            0.2222222222222222,
                            "#7201a8"
                          ],
                          [
                            0.3333333333333333,
                            "#9c179e"
                          ],
                          [
                            0.4444444444444444,
                            "#bd3786"
                          ],
                          [
                            0.5555555555555556,
                            "#d8576b"
                          ],
                          [
                            0.6666666666666666,
                            "#ed7953"
                          ],
                          [
                            0.7777777777777778,
                            "#fb9f3a"
                          ],
                          [
                            0.8888888888888888,
                            "#fdca26"
                          ],
                          [
                            1,
                            "#f0f921"
                          ]
                        ],
                        "type": "histogram2d"
                      }
                    ],
                    "histogram2dcontour": [
                      {
                        "colorbar": {
                          "outlinewidth": 0,
                          "ticks": ""
                        },
                        "colorscale": [
                          [
                            0,
                            "#0d0887"
                          ],
                          [
                            0.1111111111111111,
                            "#46039f"
                          ],
                          [
                            0.2222222222222222,
                            "#7201a8"
                          ],
                          [
                            0.3333333333333333,
                            "#9c179e"
                          ],
                          [
                            0.4444444444444444,
                            "#bd3786"
                          ],
                          [
                            0.5555555555555556,
                            "#d8576b"
                          ],
                          [
                            0.6666666666666666,
                            "#ed7953"
                          ],
                          [
                            0.7777777777777778,
                            "#fb9f3a"
                          ],
                          [
                            0.8888888888888888,
                            "#fdca26"
                          ],
                          [
                            1,
                            "#f0f921"
                          ]
                        ],
                        "type": "histogram2dcontour"
                      }
                    ],
                    "mesh3d": [
                      {
                        "colorbar": {
                          "outlinewidth": 0,
                          "ticks": ""
                        },
                        "type": "mesh3d"
                      }
                    ],
                    "parcoords": [
                      {
                        "line": {
                          "colorbar": {
                            "outlinewidth": 0,
                            "ticks": ""
                          }
                        },
                        "type": "parcoords"
                      }
                    ],
                    "pie": [
                      {
                        "automargin": true,
                        "type": "pie"
                      }
                    ],
                    "scatter": [
                      {
                        "fillpattern": {
                          "fillmode": "overlay",
                          "size": 10,
                          "solidity": 0.2
                        },
                        "type": "scatter"
                      }
                    ],
                    "scatter3d": [
                      {
                        "line": {
                          "colorbar": {
                            "outlinewidth": 0,
                            "ticks": ""
                          }
                        },
                        "marker": {
                          "colorbar": {
                            "outlinewidth": 0,
                            "ticks": ""
                          }
                        },
                        "type": "scatter3d"
                      }
                    ],
                    "scattercarpet": [
                      {
                        "marker": {
                          "colorbar": {
                            "outlinewidth": 0,
                            "ticks": ""
                          }
                        },
                        "type": "scattercarpet"
                      }
                    ],
                    "scattergeo": [
                      {
                        "marker": {
                          "colorbar": {
                            "outlinewidth": 0,
                            "ticks": ""
                          }
                        },
                        "type": "scattergeo"
                      }
                    ],
                    "scattergl": [
                      {
                        "marker": {
                          "colorbar": {
                            "outlinewidth": 0,
                            "ticks": ""
                          }
                        },
                        "type": "scattergl"
                      }
                    ],
                    "scattermap": [
                      {
                        "marker": {
                          "colorbar": {
                            "outlinewidth": 0,
                            "ticks": ""
                          }
                        },
                        "type": "scattermap"
                      }
                    ],
                    "scattermapbox": [
                      {
                        "marker": {
                          "colorbar": {
                            "outlinewidth": 0,
                            "ticks": ""
                          }
                        },
                        "type": "scattermapbox"
                      }
                    ],
                    "scatterpolar": [
                      {
                        "marker": {
                          "colorbar": {
                            "outlinewidth": 0,
                            "ticks": ""
                          }
                        },
                        "type": "scatterpolar"
                      }
                    ],
                    "scatterpolargl": [
                      {
                        "marker": {
                          "colorbar": {
                            "outlinewidth": 0,
                            "ticks": ""
                          }
                        },
                        "type": "scatterpolargl"
                      }
                    ],
                    "scatterternary": [
                      {
                        "marker": {
                          "colorbar": {
                            "outlinewidth": 0,
                            "ticks": ""
                          }
                        },
                        "type": "scatterternary"
                      }
                    ],
                    "surface": [
                      {
                        "colorbar": {
                          "outlinewidth": 0,
                          "ticks": ""
                        },
                        "colorscale": [
                          [
                            0,
                            "#0d0887"
                          ],
                          [
                            0.1111111111111111,
                            "#46039f"
                          ],
                          [
                            0.2222222222222222,
                            "#7201a8"
                          ],
                          [
                            0.3333333333333333,
                            "#9c179e"
                          ],
                          [
                            0.4444444444444444,
                            "#bd3786"
                          ],
                          [
                            0.5555555555555556,
                            "#d8576b"
                          ],
                          [
                            0.6666666666666666,
                            "#ed7953"
                          ],
                          [
                            0.7777777777777778,
                            "#fb9f3a"
                          ],
                          [
                            0.8888888888888888,
                            "#fdca26"
                          ],
                          [
                            1,
                            "#f0f921"
                          ]
                        ],
                        "type": "surface"
                      }
                    ],
                    "table": [
                      {
                        "cells": {
                          "fill": {
                            "color": "#EBF0F8"
                          },
                          "line": {
                            "color": "white"
                          }
                        },
                        "header": {
                          "fill": {
                            "color": "#C8D4E3"
                          },
                          "line": {
                            "color": "white"
                          }
                        },
                        "type": "table"
                      }
                    ]
                  },
                  "layout": {
                    "annotationdefaults": {
                      "arrowcolor": "#2a3f5f",
                      "arrowhead": 0,
                      "arrowwidth": 1
                    },
                    "autotypenumbers": "strict",
                    "coloraxis": {
                      "colorbar": {
                        "outlinewidth": 0,
                        "ticks": ""
                      }
                    },
                    "colorscale": {
                      "diverging": [
                        [
                          0,
                          "#8e0152"
                        ],
                        [
                          0.1,
                          "#c51b7d"
                        ],
                        [
                          0.2,
                          "#de77ae"
                        ],
                        [
                          0.3,
                          "#f1b6da"
                        ],
                        [
                          0.4,
                          "#fde0ef"
                        ],
                        [
                          0.5,
                          "#f7f7f7"
                        ],
                        [
                          0.6,
                          "#e6f5d0"
                        ],
                        [
                          0.7,
                          "#b8e186"
                        ],
                        [
                          0.8,
                          "#7fbc41"
                        ],
                        [
                          0.9,
                          "#4d9221"
                        ],
                        [
                          1,
                          "#276419"
                        ]
                      ],
                      "sequential": [
                        [
                          0,
                          "#0d0887"
                        ],
                        [
                          0.1111111111111111,
                          "#46039f"
                        ],
                        [
                          0.2222222222222222,
                          "#7201a8"
                        ],
                        [
                          0.3333333333333333,
                          "#9c179e"
                        ],
                        [
                          0.4444444444444444,
                          "#bd3786"
                        ],
                        [
                          0.5555555555555556,
                          "#d8576b"
                        ],
                        [
                          0.6666666666666666,
                          "#ed7953"
                        ],
                        [
                          0.7777777777777778,
                          "#fb9f3a"
                        ],
                        [
                          0.8888888888888888,
                          "#fdca26"
                        ],
                        [
                          1,
                          "#f0f921"
                        ]
                      ],
                      "sequentialminus": [
                        [
                          0,
                          "#0d0887"
                        ],
                        [
                          0.1111111111111111,
                          "#46039f"
                        ],
                        [
                          0.2222222222222222,
                          "#7201a8"
                        ],
                        [
                          0.3333333333333333,
                          "#9c179e"
                        ],
                        [
                          0.4444444444444444,
                          "#bd3786"
                        ],
                        [
                          0.5555555555555556,
                          "#d8576b"
                        ],
                        [
                          0.6666666666666666,
                          "#ed7953"
                        ],
                        [
                          0.7777777777777778,
                          "#fb9f3a"
                        ],
                        [
                          0.8888888888888888,
                          "#fdca26"
                        ],
                        [
                          1,
                          "#f0f921"
                        ]
                      ]
                    },
                    "colorway": [
                      "#636efa",
                      "#EF553B",
                      "#00cc96",
                      "#ab63fa",
                      "#FFA15A",
                      "#19d3f3",
                      "#FF6692",
                      "#B6E880",
                      "#FF97FF",
                      "#FECB52"
                    ],
                    "font": {
                      "color": "#2a3f5f"
                    },
                    "geo": {
                      "bgcolor": "white",
                      "lakecolor": "white",
                      "landcolor": "white",
                      "showlakes": true,
                      "showland": true,
                      "subunitcolor": "#C8D4E3"
                    },
                    "hoverlabel": {
                      "align": "left"
                    },
                    "hovermode": "closest",
                    "mapbox": {
                      "style": "light"
                    },
                    "paper_bgcolor": "white",
                    "plot_bgcolor": "white",
                    "polar": {
                      "angularaxis": {
                        "gridcolor": "#EBF0F8",
                        "linecolor": "#EBF0F8",
                        "ticks": ""
                      },
                      "bgcolor": "white",
                      "radialaxis": {
                        "gridcolor": "#EBF0F8",
                        "linecolor": "#EBF0F8",
                        "ticks": ""
                      }
                    },
                    "scene": {
                      "xaxis": {
                        "backgroundcolor": "white",
                        "gridcolor": "#DFE8F3",
                        "gridwidth": 2,
                        "linecolor": "#EBF0F8",
                        "showbackground": true,
                        "ticks": "",
                        "zerolinecolor": "#EBF0F8"
                      },
                      "yaxis": {
                        "backgroundcolor": "white",
                        "gridcolor": "#DFE8F3",
                        "gridwidth": 2,
                        "linecolor": "#EBF0F8",
                        "showbackground": true,
                        "ticks": "",
                        "zerolinecolor": "#EBF0F8"
                      },
                      "zaxis": {
                        "backgroundcolor": "white",
                        "gridcolor": "#DFE8F3",
                        "gridwidth": 2,
                        "linecolor": "#EBF0F8",
                        "showbackground": true,
                        "ticks": "",
                        "zerolinecolor": "#EBF0F8"
                      }
                    },
                    "shapedefaults": {
                      "line": {
                        "color": "#2a3f5f"
                      }
                    },
                    "ternary": {
                      "aaxis": {
                        "gridcolor": "#DFE8F3",
                        "linecolor": "#A2B1C6",
                        "ticks": ""
                      },
                      "baxis": {
                        "gridcolor": "#DFE8F3",
                        "linecolor": "#A2B1C6",
                        "ticks": ""
                      },
                      "bgcolor": "white",
                      "caxis": {
                        "gridcolor": "#DFE8F3",
                        "linecolor": "#A2B1C6",
                        "ticks": ""
                      }
                    },
                    "title": {
                      "x": 0.05
                    },
                    "xaxis": {
                      "automargin": true,
                      "gridcolor": "#EBF0F8",
                      "linecolor": "#EBF0F8",
                      "ticks": "",
                      "title": {
                        "standoff": 15
                      },
                      "zerolinecolor": "#EBF0F8",
                      "zerolinewidth": 2
                    },
                    "yaxis": {
                      "automargin": true,
                      "gridcolor": "#EBF0F8",
                      "linecolor": "#EBF0F8",
                      "ticks": "",
                      "title": {
                        "standoff": 15
                      },
                      "zerolinecolor": "#EBF0F8",
                      "zerolinewidth": 2
                    }
                  }
                },
                "title": {
                  "text": "Distribution of House Sale Prices"
                },
                "xaxis": {
                  "anchor": "y",
                  "domain": [
                    0,
                    1
                  ],
                  "title": {
                    "text": "Sale Price (USD)"
                  }
                },
                "yaxis": {
                  "anchor": "x",
                  "domain": [
                    0,
                    1
                  ],
                  "title": {
                    "text": "Number of Properties"
                  }
                }
              }
            }
          },
          "metadata": {},
          "output_type": "display_data"
        }
      ],
      "source": [
        "# Annotated Code Block: Histogram of Sale Prices\n",
        "\n",
        "import pandas as pd\n",
        "import plotly.express as px\n",
        "\n",
        "# Load the dataset\n",
        "df = pd.read_csv('../data/processed/cleaned_data.csv')\n",
        "\n",
        "# Create histogram to show distribution of Sale Prices\n",
        "fig = px.histogram(\n",
        "    df,\n",
        "    x='SalePrice',                          # X-axis: sale prices\n",
        "    nbins=40,                               # Controls granularity\n",
        "    title='Distribution of House Sale Prices',\n",
        "    labels={'SalePrice': 'Sale Price (USD)'}, \n",
        "    opacity=0.75,                           # Transparency level\n",
        "    color_discrete_sequence=['blue']       # Visual style\n",
        ")\n",
        "\n",
        "# Layout improvements\n",
        "fig.update_layout(\n",
        "    xaxis_title='Sale Price (USD)',\n",
        "    yaxis_title='Number of Properties',\n",
        "    bargap=0.05,                            # Bar spacing\n",
        "    template='plotly_white'\n",
        ")\n",
        "\n",
        "# Save to images folder\n",
        "fig.write_image(\"../images/histogram_saleprice.png\")\n",
        "\n",
        "# Show chart\n",
        "fig.show()"
      ]
    },
    {
      "cell_type": "markdown",
      "metadata": {},
      "source": [
        "### Clarification on Time Period Represented\n",
        "\n",
        "The histogram above displays the **distribution of house sale prices** across the entire dataset. While the dataset contains properties built and remodeled between **1872 and 2010**, this chart is **not time-based**. \n",
        "\n",
        "Instead, the histogram provides a **cross-sectional view** — it groups all sale prices together to show how frequently certain price ranges occur, **regardless of the year** the property was built or sold.\n",
        "\n",
        "This helps Lydia and other users quickly assess typical property values and identify price concentration and outliers, without being affected by the timeline."
      ]
    },
    {
      "cell_type": "markdown",
      "metadata": {},
      "source": [
        "### Bar Chart: Average Sale Price by Decade Built\n",
        "\n",
        "This bar chart provides a cleaner and more insightful view by summarising average house sale prices per decade. This helps Lydia and other stakeholders:\n",
        "\n",
        "- Track how housing values have **evolved over time**.\n",
        "- Observe whether **newer properties consistently demand higher prices**.\n",
        "- Detect price trends that may correlate with economic or construction quality shifts.\n",
        "\n",
        "#### **Key Insights:**\n",
        "- Homes built after **2000** have the **highest average sale prices**.\n",
        "- Properties from the **early 20th century** show more modest pricing, likely due to age and modernisation gaps.\n",
        "- The chart supports clearer interpretation by reducing yearly noise.\n",
        "\n",
        "> Chart saved as: `images/bar_avg_saleprice_decadebuilt.png`"
      ]
    },
    {
      "cell_type": "code",
      "execution_count": 33,
      "metadata": {},
      "outputs": [
        {
          "data": {
            "application/vnd.plotly.v1+json": {
              "config": {
                "plotlyServerURL": "https://plot.ly"
              },
              "data": [
                {
                  "hovertemplate": "Decade Built=%{x}<br>Average Sale Price (USD)=%{y:.2f}<extra></extra>",
                  "legendgroup": "",
                  "marker": {
                    "color": "#636efa",
                    "pattern": {
                      "shape": ""
                    }
                  },
                  "name": "",
                  "orientation": "v",
                  "showlegend": false,
                  "textposition": "auto",
                  "texttemplate": "%{y}",
                  "type": "bar",
                  "x": {
                    "bdata": "TgdYB2IHbAd2B4AHigeUB54HqAeyB7wHxgfQB9oH",
                    "dtype": "i2"
                  },
                  "xaxis": "x",
                  "y": {
                    "bdata": "AAAAAABe+kCSJEmSzM0EQVVVVVXlZwpBZmZmZkay/0A+jbDcuw0AQWQatptFGP5Aq6qqqv6gAUFBVDqyd/r+QKZMgl09NAFB7FG4HuXHAkFdQUyu4qcCQXa0eZ8CNAdBMatRxKHhC0FgpQJU84sNQQAAAAAAExhB",
                    "dtype": "f8"
                  },
                  "yaxis": "y"
                }
              ],
              "layout": {
                "barmode": "relative",
                "legend": {
                  "tracegroupgap": 0
                },
                "template": {
                  "data": {
                    "bar": [
                      {
                        "error_x": {
                          "color": "#2a3f5f"
                        },
                        "error_y": {
                          "color": "#2a3f5f"
                        },
                        "marker": {
                          "line": {
                            "color": "white",
                            "width": 0.5
                          },
                          "pattern": {
                            "fillmode": "overlay",
                            "size": 10,
                            "solidity": 0.2
                          }
                        },
                        "type": "bar"
                      }
                    ],
                    "barpolar": [
                      {
                        "marker": {
                          "line": {
                            "color": "white",
                            "width": 0.5
                          },
                          "pattern": {
                            "fillmode": "overlay",
                            "size": 10,
                            "solidity": 0.2
                          }
                        },
                        "type": "barpolar"
                      }
                    ],
                    "carpet": [
                      {
                        "aaxis": {
                          "endlinecolor": "#2a3f5f",
                          "gridcolor": "#C8D4E3",
                          "linecolor": "#C8D4E3",
                          "minorgridcolor": "#C8D4E3",
                          "startlinecolor": "#2a3f5f"
                        },
                        "baxis": {
                          "endlinecolor": "#2a3f5f",
                          "gridcolor": "#C8D4E3",
                          "linecolor": "#C8D4E3",
                          "minorgridcolor": "#C8D4E3",
                          "startlinecolor": "#2a3f5f"
                        },
                        "type": "carpet"
                      }
                    ],
                    "choropleth": [
                      {
                        "colorbar": {
                          "outlinewidth": 0,
                          "ticks": ""
                        },
                        "type": "choropleth"
                      }
                    ],
                    "contour": [
                      {
                        "colorbar": {
                          "outlinewidth": 0,
                          "ticks": ""
                        },
                        "colorscale": [
                          [
                            0,
                            "#0d0887"
                          ],
                          [
                            0.1111111111111111,
                            "#46039f"
                          ],
                          [
                            0.2222222222222222,
                            "#7201a8"
                          ],
                          [
                            0.3333333333333333,
                            "#9c179e"
                          ],
                          [
                            0.4444444444444444,
                            "#bd3786"
                          ],
                          [
                            0.5555555555555556,
                            "#d8576b"
                          ],
                          [
                            0.6666666666666666,
                            "#ed7953"
                          ],
                          [
                            0.7777777777777778,
                            "#fb9f3a"
                          ],
                          [
                            0.8888888888888888,
                            "#fdca26"
                          ],
                          [
                            1,
                            "#f0f921"
                          ]
                        ],
                        "type": "contour"
                      }
                    ],
                    "contourcarpet": [
                      {
                        "colorbar": {
                          "outlinewidth": 0,
                          "ticks": ""
                        },
                        "type": "contourcarpet"
                      }
                    ],
                    "heatmap": [
                      {
                        "colorbar": {
                          "outlinewidth": 0,
                          "ticks": ""
                        },
                        "colorscale": [
                          [
                            0,
                            "#0d0887"
                          ],
                          [
                            0.1111111111111111,
                            "#46039f"
                          ],
                          [
                            0.2222222222222222,
                            "#7201a8"
                          ],
                          [
                            0.3333333333333333,
                            "#9c179e"
                          ],
                          [
                            0.4444444444444444,
                            "#bd3786"
                          ],
                          [
                            0.5555555555555556,
                            "#d8576b"
                          ],
                          [
                            0.6666666666666666,
                            "#ed7953"
                          ],
                          [
                            0.7777777777777778,
                            "#fb9f3a"
                          ],
                          [
                            0.8888888888888888,
                            "#fdca26"
                          ],
                          [
                            1,
                            "#f0f921"
                          ]
                        ],
                        "type": "heatmap"
                      }
                    ],
                    "histogram": [
                      {
                        "marker": {
                          "pattern": {
                            "fillmode": "overlay",
                            "size": 10,
                            "solidity": 0.2
                          }
                        },
                        "type": "histogram"
                      }
                    ],
                    "histogram2d": [
                      {
                        "colorbar": {
                          "outlinewidth": 0,
                          "ticks": ""
                        },
                        "colorscale": [
                          [
                            0,
                            "#0d0887"
                          ],
                          [
                            0.1111111111111111,
                            "#46039f"
                          ],
                          [
                            0.2222222222222222,
                            "#7201a8"
                          ],
                          [
                            0.3333333333333333,
                            "#9c179e"
                          ],
                          [
                            0.4444444444444444,
                            "#bd3786"
                          ],
                          [
                            0.5555555555555556,
                            "#d8576b"
                          ],
                          [
                            0.6666666666666666,
                            "#ed7953"
                          ],
                          [
                            0.7777777777777778,
                            "#fb9f3a"
                          ],
                          [
                            0.8888888888888888,
                            "#fdca26"
                          ],
                          [
                            1,
                            "#f0f921"
                          ]
                        ],
                        "type": "histogram2d"
                      }
                    ],
                    "histogram2dcontour": [
                      {
                        "colorbar": {
                          "outlinewidth": 0,
                          "ticks": ""
                        },
                        "colorscale": [
                          [
                            0,
                            "#0d0887"
                          ],
                          [
                            0.1111111111111111,
                            "#46039f"
                          ],
                          [
                            0.2222222222222222,
                            "#7201a8"
                          ],
                          [
                            0.3333333333333333,
                            "#9c179e"
                          ],
                          [
                            0.4444444444444444,
                            "#bd3786"
                          ],
                          [
                            0.5555555555555556,
                            "#d8576b"
                          ],
                          [
                            0.6666666666666666,
                            "#ed7953"
                          ],
                          [
                            0.7777777777777778,
                            "#fb9f3a"
                          ],
                          [
                            0.8888888888888888,
                            "#fdca26"
                          ],
                          [
                            1,
                            "#f0f921"
                          ]
                        ],
                        "type": "histogram2dcontour"
                      }
                    ],
                    "mesh3d": [
                      {
                        "colorbar": {
                          "outlinewidth": 0,
                          "ticks": ""
                        },
                        "type": "mesh3d"
                      }
                    ],
                    "parcoords": [
                      {
                        "line": {
                          "colorbar": {
                            "outlinewidth": 0,
                            "ticks": ""
                          }
                        },
                        "type": "parcoords"
                      }
                    ],
                    "pie": [
                      {
                        "automargin": true,
                        "type": "pie"
                      }
                    ],
                    "scatter": [
                      {
                        "fillpattern": {
                          "fillmode": "overlay",
                          "size": 10,
                          "solidity": 0.2
                        },
                        "type": "scatter"
                      }
                    ],
                    "scatter3d": [
                      {
                        "line": {
                          "colorbar": {
                            "outlinewidth": 0,
                            "ticks": ""
                          }
                        },
                        "marker": {
                          "colorbar": {
                            "outlinewidth": 0,
                            "ticks": ""
                          }
                        },
                        "type": "scatter3d"
                      }
                    ],
                    "scattercarpet": [
                      {
                        "marker": {
                          "colorbar": {
                            "outlinewidth": 0,
                            "ticks": ""
                          }
                        },
                        "type": "scattercarpet"
                      }
                    ],
                    "scattergeo": [
                      {
                        "marker": {
                          "colorbar": {
                            "outlinewidth": 0,
                            "ticks": ""
                          }
                        },
                        "type": "scattergeo"
                      }
                    ],
                    "scattergl": [
                      {
                        "marker": {
                          "colorbar": {
                            "outlinewidth": 0,
                            "ticks": ""
                          }
                        },
                        "type": "scattergl"
                      }
                    ],
                    "scattermap": [
                      {
                        "marker": {
                          "colorbar": {
                            "outlinewidth": 0,
                            "ticks": ""
                          }
                        },
                        "type": "scattermap"
                      }
                    ],
                    "scattermapbox": [
                      {
                        "marker": {
                          "colorbar": {
                            "outlinewidth": 0,
                            "ticks": ""
                          }
                        },
                        "type": "scattermapbox"
                      }
                    ],
                    "scatterpolar": [
                      {
                        "marker": {
                          "colorbar": {
                            "outlinewidth": 0,
                            "ticks": ""
                          }
                        },
                        "type": "scatterpolar"
                      }
                    ],
                    "scatterpolargl": [
                      {
                        "marker": {
                          "colorbar": {
                            "outlinewidth": 0,
                            "ticks": ""
                          }
                        },
                        "type": "scatterpolargl"
                      }
                    ],
                    "scatterternary": [
                      {
                        "marker": {
                          "colorbar": {
                            "outlinewidth": 0,
                            "ticks": ""
                          }
                        },
                        "type": "scatterternary"
                      }
                    ],
                    "surface": [
                      {
                        "colorbar": {
                          "outlinewidth": 0,
                          "ticks": ""
                        },
                        "colorscale": [
                          [
                            0,
                            "#0d0887"
                          ],
                          [
                            0.1111111111111111,
                            "#46039f"
                          ],
                          [
                            0.2222222222222222,
                            "#7201a8"
                          ],
                          [
                            0.3333333333333333,
                            "#9c179e"
                          ],
                          [
                            0.4444444444444444,
                            "#bd3786"
                          ],
                          [
                            0.5555555555555556,
                            "#d8576b"
                          ],
                          [
                            0.6666666666666666,
                            "#ed7953"
                          ],
                          [
                            0.7777777777777778,
                            "#fb9f3a"
                          ],
                          [
                            0.8888888888888888,
                            "#fdca26"
                          ],
                          [
                            1,
                            "#f0f921"
                          ]
                        ],
                        "type": "surface"
                      }
                    ],
                    "table": [
                      {
                        "cells": {
                          "fill": {
                            "color": "#EBF0F8"
                          },
                          "line": {
                            "color": "white"
                          }
                        },
                        "header": {
                          "fill": {
                            "color": "#C8D4E3"
                          },
                          "line": {
                            "color": "white"
                          }
                        },
                        "type": "table"
                      }
                    ]
                  },
                  "layout": {
                    "annotationdefaults": {
                      "arrowcolor": "#2a3f5f",
                      "arrowhead": 0,
                      "arrowwidth": 1
                    },
                    "autotypenumbers": "strict",
                    "coloraxis": {
                      "colorbar": {
                        "outlinewidth": 0,
                        "ticks": ""
                      }
                    },
                    "colorscale": {
                      "diverging": [
                        [
                          0,
                          "#8e0152"
                        ],
                        [
                          0.1,
                          "#c51b7d"
                        ],
                        [
                          0.2,
                          "#de77ae"
                        ],
                        [
                          0.3,
                          "#f1b6da"
                        ],
                        [
                          0.4,
                          "#fde0ef"
                        ],
                        [
                          0.5,
                          "#f7f7f7"
                        ],
                        [
                          0.6,
                          "#e6f5d0"
                        ],
                        [
                          0.7,
                          "#b8e186"
                        ],
                        [
                          0.8,
                          "#7fbc41"
                        ],
                        [
                          0.9,
                          "#4d9221"
                        ],
                        [
                          1,
                          "#276419"
                        ]
                      ],
                      "sequential": [
                        [
                          0,
                          "#0d0887"
                        ],
                        [
                          0.1111111111111111,
                          "#46039f"
                        ],
                        [
                          0.2222222222222222,
                          "#7201a8"
                        ],
                        [
                          0.3333333333333333,
                          "#9c179e"
                        ],
                        [
                          0.4444444444444444,
                          "#bd3786"
                        ],
                        [
                          0.5555555555555556,
                          "#d8576b"
                        ],
                        [
                          0.6666666666666666,
                          "#ed7953"
                        ],
                        [
                          0.7777777777777778,
                          "#fb9f3a"
                        ],
                        [
                          0.8888888888888888,
                          "#fdca26"
                        ],
                        [
                          1,
                          "#f0f921"
                        ]
                      ],
                      "sequentialminus": [
                        [
                          0,
                          "#0d0887"
                        ],
                        [
                          0.1111111111111111,
                          "#46039f"
                        ],
                        [
                          0.2222222222222222,
                          "#7201a8"
                        ],
                        [
                          0.3333333333333333,
                          "#9c179e"
                        ],
                        [
                          0.4444444444444444,
                          "#bd3786"
                        ],
                        [
                          0.5555555555555556,
                          "#d8576b"
                        ],
                        [
                          0.6666666666666666,
                          "#ed7953"
                        ],
                        [
                          0.7777777777777778,
                          "#fb9f3a"
                        ],
                        [
                          0.8888888888888888,
                          "#fdca26"
                        ],
                        [
                          1,
                          "#f0f921"
                        ]
                      ]
                    },
                    "colorway": [
                      "#636efa",
                      "#EF553B",
                      "#00cc96",
                      "#ab63fa",
                      "#FFA15A",
                      "#19d3f3",
                      "#FF6692",
                      "#B6E880",
                      "#FF97FF",
                      "#FECB52"
                    ],
                    "font": {
                      "color": "#2a3f5f"
                    },
                    "geo": {
                      "bgcolor": "white",
                      "lakecolor": "white",
                      "landcolor": "white",
                      "showlakes": true,
                      "showland": true,
                      "subunitcolor": "#C8D4E3"
                    },
                    "hoverlabel": {
                      "align": "left"
                    },
                    "hovermode": "closest",
                    "mapbox": {
                      "style": "light"
                    },
                    "paper_bgcolor": "white",
                    "plot_bgcolor": "white",
                    "polar": {
                      "angularaxis": {
                        "gridcolor": "#EBF0F8",
                        "linecolor": "#EBF0F8",
                        "ticks": ""
                      },
                      "bgcolor": "white",
                      "radialaxis": {
                        "gridcolor": "#EBF0F8",
                        "linecolor": "#EBF0F8",
                        "ticks": ""
                      }
                    },
                    "scene": {
                      "xaxis": {
                        "backgroundcolor": "white",
                        "gridcolor": "#DFE8F3",
                        "gridwidth": 2,
                        "linecolor": "#EBF0F8",
                        "showbackground": true,
                        "ticks": "",
                        "zerolinecolor": "#EBF0F8"
                      },
                      "yaxis": {
                        "backgroundcolor": "white",
                        "gridcolor": "#DFE8F3",
                        "gridwidth": 2,
                        "linecolor": "#EBF0F8",
                        "showbackground": true,
                        "ticks": "",
                        "zerolinecolor": "#EBF0F8"
                      },
                      "zaxis": {
                        "backgroundcolor": "white",
                        "gridcolor": "#DFE8F3",
                        "gridwidth": 2,
                        "linecolor": "#EBF0F8",
                        "showbackground": true,
                        "ticks": "",
                        "zerolinecolor": "#EBF0F8"
                      }
                    },
                    "shapedefaults": {
                      "line": {
                        "color": "#2a3f5f"
                      }
                    },
                    "ternary": {
                      "aaxis": {
                        "gridcolor": "#DFE8F3",
                        "linecolor": "#A2B1C6",
                        "ticks": ""
                      },
                      "baxis": {
                        "gridcolor": "#DFE8F3",
                        "linecolor": "#A2B1C6",
                        "ticks": ""
                      },
                      "bgcolor": "white",
                      "caxis": {
                        "gridcolor": "#DFE8F3",
                        "linecolor": "#A2B1C6",
                        "ticks": ""
                      }
                    },
                    "title": {
                      "x": 0.05
                    },
                    "xaxis": {
                      "automargin": true,
                      "gridcolor": "#EBF0F8",
                      "linecolor": "#EBF0F8",
                      "ticks": "",
                      "title": {
                        "standoff": 15
                      },
                      "zerolinecolor": "#EBF0F8",
                      "zerolinewidth": 2
                    },
                    "yaxis": {
                      "automargin": true,
                      "gridcolor": "#EBF0F8",
                      "linecolor": "#EBF0F8",
                      "ticks": "",
                      "title": {
                        "standoff": 15
                      },
                      "zerolinecolor": "#EBF0F8",
                      "zerolinewidth": 2
                    }
                  }
                },
                "title": {
                  "font": {
                    "size": 18
                  },
                  "text": "Average Sale Price by Decade Built"
                },
                "xaxis": {
                  "anchor": "y",
                  "domain": [
                    0,
                    1
                  ],
                  "dtick": 10,
                  "tick0": 1870,
                  "tickmode": "linear",
                  "title": {
                    "text": "Decade Built"
                  }
                },
                "yaxis": {
                  "anchor": "x",
                  "domain": [
                    0,
                    1
                  ],
                  "title": {
                    "text": "Average Sale Price (USD)"
                  }
                }
              }
            }
          },
          "metadata": {},
          "output_type": "display_data"
        }
      ],
      "source": [
        "# Import required library\n",
        "import plotly.express as px\n",
        "\n",
        "# Step 1: Group by decade for a clearer trend view\n",
        "df[\"DecadeBuilt\"] = (df[\"YearBuilt\"] // 10) * 10\n",
        "avg_price_by_decade = df.groupby(\"DecadeBuilt\")[\"SalePrice\"].mean().reset_index()\n",
        "\n",
        "# Step 2: Create a cleaner, readable bar chart\n",
        "fig = px.bar(\n",
        "    avg_price_by_decade,\n",
        "    x=\"DecadeBuilt\",\n",
        "    y=\"SalePrice\",\n",
        "    title=\"Average Sale Price by Decade Built\",\n",
        "    labels={\n",
        "        \"DecadeBuilt\": \"Decade Built\",\n",
        "        \"SalePrice\": \"Average Sale Price (USD)\"\n",
        "    },\n",
        "    hover_data={\"DecadeBuilt\": True, \"SalePrice\": ':.2f'},  # formatted hover\n",
        "    text_auto=True,\n",
        "    template=\"plotly_white\"\n",
        ")\n",
        "\n",
        "# Step 3: Tidy up layout\n",
        "fig.update_layout(\n",
        "    xaxis=dict(tickmode='linear', tick0=1870, dtick=10),\n",
        "    yaxis_title=\"Average Sale Price (USD)\",\n",
        "    xaxis_title=\"Decade Built\",\n",
        "    title_font_size=18\n",
        ")\n",
        "\n",
        "# Step 4: Show chart\n",
        "fig.show()\n",
        "\n",
        "# Step 5: Save chart to images folder\n",
        "fig.write_image(\"../images/bar_avg_saleprice_decadebuilt.png\")"
      ]
    },
    {
      "cell_type": "markdown",
      "metadata": {},
      "source": [
        "## Training a Second Model: Random Forest Regressor\n",
        "\n",
        "To complement the earlier linear regression model, we trained a **Random Forest Regressor**, which is a non-linear ensemble model capable of capturing complex interactions between features.\n",
        "\n",
        "This model uses the top 10 most correlated predictors from our earlier analysis to estimate house sale prices. We split the data into 80% training and 20% testing sets to evaluate generalisation.\n",
        "\n",
        "**Model Evaluation Metrics:**\n",
        "- **MAE (Mean Absolute Error)**: Measures average prediction error in dollars.\n",
        "- **RMSE (Root Mean Squared Error)**: Penalises large errors more heavily.\n",
        "- **R² (Coefficient of Determination)**: Indicates how much variance is explained by the model.\n",
        "\n",
        "The trained model is saved as `random_forest_model.pkl` in the `models` directory and will be compared with the linear regression model in the final analysis."
      ]
    },
    {
      "cell_type": "code",
      "execution_count": 38,
      "metadata": {},
      "outputs": [
        {
          "name": "stdout",
          "output_type": "stream",
          "text": [
            "Random Forest MAE: 19014.93\n",
            "Random Forest RMSE: 938850670.74\n",
            "Random Forest R²: 0.8776\n"
          ]
        },
        {
          "data": {
            "text/plain": [
              "['../models/random_forest_model.pkl']"
            ]
          },
          "execution_count": 38,
          "metadata": {},
          "output_type": "execute_result"
        }
      ],
      "source": [
        "# Import necessary libraries\n",
        "from sklearn.ensemble import RandomForestRegressor\n",
        "from sklearn.model_selection import train_test_split\n",
        "from sklearn.metrics import mean_squared_error\n",
        "import numpy as np\n",
        "\n",
        "#  Define features and target variable\n",
        "features = [\n",
        "    'OverallQual', 'GrLivArea', 'GarageArea', 'TotalBsmtSF', '1stFlrSF',\n",
        "    'YearBuilt', 'YearRemodAdd', 'MasVnrArea', 'GarageYrBlt', 'BsmtFinSF1'\n",
        "]\n",
        "X = df[features]\n",
        "y = df['SalePrice']\n",
        "\n",
        "#  Split the data into training and testing sets\n",
        "X_train, X_test, y_train, y_test = train_test_split(X, y, test_size=0.2, random_state=42)\n",
        "\n",
        "# Initialize and train the Random Forest model\n",
        "rf_model = RandomForestRegressor(n_estimators=100, random_state=42)\n",
        "rf_model.fit(X_train, y_train)\n",
        "\n",
        "# Make predictions\n",
        "y_pred_rf = rf_model.predict(X_test)\n",
        "\n",
        "# Step 6: Evaluate the model\n",
        "mae = mean_absolute_error(y_test, y_pred_rf)\n",
        "rmse = mean_squared_error(y_test, y_pred_rf)\n",
        "r2 = r2_score(y_test, y_pred_rf)\n",
        "\n",
        "print(f\"Random Forest MAE: {mae:.2f}\")\n",
        "print(f\"Random Forest RMSE: {rmse:.2f}\")\n",
        "print(f\"Random Forest R²: {r2:.4f}\")\n",
        "\n",
        "# Save the trained model\n",
        "joblib.dump(rf_model, '../models/random_forest_model.pkl')"
      ]
    },
    {
      "cell_type": "markdown",
      "metadata": {},
      "source": [
        "## Model Comparison and Justification \n",
        "\n",
        "To improve prediction accuracy, a second model (**Random Forest**) was trained and compared with the first model (**Linear Regression**).\n",
        "\n",
        "- **Linear Regression** is a simple model that assumes a straight-line relationship between features and house prices.\n",
        "- **Random Forest** is a more advanced model that uses many decision trees to capture complex patterns in the data.\n",
        "\n",
        "### Why use two models?\n",
        "\n",
        "- **Linear Regression** is easy to understand and useful for explaining how different features relate to price.\n",
        "- **Random Forest** handles more complex patterns and makes more accurate predictions.\n",
        "\n",
        "### How do they compare?\n",
        "\n",
        "- The **Random Forest model** had a lower error and a higher R² score than the Linear Regression model.\n",
        "- This means Random Forest was better at predicting sale prices.\n",
        "\n",
        "Using both models helps us balance **interpretability** and **accuracy**, and provides Lydia with a stronger pricing tool."
      ]
    },
    {
      "cell_type": "markdown",
      "metadata": {},
      "source": [
        "## Using the Trained Models \n",
        "\n",
        "This section explains how the saved models can be reused to make predictions on new housing data.\n",
        "\n",
        "Both models - Linear Regression and Random Forest - have been saved in the `models/` directory. These can be reloaded using the `joblib` library in Python, allowing predictions to be made without retraining the models.\n",
        "\n",
        "Python Code can be loaded into a new cell on any notebook\n",
        "\n",
        "`import joblib`\n",
        "\n",
        "Load the saved model\n",
        "`model = joblib.load('../models/linear_regression_model.pkl')`\n",
        "\n",
        "Use the model for predictions\n",
        "`predictions = model.predict(X_new)  # assuming X_new is your new data`\n",
        "\n",
        "This is particularly useful for:\n",
        "- Building an interactive dashboard where users can input house features and get price predictions.\n",
        "- Running automated predictions on new or incoming datasets."
      ]
    },
    {
      "cell_type": "markdown",
      "metadata": {},
      "source": [
        "### Predicting House Sale Price from User Input\n",
        "\n",
        "This section demonstrates how to use the trained machine learning model to predict the sale price of a house based on specific property features provided by a user. The model used here has been previously trained and saved using the `joblib` library. Here's how it works:\n",
        "\n",
        "- **Model Loading**: The saved model file (`random_forest_model.pkl` or `linear_regression_model.pkl`) is loaded from disk using `joblib.load()`.\n",
        "- **Input Preparation**: A new property profile is defined using a `pandas` DataFrame. It must match the format and feature names used during model training.\n",
        "- **Feature Examples**:\n",
        "  - `OverallQual`: Quality rating from 1 (Very Poor) to 10 (Very Excellent).\n",
        "  - `GrLivArea`: Above ground living area (in square feet).\n",
        "  - `GarageArea`: Size of the garage (in square feet).\n",
        "  - `TotalBsmtSF`, `1stFlrSF`: Basement and 1st floor area.\n",
        "  - Other features capture remodel year, build year, and basement finish details.\n",
        "\n",
        "- **Prediction**: The model generates a predicted sale price for the house based on the input features.\n",
        "\n",
        "This allows users — such as potential sellers or property investors — to estimate property value dynamically based on changing input parameters.\n",
        "\n",
        "Please view the example below:"
      ]
    },
    {
      "cell_type": "code",
      "execution_count": 43,
      "metadata": {},
      "outputs": [
        {
          "name": "stdout",
          "output_type": "stream",
          "text": [
            "Predicted Sale Price: $206,869.88\n"
          ]
        }
      ],
      "source": [
        "# Import libraries\n",
        "import joblib\n",
        "import pandas as pd\n",
        "\n",
        "# Load a saved model (choose either one)\n",
        "# model = joblib.load('models/linear_regression_model.pkl')\n",
        "model = joblib.load('../models/random_forest_model.pkl')\n",
        "\n",
        "# Prepare new input data (make sure columns match training features)\n",
        "new_data = pd.DataFrame({\n",
        "    'OverallQual': [7],        # Rating scale from 1 (Very Poor) to 10 (Very Excellent)\n",
        "    'GrLivArea': [1800],       # Above ground living area in square feet\n",
        "    'GarageArea': [400],       # Size of the garage in square feet\n",
        "    'TotalBsmtSF': [1000],     # Total basement area in square feet\n",
        "    '1stFlrSF': [1200],        # First floor square footage in square feet\n",
        "    'YearBuilt': [2005],       # Year the house was originally built\n",
        "    'YearRemodAdd': [2007],    # Year of the most recent remodel or addition\n",
        "    'MasVnrArea': [100],       # Masonry veneer area in square feet\n",
        "    'GarageYrBlt': [2005],     # Year the garage was built\n",
        "    'BsmtFinSF1': [500]        # Finished square feet of basement (Type 1)\n",
        "})\n",
        "\n",
        "# Predict sale price\n",
        "predicted_price = model.predict(new_data)\n",
        "print(f\"Predicted Sale Price: ${predicted_price[0]:,.2f}\")"
      ]
    },
    {
      "cell_type": "code",
      "execution_count": 44,
      "metadata": {},
      "outputs": [
        {
          "name": "stdout",
          "output_type": "stream",
          "text": [
            "['1stFlrSF', '2ndFlrSF', 'BedroomAbvGr', 'BsmtExposure', 'BsmtFinSF1', 'BsmtFinType1', 'BsmtUnfSF', 'GarageArea', 'GarageFinish', 'GarageYrBlt', 'GrLivArea', 'KitchenQual', 'LotArea', 'MasVnrArea', 'OpenPorchSF', 'OverallCond', 'OverallQual', 'TotalBsmtSF', 'YearBuilt', 'YearRemodAdd', 'SalePrice', 'DecadeBuilt']\n"
          ]
        }
      ],
      "source": [
        "print(df.columns.tolist())"
      ]
    }
  ],
  "metadata": {
    "accelerator": "GPU",
    "colab": {
      "name": "Data Practitioner Jupyter Notebook.ipynb",
      "provenance": [],
      "toc_visible": true
    },
    "interpreter": {
      "hash": "8b8334dab9339717f727a1deaf837b322d7a41c20d15cc86be99a8e69ceec8ce"
    },
    "kernelspec": {
      "display_name": "Python 3.8.12 64-bit ('3.8.12': pyenv)",
      "name": "python3"
    },
    "language_info": {
      "codemirror_mode": {
        "name": "ipython",
        "version": 3
      },
      "file_extension": ".py",
      "mimetype": "text/x-python",
      "name": "python",
      "nbconvert_exporter": "python",
      "pygments_lexer": "ipython3",
      "version": "3.12.8"
    },
    "orig_nbformat": 2
  },
  "nbformat": 4,
  "nbformat_minor": 2
}
